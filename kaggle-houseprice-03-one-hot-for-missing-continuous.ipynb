{
 "cells": [
  {
   "cell_type": "markdown",
   "metadata": {},
   "source": [
    "# House Prices: Advanced Regression Techniques (Kaggle)"
   ]
  },
  {
   "cell_type": "markdown",
   "metadata": {},
   "source": [
    "## 03-one-hot-for-missing-continuous"
   ]
  },
  {
   "cell_type": "markdown",
   "metadata": {},
   "source": [
    "Sources:\n",
    "* Kaggle competition: https://www.kaggle.com/c/house-prices-advanced-regression-techniques\n",
    "* Check missing values: https://www.kaggle.com/willkoehrsen/start-here-a-gentle-introduction by Will Koehrsen\n",
    "* Neural net implementation: https://yashuseth.blog/2018/07/22/pytorch-neural-network-for-tabular-data-with-categorical-embeddings/ by Yashu Seth"
   ]
  },
  {
   "cell_type": "markdown",
   "metadata": {},
   "source": [
    "## Problem description"
   ]
  },
  {
   "cell_type": "markdown",
   "metadata": {},
   "source": [
    "**Previous**:\n",
    "\n",
    "We try to predict house prices based on a number of continuous and categorical variables.\n",
    "In the first step, the prediction will be made using only a small selection of continuous variables:\n",
    "\n",
    "* LotFrontage: Linear feet of street connected to property\n",
    "* LotArea: Lot size in square feet\n",
    "* 1stFlrSF: First Floor square feet\n",
    "* 2ndFlrSF: Second floor square feet\n",
    "* TotalBsmtSF: Total square feet of basement area\n",
    "* SalePrice: target variable\n",
    "\n",
    "We will use a very simple network: a linear network with a single non-linearity.\n",
    "\n",
    "In order to make it a little easier for gradient descent to converge to a minimum, we will scale the input data to have 0 mean and a standard deviation of 1. For a discussion on why it is useful to scale input data, see https://stats.stackexchange.com/questions/249378/is-scaling-data-0-1-necessary-when-batch-normalization-is-used. We will not scale the target data, following this discussion: https://stats.stackexchange.com/questions/111467/is-it-necessary-to-scale-the-target-value-in-addition-to-scaling-features-for-re.\n",
    "\n",
    "**Now**:\n",
    "\n",
    "Instead of just replacing missing values in our dataset with the mean or the median of the respective column, we will now create a **one-hot encoded vector** to mark the previously **missing data** and add it to the data set. For the same reason that we used the *sklearn StandardScaler* we will now make use of the *sklearn Imputer* to replace missing values. Also, to make this part of data processing a little easier to reuse, we will refactor the code into a function. "
   ]
  },
  {
   "cell_type": "code",
   "execution_count": 1,
   "metadata": {},
   "outputs": [],
   "source": [
    "from pathlib import Path\n",
    "import pandas as pd\n",
    "import numpy as np\n",
    "from matplotlib import pyplot as plt\n",
    "from sklearn import preprocessing, impute"
   ]
  },
  {
   "cell_type": "code",
   "execution_count": 2,
   "metadata": {},
   "outputs": [],
   "source": [
    "# Show more rows and columns in the pandas output\n",
    "pd.set_option('display.max_columns', 500)\n",
    "pd.set_option('display.max_rows', 500)\n",
    "#pd.set_option('display.width', 1000)"
   ]
  },
  {
   "cell_type": "code",
   "execution_count": 3,
   "metadata": {},
   "outputs": [],
   "source": [
    "%reload_ext autoreload\n",
    "%autoreload 2\n",
    "%matplotlib inline"
   ]
  },
  {
   "cell_type": "markdown",
   "metadata": {
    "scrolled": true
   },
   "source": [
    "## Helpers"
   ]
  },
  {
   "cell_type": "code",
   "execution_count": 4,
   "metadata": {
    "code_folding": [
     0
    ]
   },
   "outputs": [],
   "source": [
    "def show_missing(df, show_all=True):\n",
    "    \"\"\"    \n",
    "    Shows absolute and relative number of missing values for each column of a dataframe,\n",
    "    show_all=True also shows columns with no missing values.\n",
    "    \"\"\"\n",
    "    mis_val_abs = df.isnull().sum()\n",
    "    mis_val_rel = df.isnull().sum()/df.shape[0]\n",
    "    mis_val_table = pd.concat([df.dtypes, mis_val_abs, mis_val_rel], axis=1)\n",
    "    mis_val_table = mis_val_table.rename(columns={0: 'dtype', 1: 'Missing abs', 2: 'Missing rel'})\n",
    "\n",
    "    if show_all:\n",
    "        # Sort table descending by relative amount missing\n",
    "        mis_val_table = mis_val_table.sort_values('Missing rel', ascending=False).round(3)\n",
    "    else:\n",
    "        # Sort table descending by relative amount missing, remove columns where no values are missing\n",
    "        mis_val_table = mis_val_table[mis_val_table.iloc[:, 1] != 0].sort_values('Missing rel', ascending=False).round(3)\n",
    "    \n",
    "    return mis_val_table"
   ]
  },
  {
   "cell_type": "markdown",
   "metadata": {},
   "source": [
    "## Load data"
   ]
  },
  {
   "cell_type": "code",
   "execution_count": 5,
   "metadata": {},
   "outputs": [
    {
     "name": "stdout",
     "output_type": "stream",
     "text": [
      "data_description.txt  sample_submission.csv  train.csv\r\n",
      "models\t\t      test.csv\t\t     train_tiny.csv\r\n"
     ]
    }
   ],
   "source": [
    "PATH = Path('../data/houseprice/')\n",
    "#!dir {PATH}  # For Windows\n",
    "!ls {PATH}"
   ]
  },
  {
   "cell_type": "code",
   "execution_count": 6,
   "metadata": {},
   "outputs": [
    {
     "data": {
      "text/plain": [
       "(1460, 5)"
      ]
     },
     "execution_count": 6,
     "metadata": {},
     "output_type": "execute_result"
    }
   ],
   "source": [
    "# Import data\n",
    "dep = ['SalePrice']\n",
    "df_train = pd.read_csv(PATH/'train.csv', sep=',', header=0,\n",
    "                       usecols=['LotFrontage', 'LotArea', '1stFlrSF', '2ndFlrSF', 'TotalBsmtSF', 'SalePrice'])\n",
    "df_y = df_train[dep]\n",
    "df_train = df_train.drop(dep, axis=1)\n",
    "df_train.shape"
   ]
  },
  {
   "cell_type": "code",
   "execution_count": 7,
   "metadata": {},
   "outputs": [
    {
     "data": {
      "text/plain": [
       "Index(['LotFrontage', 'LotArea', 'TotalBsmtSF', '1stFlrSF', '2ndFlrSF'], dtype='object')"
      ]
     },
     "execution_count": 7,
     "metadata": {},
     "output_type": "execute_result"
    }
   ],
   "source": [
    "df_train.columns"
   ]
  },
  {
   "cell_type": "markdown",
   "metadata": {},
   "source": [
    "## Pre-processing"
   ]
  },
  {
   "cell_type": "markdown",
   "metadata": {},
   "source": [
    "First, we take a look at a couple of rows and some descriptive statistics. This gives us an idea about the scale of values, and helps to decide if some continuous variables should perhaps be treated as categorical. In this case all variables will be treated as continuous.\n",
    "\n",
    "We also check for missing values. If we find any, we have two options: remove the rows that contain missing values (which might lead to losing a lot of observations), or replace them with other values so that the network can use them. Common values used as a replacement are the mean or the median of the series, or some constant."
   ]
  },
  {
   "cell_type": "code",
   "execution_count": 8,
   "metadata": {
    "scrolled": false
   },
   "outputs": [
    {
     "data": {
      "text/html": [
       "<div>\n",
       "<style scoped>\n",
       "    .dataframe tbody tr th:only-of-type {\n",
       "        vertical-align: middle;\n",
       "    }\n",
       "\n",
       "    .dataframe tbody tr th {\n",
       "        vertical-align: top;\n",
       "    }\n",
       "\n",
       "    .dataframe thead th {\n",
       "        text-align: right;\n",
       "    }\n",
       "</style>\n",
       "<table border=\"1\" class=\"dataframe\">\n",
       "  <thead>\n",
       "    <tr style=\"text-align: right;\">\n",
       "      <th></th>\n",
       "      <th>LotFrontage</th>\n",
       "      <th>LotArea</th>\n",
       "      <th>TotalBsmtSF</th>\n",
       "      <th>1stFlrSF</th>\n",
       "      <th>2ndFlrSF</th>\n",
       "    </tr>\n",
       "  </thead>\n",
       "  <tbody>\n",
       "    <tr>\n",
       "      <th>0</th>\n",
       "      <td>65.0</td>\n",
       "      <td>8450</td>\n",
       "      <td>856</td>\n",
       "      <td>856</td>\n",
       "      <td>854</td>\n",
       "    </tr>\n",
       "    <tr>\n",
       "      <th>1</th>\n",
       "      <td>80.0</td>\n",
       "      <td>9600</td>\n",
       "      <td>1262</td>\n",
       "      <td>1262</td>\n",
       "      <td>0</td>\n",
       "    </tr>\n",
       "    <tr>\n",
       "      <th>2</th>\n",
       "      <td>68.0</td>\n",
       "      <td>11250</td>\n",
       "      <td>920</td>\n",
       "      <td>920</td>\n",
       "      <td>866</td>\n",
       "    </tr>\n",
       "    <tr>\n",
       "      <th>3</th>\n",
       "      <td>60.0</td>\n",
       "      <td>9550</td>\n",
       "      <td>756</td>\n",
       "      <td>961</td>\n",
       "      <td>756</td>\n",
       "    </tr>\n",
       "    <tr>\n",
       "      <th>4</th>\n",
       "      <td>84.0</td>\n",
       "      <td>14260</td>\n",
       "      <td>1145</td>\n",
       "      <td>1145</td>\n",
       "      <td>1053</td>\n",
       "    </tr>\n",
       "  </tbody>\n",
       "</table>\n",
       "</div>"
      ],
      "text/plain": [
       "   LotFrontage  LotArea  TotalBsmtSF  1stFlrSF  2ndFlrSF\n",
       "0         65.0     8450          856       856       854\n",
       "1         80.0     9600         1262      1262         0\n",
       "2         68.0    11250          920       920       866\n",
       "3         60.0     9550          756       961       756\n",
       "4         84.0    14260         1145      1145      1053"
      ]
     },
     "execution_count": 8,
     "metadata": {},
     "output_type": "execute_result"
    }
   ],
   "source": [
    "df_train.head()"
   ]
  },
  {
   "cell_type": "code",
   "execution_count": 9,
   "metadata": {
    "scrolled": true
   },
   "outputs": [
    {
     "data": {
      "text/html": [
       "<div>\n",
       "<style scoped>\n",
       "    .dataframe tbody tr th:only-of-type {\n",
       "        vertical-align: middle;\n",
       "    }\n",
       "\n",
       "    .dataframe tbody tr th {\n",
       "        vertical-align: top;\n",
       "    }\n",
       "\n",
       "    .dataframe thead th {\n",
       "        text-align: right;\n",
       "    }\n",
       "</style>\n",
       "<table border=\"1\" class=\"dataframe\">\n",
       "  <thead>\n",
       "    <tr style=\"text-align: right;\">\n",
       "      <th></th>\n",
       "      <th>LotFrontage</th>\n",
       "      <th>LotArea</th>\n",
       "      <th>TotalBsmtSF</th>\n",
       "      <th>1stFlrSF</th>\n",
       "      <th>2ndFlrSF</th>\n",
       "    </tr>\n",
       "  </thead>\n",
       "  <tbody>\n",
       "    <tr>\n",
       "      <th>count</th>\n",
       "      <td>1201.000000</td>\n",
       "      <td>1460.000000</td>\n",
       "      <td>1460.000000</td>\n",
       "      <td>1460.000000</td>\n",
       "      <td>1460.000000</td>\n",
       "    </tr>\n",
       "    <tr>\n",
       "      <th>mean</th>\n",
       "      <td>70.049958</td>\n",
       "      <td>10516.828082</td>\n",
       "      <td>1057.429452</td>\n",
       "      <td>1162.626712</td>\n",
       "      <td>346.992466</td>\n",
       "    </tr>\n",
       "    <tr>\n",
       "      <th>std</th>\n",
       "      <td>24.284752</td>\n",
       "      <td>9981.264932</td>\n",
       "      <td>438.705324</td>\n",
       "      <td>386.587738</td>\n",
       "      <td>436.528436</td>\n",
       "    </tr>\n",
       "    <tr>\n",
       "      <th>min</th>\n",
       "      <td>21.000000</td>\n",
       "      <td>1300.000000</td>\n",
       "      <td>0.000000</td>\n",
       "      <td>334.000000</td>\n",
       "      <td>0.000000</td>\n",
       "    </tr>\n",
       "    <tr>\n",
       "      <th>25%</th>\n",
       "      <td>59.000000</td>\n",
       "      <td>7553.500000</td>\n",
       "      <td>795.750000</td>\n",
       "      <td>882.000000</td>\n",
       "      <td>0.000000</td>\n",
       "    </tr>\n",
       "    <tr>\n",
       "      <th>50%</th>\n",
       "      <td>69.000000</td>\n",
       "      <td>9478.500000</td>\n",
       "      <td>991.500000</td>\n",
       "      <td>1087.000000</td>\n",
       "      <td>0.000000</td>\n",
       "    </tr>\n",
       "    <tr>\n",
       "      <th>75%</th>\n",
       "      <td>80.000000</td>\n",
       "      <td>11601.500000</td>\n",
       "      <td>1298.250000</td>\n",
       "      <td>1391.250000</td>\n",
       "      <td>728.000000</td>\n",
       "    </tr>\n",
       "    <tr>\n",
       "      <th>max</th>\n",
       "      <td>313.000000</td>\n",
       "      <td>215245.000000</td>\n",
       "      <td>6110.000000</td>\n",
       "      <td>4692.000000</td>\n",
       "      <td>2065.000000</td>\n",
       "    </tr>\n",
       "  </tbody>\n",
       "</table>\n",
       "</div>"
      ],
      "text/plain": [
       "       LotFrontage        LotArea  TotalBsmtSF     1stFlrSF     2ndFlrSF\n",
       "count  1201.000000    1460.000000  1460.000000  1460.000000  1460.000000\n",
       "mean     70.049958   10516.828082  1057.429452  1162.626712   346.992466\n",
       "std      24.284752    9981.264932   438.705324   386.587738   436.528436\n",
       "min      21.000000    1300.000000     0.000000   334.000000     0.000000\n",
       "25%      59.000000    7553.500000   795.750000   882.000000     0.000000\n",
       "50%      69.000000    9478.500000   991.500000  1087.000000     0.000000\n",
       "75%      80.000000   11601.500000  1298.250000  1391.250000   728.000000\n",
       "max     313.000000  215245.000000  6110.000000  4692.000000  2065.000000"
      ]
     },
     "execution_count": 9,
     "metadata": {},
     "output_type": "execute_result"
    }
   ],
   "source": [
    "df_train.describe()"
   ]
  },
  {
   "cell_type": "code",
   "execution_count": 10,
   "metadata": {
    "scrolled": false
   },
   "outputs": [
    {
     "data": {
      "text/html": [
       "<div>\n",
       "<style scoped>\n",
       "    .dataframe tbody tr th:only-of-type {\n",
       "        vertical-align: middle;\n",
       "    }\n",
       "\n",
       "    .dataframe tbody tr th {\n",
       "        vertical-align: top;\n",
       "    }\n",
       "\n",
       "    .dataframe thead th {\n",
       "        text-align: right;\n",
       "    }\n",
       "</style>\n",
       "<table border=\"1\" class=\"dataframe\">\n",
       "  <thead>\n",
       "    <tr style=\"text-align: right;\">\n",
       "      <th></th>\n",
       "      <th>dtype</th>\n",
       "      <th>Missing abs</th>\n",
       "      <th>Missing rel</th>\n",
       "    </tr>\n",
       "  </thead>\n",
       "  <tbody>\n",
       "    <tr>\n",
       "      <th>LotFrontage</th>\n",
       "      <td>float64</td>\n",
       "      <td>259</td>\n",
       "      <td>0.177</td>\n",
       "    </tr>\n",
       "    <tr>\n",
       "      <th>LotArea</th>\n",
       "      <td>int64</td>\n",
       "      <td>0</td>\n",
       "      <td>0.000</td>\n",
       "    </tr>\n",
       "    <tr>\n",
       "      <th>TotalBsmtSF</th>\n",
       "      <td>int64</td>\n",
       "      <td>0</td>\n",
       "      <td>0.000</td>\n",
       "    </tr>\n",
       "    <tr>\n",
       "      <th>1stFlrSF</th>\n",
       "      <td>int64</td>\n",
       "      <td>0</td>\n",
       "      <td>0.000</td>\n",
       "    </tr>\n",
       "    <tr>\n",
       "      <th>2ndFlrSF</th>\n",
       "      <td>int64</td>\n",
       "      <td>0</td>\n",
       "      <td>0.000</td>\n",
       "    </tr>\n",
       "  </tbody>\n",
       "</table>\n",
       "</div>"
      ],
      "text/plain": [
       "               dtype  Missing abs  Missing rel\n",
       "LotFrontage  float64          259        0.177\n",
       "LotArea        int64            0        0.000\n",
       "TotalBsmtSF    int64            0        0.000\n",
       "1stFlrSF       int64            0        0.000\n",
       "2ndFlrSF       int64            0        0.000"
      ]
     },
     "execution_count": 10,
     "metadata": {},
     "output_type": "execute_result"
    }
   ],
   "source": [
    "show_missing(df_train)"
   ]
  },
  {
   "cell_type": "markdown",
   "metadata": {},
   "source": [
    "Since there are missing values in *LotFrontage*, we need to replace those values with something that the model can handle. The median and the mean of *LotFrontage* are roughly the same, so we will replace the missing values with the median of the series."
   ]
  },
  {
   "cell_type": "markdown",
   "metadata": {},
   "source": [
    "### New"
   ]
  },
  {
   "cell_type": "code",
   "execution_count": 1,
   "metadata": {},
   "outputs": [
    {
     "ename": "NameError",
     "evalue": "name 'pd' is not defined",
     "output_type": "error",
     "traceback": [
      "\u001b[0;31m---------------------------------------------------------------------------\u001b[0m",
      "\u001b[0;31mNameError\u001b[0m                                 Traceback (most recent call last)",
      "\u001b[0;32m<ipython-input-1-25a12c5ef62b>\u001b[0m in \u001b[0;36m<module>\u001b[0;34m\u001b[0m\n\u001b[0;32m----> 1\u001b[0;31m \u001b[0;32mdef\u001b[0m \u001b[0mproc_cont\u001b[0m\u001b[0;34m(\u001b[0m\u001b[0mcont_names\u001b[0m\u001b[0;34m,\u001b[0m \u001b[0mdf_train\u001b[0m\u001b[0;34m,\u001b[0m \u001b[0mdf_val\u001b[0m\u001b[0;34m=\u001b[0m\u001b[0mpd\u001b[0m\u001b[0;34m.\u001b[0m\u001b[0mDataFrame\u001b[0m\u001b[0;34m(\u001b[0m\u001b[0;34m)\u001b[0m\u001b[0;34m,\u001b[0m \u001b[0mdf_test\u001b[0m\u001b[0;34m=\u001b[0m\u001b[0mpd\u001b[0m\u001b[0;34m.\u001b[0m\u001b[0mDataFrame\u001b[0m\u001b[0;34m(\u001b[0m\u001b[0;34m)\u001b[0m\u001b[0;34m,\u001b[0m \u001b[0mstrat\u001b[0m\u001b[0;34m=\u001b[0m\u001b[0;34m'median'\u001b[0m\u001b[0;34m)\u001b[0m\u001b[0;34m:\u001b[0m\u001b[0;34m\u001b[0m\u001b[0;34m\u001b[0m\u001b[0m\n\u001b[0m\u001b[1;32m      2\u001b[0m     \u001b[0;32mif\u001b[0m \u001b[0mdf_val\u001b[0m\u001b[0;34m.\u001b[0m\u001b[0mempty\u001b[0m\u001b[0;34m:\u001b[0m\u001b[0;34m\u001b[0m\u001b[0;34m\u001b[0m\u001b[0m\n\u001b[1;32m      3\u001b[0m         \u001b[0mdf_val\u001b[0m \u001b[0;34m=\u001b[0m \u001b[0mpd\u001b[0m\u001b[0;34m.\u001b[0m\u001b[0mDataFrame\u001b[0m\u001b[0;34m(\u001b[0m\u001b[0mcolumns\u001b[0m\u001b[0;34m=\u001b[0m\u001b[0mdf_train\u001b[0m\u001b[0;34m.\u001b[0m\u001b[0mcolumns\u001b[0m\u001b[0;34m)\u001b[0m\u001b[0;34m\u001b[0m\u001b[0;34m\u001b[0m\u001b[0m\n\u001b[1;32m      4\u001b[0m     \u001b[0;32mif\u001b[0m \u001b[0mdf_test\u001b[0m\u001b[0;34m.\u001b[0m\u001b[0mempty\u001b[0m\u001b[0;34m:\u001b[0m\u001b[0;34m\u001b[0m\u001b[0;34m\u001b[0m\u001b[0m\n\u001b[1;32m      5\u001b[0m         \u001b[0mdf_test\u001b[0m \u001b[0;34m=\u001b[0m \u001b[0mpd\u001b[0m\u001b[0;34m.\u001b[0m\u001b[0mDataFrame\u001b[0m\u001b[0;34m(\u001b[0m\u001b[0mcolumns\u001b[0m\u001b[0;34m=\u001b[0m\u001b[0mdf_train\u001b[0m\u001b[0;34m.\u001b[0m\u001b[0mcolumns\u001b[0m\u001b[0;34m)\u001b[0m\u001b[0;34m\u001b[0m\u001b[0;34m\u001b[0m\u001b[0m\n",
      "\u001b[0;31mNameError\u001b[0m: name 'pd' is not defined"
     ]
    }
   ],
   "source": [
    "def proc_cont(cont_names, df_train, df_val=pd.DataFrame(), df_test=pd.DataFrame(), strat='median'):\n",
    "    if df_val.empty:\n",
    "        df_val = pd.DataFrame(columns=df_train.columns)\n",
    "    if df_test.empty:\n",
    "        df_test = pd.DataFrame(columns=df_train.columns)\n",
    "    \n",
    "    # Add one-hot vectors for missing values\n",
    "    found_missing = False\n",
    "    df_train_miss = pd.DataFrame()\n",
    "    df_val_miss = pd.DataFrame()\n",
    "    df_test_miss = pd.DataFrame()\n",
    "    missing_cols = {}\n",
    "    for name in cont_names:\n",
    "        miss_train = pd.isna(df_train[name])*1\n",
    "        miss_val = pd.isna(df_val[name])*1\n",
    "        miss_test = pd.isna(df_test[name])*1\n",
    "        if sum(miss_train) + sum(miss_val) + sum(miss_test) > 0:\n",
    "            found_missing = True\n",
    "            # Get one-hot name\n",
    "            missing_cols[name] = 'missing_'+name\n",
    "            \n",
    "            # Add one-hot vector to temporary dataframe\n",
    "            df_train_miss = pd.concat([df_train_miss, miss_train], axis=1)\n",
    "            df_val_miss = pd.concat([df_val_miss, miss_val], axis=1)\n",
    "            df_test_miss = pd.concat([df_test_miss, miss_test], axis=1)\n",
    "    \n",
    "    if found_missing:\n",
    "        # Rename new one-hot encoded columns\n",
    "        df_train_miss = df_train_miss.rename(columns=missing_cols)\n",
    "        df_val_miss = df_val_miss.rename(columns=missing_cols)\n",
    "        df_test_miss = df_test_miss.rename(columns=missing_cols)\n",
    "        \n",
    "        # Add new columns to dataframes\n",
    "        df_train = pd.concat([df_train, df_train_miss], axis=1)\n",
    "        df_val = pd.concat([df_val, df_val_miss], axis=1)\n",
    "        df_test = pd.concat([df_test, df_test_miss], axis=1)\n",
    "\n",
    "    # Impute missing values\n",
    "    sk_imputer = impute.SimpleImputer(strategy=strat)\n",
    "    sk_imputer.fit(df_train[cont_names])\n",
    "    df_train[cont_names] = sk_imputer.transform(df_train[cont_names])\n",
    "    \n",
    "    # Scale variables to have 0 mean and 1 std\n",
    "    sk_scaler = preprocessing.StandardScaler()\n",
    "    sk_scaler.fit(df_train[cont_names])\n",
    "    df_train[cont_names] = sk_scaler.transform(df_train[cont_names])\n",
    "    \n",
    "    # Apply to validation and test data\n",
    "    if not df_val.empty:\n",
    "        df_val[cont_names] = sk_imputer.transform(df_val[cont_names])\n",
    "        df_val[cont_names] = sk_scaler.transform(df_val[cont_names])\n",
    "    if not df_test.empty:\n",
    "        df_test[cont_names] = sk_imputer.transform(df_test[cont_names])\n",
    "        df_test[cont_names] = sk_scaler.transform(df_test[cont_names])\n",
    "        \n",
    "    return df_train, df_val, df_test"
   ]
  },
  {
   "cell_type": "code",
   "execution_count": 12,
   "metadata": {},
   "outputs": [],
   "source": [
    "cont_names = list(df_train.columns)"
   ]
  },
  {
   "cell_type": "code",
   "execution_count": 13,
   "metadata": {
    "scrolled": true
   },
   "outputs": [],
   "source": [
    "df_train, _, _ = proc_cont(cont_names, df_train)"
   ]
  },
  {
   "cell_type": "code",
   "execution_count": 14,
   "metadata": {
    "scrolled": true
   },
   "outputs": [
    {
     "data": {
      "text/html": [
       "<div>\n",
       "<style scoped>\n",
       "    .dataframe tbody tr th:only-of-type {\n",
       "        vertical-align: middle;\n",
       "    }\n",
       "\n",
       "    .dataframe tbody tr th {\n",
       "        vertical-align: top;\n",
       "    }\n",
       "\n",
       "    .dataframe thead th {\n",
       "        text-align: right;\n",
       "    }\n",
       "</style>\n",
       "<table border=\"1\" class=\"dataframe\">\n",
       "  <thead>\n",
       "    <tr style=\"text-align: right;\">\n",
       "      <th></th>\n",
       "      <th>dtype</th>\n",
       "      <th>Missing abs</th>\n",
       "      <th>Missing rel</th>\n",
       "    </tr>\n",
       "  </thead>\n",
       "  <tbody>\n",
       "    <tr>\n",
       "      <th>LotFrontage</th>\n",
       "      <td>float64</td>\n",
       "      <td>0</td>\n",
       "      <td>0.0</td>\n",
       "    </tr>\n",
       "    <tr>\n",
       "      <th>LotArea</th>\n",
       "      <td>float64</td>\n",
       "      <td>0</td>\n",
       "      <td>0.0</td>\n",
       "    </tr>\n",
       "    <tr>\n",
       "      <th>TotalBsmtSF</th>\n",
       "      <td>float64</td>\n",
       "      <td>0</td>\n",
       "      <td>0.0</td>\n",
       "    </tr>\n",
       "    <tr>\n",
       "      <th>1stFlrSF</th>\n",
       "      <td>float64</td>\n",
       "      <td>0</td>\n",
       "      <td>0.0</td>\n",
       "    </tr>\n",
       "    <tr>\n",
       "      <th>2ndFlrSF</th>\n",
       "      <td>float64</td>\n",
       "      <td>0</td>\n",
       "      <td>0.0</td>\n",
       "    </tr>\n",
       "    <tr>\n",
       "      <th>missing_LotFrontage</th>\n",
       "      <td>int64</td>\n",
       "      <td>0</td>\n",
       "      <td>0.0</td>\n",
       "    </tr>\n",
       "  </tbody>\n",
       "</table>\n",
       "</div>"
      ],
      "text/plain": [
       "                       dtype  Missing abs  Missing rel\n",
       "LotFrontage          float64            0          0.0\n",
       "LotArea              float64            0          0.0\n",
       "TotalBsmtSF          float64            0          0.0\n",
       "1stFlrSF             float64            0          0.0\n",
       "2ndFlrSF             float64            0          0.0\n",
       "missing_LotFrontage    int64            0          0.0"
      ]
     },
     "execution_count": 14,
     "metadata": {},
     "output_type": "execute_result"
    }
   ],
   "source": [
    "show_missing(df_train)"
   ]
  },
  {
   "cell_type": "code",
   "execution_count": 15,
   "metadata": {},
   "outputs": [
    {
     "data": {
      "text/html": [
       "<div>\n",
       "<style scoped>\n",
       "    .dataframe tbody tr th:only-of-type {\n",
       "        vertical-align: middle;\n",
       "    }\n",
       "\n",
       "    .dataframe tbody tr th {\n",
       "        vertical-align: top;\n",
       "    }\n",
       "\n",
       "    .dataframe thead th {\n",
       "        text-align: right;\n",
       "    }\n",
       "</style>\n",
       "<table border=\"1\" class=\"dataframe\">\n",
       "  <thead>\n",
       "    <tr style=\"text-align: right;\">\n",
       "      <th></th>\n",
       "      <th>LotFrontage</th>\n",
       "      <th>LotArea</th>\n",
       "      <th>TotalBsmtSF</th>\n",
       "      <th>1stFlrSF</th>\n",
       "      <th>2ndFlrSF</th>\n",
       "      <th>missing_LotFrontage</th>\n",
       "    </tr>\n",
       "  </thead>\n",
       "  <tbody>\n",
       "    <tr>\n",
       "      <th>count</th>\n",
       "      <td>1.460000e+03</td>\n",
       "      <td>1.460000e+03</td>\n",
       "      <td>1.460000e+03</td>\n",
       "      <td>1.460000e+03</td>\n",
       "      <td>1.460000e+03</td>\n",
       "      <td>1460.000000</td>\n",
       "    </tr>\n",
       "    <tr>\n",
       "      <th>mean</th>\n",
       "      <td>2.801602e-16</td>\n",
       "      <td>-4.202783e-17</td>\n",
       "      <td>2.063038e-16</td>\n",
       "      <td>7.686013e-17</td>\n",
       "      <td>-3.269835e-17</td>\n",
       "      <td>0.177397</td>\n",
       "    </tr>\n",
       "    <tr>\n",
       "      <th>std</th>\n",
       "      <td>1.000343e+00</td>\n",
       "      <td>1.000343e+00</td>\n",
       "      <td>1.000343e+00</td>\n",
       "      <td>1.000343e+00</td>\n",
       "      <td>1.000343e+00</td>\n",
       "      <td>0.382135</td>\n",
       "    </tr>\n",
       "    <tr>\n",
       "      <th>min</th>\n",
       "      <td>-2.219047e+00</td>\n",
       "      <td>-9.237292e-01</td>\n",
       "      <td>-2.411167e+00</td>\n",
       "      <td>-2.144172e+00</td>\n",
       "      <td>-7.951632e-01</td>\n",
       "      <td>0.000000</td>\n",
       "    </tr>\n",
       "    <tr>\n",
       "      <th>25%</th>\n",
       "      <td>-4.479400e-01</td>\n",
       "      <td>-2.969908e-01</td>\n",
       "      <td>-5.966855e-01</td>\n",
       "      <td>-7.261556e-01</td>\n",
       "      <td>-7.951632e-01</td>\n",
       "      <td>0.000000</td>\n",
       "    </tr>\n",
       "    <tr>\n",
       "      <th>50%</th>\n",
       "      <td>-3.922314e-02</td>\n",
       "      <td>-1.040633e-01</td>\n",
       "      <td>-1.503334e-01</td>\n",
       "      <td>-1.956933e-01</td>\n",
       "      <td>-7.951632e-01</td>\n",
       "      <td>0.000000</td>\n",
       "    </tr>\n",
       "    <tr>\n",
       "      <th>75%</th>\n",
       "      <td>4.149067e-01</td>\n",
       "      <td>1.087080e-01</td>\n",
       "      <td>5.491227e-01</td>\n",
       "      <td>5.915905e-01</td>\n",
       "      <td>8.731117e-01</td>\n",
       "      <td>0.000000</td>\n",
       "    </tr>\n",
       "    <tr>\n",
       "      <th>max</th>\n",
       "      <td>1.104155e+01</td>\n",
       "      <td>2.051827e+01</td>\n",
       "      <td>1.152095e+01</td>\n",
       "      <td>9.132681e+00</td>\n",
       "      <td>3.936963e+00</td>\n",
       "      <td>1.000000</td>\n",
       "    </tr>\n",
       "  </tbody>\n",
       "</table>\n",
       "</div>"
      ],
      "text/plain": [
       "        LotFrontage       LotArea   TotalBsmtSF      1stFlrSF      2ndFlrSF  \\\n",
       "count  1.460000e+03  1.460000e+03  1.460000e+03  1.460000e+03  1.460000e+03   \n",
       "mean   2.801602e-16 -4.202783e-17  2.063038e-16  7.686013e-17 -3.269835e-17   \n",
       "std    1.000343e+00  1.000343e+00  1.000343e+00  1.000343e+00  1.000343e+00   \n",
       "min   -2.219047e+00 -9.237292e-01 -2.411167e+00 -2.144172e+00 -7.951632e-01   \n",
       "25%   -4.479400e-01 -2.969908e-01 -5.966855e-01 -7.261556e-01 -7.951632e-01   \n",
       "50%   -3.922314e-02 -1.040633e-01 -1.503334e-01 -1.956933e-01 -7.951632e-01   \n",
       "75%    4.149067e-01  1.087080e-01  5.491227e-01  5.915905e-01  8.731117e-01   \n",
       "max    1.104155e+01  2.051827e+01  1.152095e+01  9.132681e+00  3.936963e+00   \n",
       "\n",
       "       missing_LotFrontage  \n",
       "count          1460.000000  \n",
       "mean              0.177397  \n",
       "std               0.382135  \n",
       "min               0.000000  \n",
       "25%               0.000000  \n",
       "50%               0.000000  \n",
       "75%               0.000000  \n",
       "max               1.000000  "
      ]
     },
     "execution_count": 15,
     "metadata": {},
     "output_type": "execute_result"
    }
   ],
   "source": [
    "df_train.describe()"
   ]
  },
  {
   "cell_type": "markdown",
   "metadata": {},
   "source": [
    "We will use the *StandardScaler* from the *sklearn* library to scale our data. Although we could easily do the scaling manually, it is convenient to use a scaler so we can later apply the exact same scaling onto different data as well, e.g. **validation data** or **test data**."
   ]
  },
  {
   "cell_type": "markdown",
   "metadata": {},
   "source": [
    "# PyTorch"
   ]
  },
  {
   "cell_type": "code",
   "execution_count": 16,
   "metadata": {},
   "outputs": [],
   "source": [
    "import torch\n",
    "import torch.nn as nn\n",
    "import torch.nn.functional as F\n",
    "from torch.utils.data import TensorDataset, DataLoader"
   ]
  },
  {
   "cell_type": "code",
   "execution_count": 17,
   "metadata": {},
   "outputs": [
    {
     "data": {
      "text/plain": [
       "device(type='cuda')"
      ]
     },
     "execution_count": 17,
     "metadata": {},
     "output_type": "execute_result"
    }
   ],
   "source": [
    "device = torch.device(\"cuda\") if torch.cuda.is_available() else \"cpu\"\n",
    "device"
   ]
  },
  {
   "cell_type": "markdown",
   "metadata": {},
   "source": [
    "## Dataset, dataloader"
   ]
  },
  {
   "cell_type": "code",
   "execution_count": 18,
   "metadata": {
    "scrolled": true
   },
   "outputs": [],
   "source": [
    "# Convert all data containers to tensors\n",
    "t_train = torch.tensor(df_train.values, dtype=torch.float32, device=device)\n",
    "t_y = torch.tensor(df_y.values, dtype=torch.float32, device=device)\n",
    "#t_y = (t_y-t_y.mean())/t_y.std()"
   ]
  },
  {
   "cell_type": "code",
   "execution_count": 19,
   "metadata": {},
   "outputs": [],
   "source": [
    "# Dataset\n",
    "train_ds = TensorDataset(t_train, t_y)"
   ]
  },
  {
   "cell_type": "code",
   "execution_count": 20,
   "metadata": {},
   "outputs": [],
   "source": [
    "# Dataloader\n",
    "batch_size=64\n",
    "train_dl = DataLoader(train_ds, batch_size=batch_size, shuffle=True)"
   ]
  },
  {
   "cell_type": "markdown",
   "metadata": {},
   "source": [
    "## Model"
   ]
  },
  {
   "cell_type": "code",
   "execution_count": 21,
   "metadata": {},
   "outputs": [],
   "source": [
    "class LinearNet(nn.Module):\n",
    "    def __init__(self):\n",
    "        super().__init__()\n",
    "        \n",
    "        # Layers\n",
    "        self.linear1 = nn.Linear(6, 100)\n",
    "        self.act1 = nn.ReLU()\n",
    "        self.linear2 = nn.Linear(100, 1)        \n",
    "    \n",
    "    def forward(self, x):        \n",
    "        x = self.linear1(x)\n",
    "        x = self.act1(x)\n",
    "        x = self.linear2(x)\n",
    "        \n",
    "        return x"
   ]
  },
  {
   "cell_type": "code",
   "execution_count": 22,
   "metadata": {},
   "outputs": [],
   "source": [
    "# Instantiate the model\n",
    "model = LinearNet().to(device)"
   ]
  },
  {
   "cell_type": "markdown",
   "metadata": {},
   "source": [
    "## Optimizer"
   ]
  },
  {
   "cell_type": "code",
   "execution_count": 23,
   "metadata": {},
   "outputs": [],
   "source": [
    "lr = 0.1\n",
    "opt = torch.optim.Adam(model.parameters(), lr=lr)"
   ]
  },
  {
   "cell_type": "markdown",
   "metadata": {},
   "source": [
    "## Loss"
   ]
  },
  {
   "cell_type": "code",
   "execution_count": 24,
   "metadata": {},
   "outputs": [],
   "source": [
    "loss_fn = F.mse_loss"
   ]
  },
  {
   "cell_type": "markdown",
   "metadata": {},
   "source": [
    "## Train"
   ]
  },
  {
   "cell_type": "code",
   "execution_count": 25,
   "metadata": {},
   "outputs": [],
   "source": [
    "losses = []\n",
    "def fit(num_epochs, model, loss_fn, opt):    \n",
    "    for epoch in range(num_epochs):\n",
    "        for xb, yb in train_dl:\n",
    "            # Forward            \n",
    "            preds = model(xb)\n",
    "            loss = loss_fn(preds, yb)\n",
    "            losses.append(loss)\n",
    "            \n",
    "            # Gradient descent\n",
    "            loss.backward()\n",
    "            opt.step()\n",
    "            opt.zero_grad()\n",
    "            \n",
    "        if epoch%20==0:\n",
    "            print('Training loss:', loss_fn(model(t_train), t_y))"
   ]
  },
  {
   "cell_type": "code",
   "execution_count": 26,
   "metadata": {
    "scrolled": true
   },
   "outputs": [
    {
     "name": "stdout",
     "output_type": "stream",
     "text": [
      "Training loss: tensor(3.8666e+10, device='cuda:0', grad_fn=<MseLossBackward>)\n",
      "Training loss: tensor(3.7461e+09, device='cuda:0', grad_fn=<MseLossBackward>)\n",
      "Training loss: tensor(2.3801e+09, device='cuda:0', grad_fn=<MseLossBackward>)\n",
      "Training loss: tensor(2.3308e+09, device='cuda:0', grad_fn=<MseLossBackward>)\n",
      "Training loss: tensor(2.3084e+09, device='cuda:0', grad_fn=<MseLossBackward>)\n",
      "Training loss: tensor(2.2766e+09, device='cuda:0', grad_fn=<MseLossBackward>)\n",
      "Training loss: tensor(2.2590e+09, device='cuda:0', grad_fn=<MseLossBackward>)\n",
      "Training loss: tensor(2.2502e+09, device='cuda:0', grad_fn=<MseLossBackward>)\n",
      "Training loss: tensor(2.2305e+09, device='cuda:0', grad_fn=<MseLossBackward>)\n",
      "Training loss: tensor(2.2234e+09, device='cuda:0', grad_fn=<MseLossBackward>)\n",
      "Training loss: tensor(2.2148e+09, device='cuda:0', grad_fn=<MseLossBackward>)\n",
      "Training loss: tensor(2.2122e+09, device='cuda:0', grad_fn=<MseLossBackward>)\n",
      "Training loss: tensor(2.2048e+09, device='cuda:0', grad_fn=<MseLossBackward>)\n",
      "Training loss: tensor(2.2007e+09, device='cuda:0', grad_fn=<MseLossBackward>)\n",
      "Training loss: tensor(2.1987e+09, device='cuda:0', grad_fn=<MseLossBackward>)\n"
     ]
    }
   ],
   "source": [
    "# Train for 300 epochs\n",
    "fit(num_epochs=300, model=model, loss_fn=loss_fn, opt=opt)"
   ]
  },
  {
   "cell_type": "code",
   "execution_count": 27,
   "metadata": {
    "scrolled": true
   },
   "outputs": [
    {
     "data": {
      "text/plain": [
       "[<matplotlib.lines.Line2D at 0x7f3b60440e10>]"
      ]
     },
     "execution_count": 27,
     "metadata": {},
     "output_type": "execute_result"
    },
    {
     "data": {
      "image/png": "[encoded data removed]",
      "text/plain": [
       "<Figure size 432x288 with 1 Axes>"
      ]
     },
     "metadata": {
      "needs_background": "light"
     },
     "output_type": "display_data"
    }
   ],
   "source": [
    "plt.plot(losses)"
   ]
  },
  {
   "cell_type": "code",
   "execution_count": 28,
   "metadata": {},
   "outputs": [],
   "source": [
    "preds = model(t_train)"
   ]
  },
  {
   "cell_type": "code",
   "execution_count": 29,
   "metadata": {},
   "outputs": [
    {
     "data": {
      "text/plain": [
       "tensor([[188200.8906, 208500.0000],\n",
       "        [171064.1875, 181500.0000],\n",
       "        [198855.2500, 223500.0000],\n",
       "        [172594.0469, 140000.0000],\n",
       "        [254778.7969, 250000.0000],\n",
       "        [144558.1406, 143000.0000],\n",
       "        [250916.7812, 307000.0000],\n",
       "        [234461.3594, 200000.0000],\n",
       "        [182537.9844, 129900.0000],\n",
       "        [141031.5781, 118000.0000]], device='cuda:0', grad_fn=<SliceBackward>)"
      ]
     },
     "execution_count": 29,
     "metadata": {},
     "output_type": "execute_result"
    }
   ],
   "source": [
    "torch.cat([preds, t_y.reshape(-1,1)], dim=1)[:10, :]"
   ]
  },
  {
   "cell_type": "markdown",
   "metadata": {},
   "source": [
    "Even though we only added one additional column - the one-hot encoded vector for the missing values in *LotFrontage* - we could improve the training loss quite a bit"
   ]
  },
  {
   "cell_type": "code",
   "execution_count": 30,
   "metadata": {},
   "outputs": [
    {
     "data": {
      "text/plain": [
       "<matplotlib.collections.PathCollection at 0x7f3b603569e8>"
      ]
     },
     "execution_count": 30,
     "metadata": {},
     "output_type": "execute_result"
    },
    {
     "data": {
      "image/png": "[encoded data removed]",
      "text/plain": [
       "<Figure size 432x288 with 1 Axes>"
      ]
     },
     "metadata": {
      "needs_background": "light"
     },
     "output_type": "display_data"
    }
   ],
   "source": [
    "plt.scatter(preds.detach().cpu().numpy(), t_y.reshape(-1,1).detach().cpu())"
   ]
  },
  {
   "cell_type": "code",
   "execution_count": null,
   "metadata": {},
   "outputs": [],
   "source": []
  }
 ],
 "metadata": {
  "kernelspec": {
   "display_name": "Python 3.6 fastai 1.0 Cuda 10.0",
   "language": "python",
   "name": "p36-fastai10-cuda100"
  },
  "language_info": {
   "codemirror_mode": {
    "name": "ipython",
    "version": 3
   },
   "file_extension": ".py",
   "mimetype": "text/x-python",
   "name": "python",
   "nbconvert_exporter": "python",
   "pygments_lexer": "ipython3",
   "version": "3.6.8"
  }
 },
 "nbformat": 4,
 "nbformat_minor": 2
}
