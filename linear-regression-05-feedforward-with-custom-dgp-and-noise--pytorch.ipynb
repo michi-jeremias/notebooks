{
 "cells": [
  {
   "cell_type": "markdown",
   "metadata": {},
   "source": [
    "# PyTorch Linear Regression with custom data generatig process with added noise"
   ]
  },
  {
   "cell_type": "markdown",
   "metadata": {},
   "source": [
    "## Problem statement"
   ]
  },
  {
   "cell_type": "markdown",
   "metadata": {},
   "source": [
    "We want to predict the crop yield of *apples* and *oranges* based on the 3 input variables *temperature*, *rainfall* and *humidity*.\n",
    "Due to measurement errors we have to deal with an unobservable noise component:\n",
    "* apples = 0.5\\*temperature + 0.5\\*rainfall + 0.2\\*humidity + nc\n",
    "* oranges = 1\\*temperature + 0.2\\*rainfall - 0.1\\*humidity + nc"
   ]
  },
  {
   "cell_type": "code",
   "execution_count": 1,
   "metadata": {},
   "outputs": [],
   "source": [
    "# Import PyTorch, NumPy\n",
    "import numpy as np\n",
    "import torch\n",
    "from torch.nn import functional as F\n",
    "import torch.nn as nn"
   ]
  },
  {
   "cell_type": "markdown",
   "metadata": {},
   "source": [
    "## Data generating process"
   ]
  },
  {
   "cell_type": "code",
   "execution_count": 24,
   "metadata": {},
   "outputs": [
    {
     "name": "stdout",
     "output_type": "stream",
     "text": [
      "tensor([[22., 89., 61.],\n",
      "        [66., 77., 20.],\n",
      "        [31., 21., 43.],\n",
      "        [44.,  6., 86.]])\n"
     ]
    }
   ],
   "source": [
    "# Define input variables\n",
    "temperature = torch.randint(20, 70, size=(100,), requires_grad=False)\n",
    "rainfall = torch.randint(0, 100, size=(100,), requires_grad=False)\n",
    "humidity = torch.randint(0, 100, size=(100,), requires_grad=False)\n",
    "inputs = torch.stack([temperature, rainfall, humidity], dim=1).type(torch.float32)\n",
    "print(inputs[:4,:])"
   ]
  },
  {
   "cell_type": "code",
   "execution_count": 50,
   "metadata": {},
   "outputs": [],
   "source": [
    "# Calculate target variables based on DGP (with noise component)\n",
    "torch.manual_seed(0)  # fix seed for reproducability\n",
    "apples_coeff = torch.tensor([0.5, 0.5, 0.2])\n",
    "oranges_coeff = torch.tensor([1, 0.2, -0.1])\n",
    "nc = torch.randn(size=(100,)) * 2  # scale by 2 to make it a little larger, since torch.randn has mean 0 and std 1\n",
    "apples = torch.sum(inputs*apples_coeff, dim=1) + nc\n",
    "oranges = torch.sum(inputs*oranges_coeff, dim=1) + nc\n",
    "targets = torch.stack([apples, oranges], dim=1).type(torch.float32)"
   ]
  },
  {
   "cell_type": "code",
   "execution_count": 51,
   "metadata": {},
   "outputs": [
    {
     "data": {
      "text/plain": [
       "tensor([[65.4483, 31.4483],\n",
       "        [73.1953, 77.0953],\n",
       "        [34.0988, 30.3988],\n",
       "        [41.3322, 35.7322],\n",
       "        [51.1974, 46.5974]])"
      ]
     },
     "execution_count": 51,
     "metadata": {},
     "output_type": "execute_result"
    }
   ],
   "source": [
    "targets[:5,]"
   ]
  },
  {
   "cell_type": "markdown",
   "metadata": {},
   "source": [
    "## Dataset, DataLoader"
   ]
  },
  {
   "cell_type": "code",
   "execution_count": 32,
   "metadata": {},
   "outputs": [],
   "source": [
    "from torch.utils.data import TensorDataset, DataLoader"
   ]
  },
  {
   "cell_type": "code",
   "execution_count": 52,
   "metadata": {},
   "outputs": [],
   "source": [
    "ds_train = TensorDataset(inputs, targets)"
   ]
  },
  {
   "cell_type": "code",
   "execution_count": 54,
   "metadata": {},
   "outputs": [],
   "source": [
    "batch_size = 10\n",
    "dl_train = DataLoader(dataset=ds_train, batch_size=batch_size, shuffle=True)"
   ]
  },
  {
   "cell_type": "markdown",
   "metadata": {},
   "source": [
    "## SimpleNet"
   ]
  },
  {
   "cell_type": "code",
   "execution_count": 56,
   "metadata": {},
   "outputs": [],
   "source": [
    "class SimpleNet(nn.Module):\n",
    "    def __init__(self):\n",
    "        super().__init__()\n",
    "        self.linear1 = nn.Linear(3, 10)\n",
    "        self.act1 = nn.ReLU()\n",
    "        self.linear2 = nn.Linear(10, 2)\n",
    "    \n",
    "    def forward(self, x):\n",
    "        x = self.linear1(x)\n",
    "        x = self.act1(x)\n",
    "        x = self.linear2(x)\n",
    "        return x"
   ]
  },
  {
   "cell_type": "code",
   "execution_count": 57,
   "metadata": {},
   "outputs": [],
   "source": [
    "# Instantiate model\n",
    "model = SimpleNet()"
   ]
  },
  {
   "cell_type": "code",
   "execution_count": null,
   "metadata": {},
   "outputs": [],
   "source": []
  }
 ],
 "metadata": {
  "kernelspec": {
   "display_name": "p36 course v3",
   "language": "python",
   "name": "course-v3"
  },
  "language_info": {
   "codemirror_mode": {
    "name": "ipython",
    "version": 3
   },
   "file_extension": ".py",
   "mimetype": "text/x-python",
   "name": "python",
   "nbconvert_exporter": "python",
   "pygments_lexer": "ipython3",
   "version": "3.6.8"
  }
 },
 "nbformat": 4,
 "nbformat_minor": 2
}
