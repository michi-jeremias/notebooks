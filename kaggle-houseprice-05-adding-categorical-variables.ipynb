{
 "cells": [
  {
   "cell_type": "markdown",
   "metadata": {},
   "source": [
    "# House Prices: Advanced Regression Techniques (Kaggle)"
   ]
  },
  {
   "cell_type": "markdown",
   "metadata": {},
   "source": [
    "## 05-adding-categorical-variables"
   ]
  },
  {
   "cell_type": "markdown",
   "metadata": {},
   "source": [
    "Sources:\n",
    "* Kaggle competition: https://www.kaggle.com/c/house-prices-advanced-regression-techniques\n",
    "* Check missing values (Will Koehrsen): https://www.kaggle.com/willkoehrsen/start-here-a-gentle-introduction by Will Koehrsen\n",
    "* Neural net implementation (Yashu Seth): https://yashuseth.blog/2018/07/22/pytorch-neural-network-for-tabular-data-with-categorical-embeddings/ \n",
    "* Sklearn pipelines: https://medium.com/dunder-data/from-pandas-to-scikit-learn-a-new-exciting-workflow-e88e2271ef62\n",
    "* Pipelines with dataframes (John Ramey): https://ramhiser.com/post/2018-04-16-building-scikit-learn-pipeline-with-pandas-dataframe/"
   ]
  },
  {
   "cell_type": "markdown",
   "metadata": {},
   "source": [
    "## Problem description"
   ]
  },
  {
   "cell_type": "markdown",
   "metadata": {},
   "source": [
    "**Previous**:\n",
    "\n",
    "**kaggle-houseprice-01-linear-model-and-continuous-imputation.ipynb**\n",
    "We try to predict house prices based on a number of continuous and categorical variables.\n",
    "In the first step, the prediction will be made using only a small selection of continuous variables:\n",
    "\n",
    "* LotFrontage: Linear feet of street connected to property\n",
    "* LotArea: Lot size in square feet\n",
    "* 1stFlrSF: First Floor square feet\n",
    "* 2ndFlrSF: Second floor square feet\n",
    "* TotalBsmtSF: Total square feet of basement area\n",
    "* SalePrice: target variable\n",
    "\n",
    "We will use a very simple network: a linear network with a single non-linearity.\n",
    "\n",
    "**kaggle-houseprice-02-data-scaling.ipynb**\n",
    "\n",
    "In order to make it a little easier for gradient descent to converge to a minimum, we will scale the input data to have 0 mean and a standard deviation of 1. For a discussion on why it is useful to scale input data, see https://stats.stackexchange.com/questions/249378/is-scaling-data-0-1-necessary-when-batch-normalization-is-used. We will not scale the target data, following this discussion: https://stats.stackexchange.com/questions/111467/is-it-necessary-to-scale-the-target-value-in-addition-to-scaling-features-for-re.\n",
    "\n",
    "**kaggle-houseprice-03-one-hot-for-missing-continuous.ipynb**\n",
    "\n",
    "Instead of just replacing missing values in our dataset with the mean or the median of the respective column, we will now create a *one-hot encoded vector* to mark the previously *missing data* and add it to the data set. For the same reason that we used the *sklearn.preprocessing StandardScaler* we will now make use of the *sklearn.impute Imputer* to replace missing values. Also, to make this part of data processing a little easier to reuse, we will refactor the code into a function. \n",
    "\n",
    "* missing_LotFrontage: one-hot vector with 1 for each missing value in LotFrontage and 0 else\n",
    "\n",
    "**kaggle-houseprice-04-pipeline-for-preprocessing.ipynb**\n",
    "\n",
    "Instead of relying on self-written code for processing our continuous variables we will now delegate this part of the processing to sklearn transformers. Additionally, those transformers will be put in a pipeline so that the transformers don't have to be called individually every time. This will help keeping our code simple and clean, and produce consistent results for processing multiple data.\n",
    "\n",
    "**Now:**\n",
    "\n",
    "* Add categorical variables\n",
    "* Extend pipeline to handle categoricals\n",
    "* Create a function to pre-process an arbitrary amount of dataframes at once\n",
    "\n",
    "We still need to add more data to our model. In contrast to the first set of continuous variables, this time we will add categorical variables. Categorical variables differ from continuous variables in the fact that there may or may not be a natural order to values of a categorical variable, and that we cannot use categorical variables to do meaningful calculations (e.g. to calculate the mean, or a sum). For more information see https://en.wikipedia.org/wiki/Level_of_measurement.\n",
    "Often those variables are represented by strings. In order to let our network handle categorical variables, we need to convert them to numbers (also called *factors* or *codes*). Additionally, we will expand our pre-processing pipeline to also handle missing values for categorical variables. We will also create a function that let's us use the pipeline on an arbitrary amount of dataframes at the same time.\n",
    "\n",
    "New variables:\n",
    "* MSZoning: Identifies the general zoning classification of the sale.\n",
    "* MSSubClass: Identifies the type of dwelling involved in the sale."
   ]
  },
  {
   "cell_type": "code",
   "execution_count": 26,
   "metadata": {},
   "outputs": [],
   "source": [
    "from pathlib import Path\n",
    "import pandas as pd\n",
    "import numpy as np\n",
    "from matplotlib import pyplot as plt\n",
    "from sklearn.base import BaseEstimator, TransformerMixin\n",
    "from sklearn.impute import SimpleImputer, MissingIndicator\n",
    "from sklearn.pipeline import Pipeline, make_pipeline, FeatureUnion\n",
    "from sklearn.preprocessing import StandardScaler, OrdinalEncoder, LabelEncoder"
   ]
  },
  {
   "cell_type": "code",
   "execution_count": 27,
   "metadata": {},
   "outputs": [],
   "source": [
    "# Show more rows and columns in the pandas output\n",
    "pd.set_option('display.max_columns', 500)\n",
    "pd.set_option('display.max_rows', 500)\n",
    "#pd.set_option('display.width', 1000)"
   ]
  },
  {
   "cell_type": "code",
   "execution_count": 28,
   "metadata": {},
   "outputs": [],
   "source": [
    "%reload_ext autoreload\n",
    "%autoreload 2\n",
    "%matplotlib inline"
   ]
  },
  {
   "cell_type": "markdown",
   "metadata": {
    "scrolled": true
   },
   "source": [
    "## Helpers"
   ]
  },
  {
   "cell_type": "code",
   "execution_count": 29,
   "metadata": {
    "code_folding": [
     0
    ]
   },
   "outputs": [],
   "source": [
    "def show_missing(df, show_all=True):\n",
    "    \"\"\"    \n",
    "    Shows absolute and relative number of missing values for each column of a dataframe,\n",
    "    show_all=True also shows columns with no missing values.\n",
    "    \"\"\"\n",
    "    mis_val_abs = df.isnull().sum()\n",
    "    mis_val_rel = df.isnull().sum()/df.shape[0]\n",
    "    mis_val_table = pd.concat([df.dtypes, mis_val_abs, mis_val_rel], axis=1)\n",
    "    mis_val_table = mis_val_table.rename(columns={0: 'dtype', 1: 'Missing abs', 2: 'Missing rel'})\n",
    "\n",
    "    if show_all:\n",
    "        # Sort table descending by relative amount missing\n",
    "        mis_val_table = mis_val_table.sort_values('Missing rel', ascending=False).round(3)\n",
    "    else:\n",
    "        # Sort table descending by relative amount missing, remove columns where no values are missing\n",
    "        mis_val_table = mis_val_table[mis_val_table.iloc[:, 1] != 0].sort_values('Missing rel', ascending=False).round(3)\n",
    "    \n",
    "    return mis_val_table"
   ]
  },
  {
   "cell_type": "markdown",
   "metadata": {},
   "source": [
    "## Load data"
   ]
  },
  {
   "cell_type": "code",
   "execution_count": 30,
   "metadata": {},
   "outputs": [
    {
     "name": "stderr",
     "output_type": "stream",
     "text": [
      "Der Befehl \"ls\" ist entweder falsch geschrieben oder\n",
      "konnte nicht gefunden werden.\n"
     ]
    }
   ],
   "source": [
    "PATH = Path('../data/houseprice/')\n",
    "#!dir {PATH}  # For Windows\n",
    "!ls {PATH}"
   ]
  },
  {
   "cell_type": "code",
   "execution_count": 31,
   "metadata": {},
   "outputs": [
    {
     "data": {
      "text/plain": [
       "(1460, 7)"
      ]
     },
     "execution_count": 31,
     "metadata": {},
     "output_type": "execute_result"
    }
   ],
   "source": [
    "# Import training data\n",
    "dep = ['SalePrice']\n",
    "df_train = pd.read_csv(PATH/'train.csv', sep=',', header=0,\n",
    "                       usecols=['MSZoning', 'MSSubClass', 'LotFrontage', 'LotArea', '1stFlrSF', '2ndFlrSF',\n",
    "                                'TotalBsmtSF', 'SalePrice'])\n",
    "df_y = df_train[dep]\n",
    "df_train = df_train.drop(dep, axis=1)\n",
    "df_train.shape"
   ]
  },
  {
   "cell_type": "code",
   "execution_count": 32,
   "metadata": {},
   "outputs": [],
   "source": [
    "# Import test data\n",
    "df_test = pd.read_csv(PATH/'test.csv', sep=',', header=0,\n",
    "                       usecols=['MSZoning', 'MSSubClass', 'LotFrontage', 'LotArea', '1stFlrSF', '2ndFlrSF',\n",
    "                                'TotalBsmtSF'])"
   ]
  },
  {
   "cell_type": "code",
   "execution_count": 33,
   "metadata": {},
   "outputs": [],
   "source": [
    "# Define continuous and categorical columns\n",
    "cat_names = ['MSZoning', 'MSSubClass']\n",
    "cont_names = ['LotFrontage', 'LotArea', '1stFlrSF', '2ndFlrSF', 'TotalBsmtSF']"
   ]
  },
  {
   "cell_type": "markdown",
   "metadata": {},
   "source": [
    "## Pre-processing"
   ]
  },
  {
   "cell_type": "markdown",
   "metadata": {},
   "source": [
    "First, we take a look at a couple of rows and some descriptive statistics. This gives us an idea about the scale of values, and helps to decide if some continuous variables should perhaps be treated as categorical. In this case all variables will be treated as continuous.\n",
    "\n",
    "We also check for missing values. If we find any, we have two options: remove the rows that contain missing values (which might lead to losing a lot of observations), or replace them with other values so that the network can use them. Common values used as a replacement are the mean or the median of the series, or some constant."
   ]
  },
  {
   "cell_type": "code",
   "execution_count": 34,
   "metadata": {
    "scrolled": true
   },
   "outputs": [
    {
     "data": {
      "text/html": [
       "<div>\n",
       "<style scoped>\n",
       "    .dataframe tbody tr th:only-of-type {\n",
       "        vertical-align: middle;\n",
       "    }\n",
       "\n",
       "    .dataframe tbody tr th {\n",
       "        vertical-align: top;\n",
       "    }\n",
       "\n",
       "    .dataframe thead th {\n",
       "        text-align: right;\n",
       "    }\n",
       "</style>\n",
       "<table border=\"1\" class=\"dataframe\">\n",
       "  <thead>\n",
       "    <tr style=\"text-align: right;\">\n",
       "      <th></th>\n",
       "      <th>MSSubClass</th>\n",
       "      <th>MSZoning</th>\n",
       "      <th>LotFrontage</th>\n",
       "      <th>LotArea</th>\n",
       "      <th>TotalBsmtSF</th>\n",
       "      <th>1stFlrSF</th>\n",
       "      <th>2ndFlrSF</th>\n",
       "    </tr>\n",
       "  </thead>\n",
       "  <tbody>\n",
       "    <tr>\n",
       "      <th>0</th>\n",
       "      <td>60</td>\n",
       "      <td>RL</td>\n",
       "      <td>65.0</td>\n",
       "      <td>8450</td>\n",
       "      <td>856</td>\n",
       "      <td>856</td>\n",
       "      <td>854</td>\n",
       "    </tr>\n",
       "    <tr>\n",
       "      <th>1</th>\n",
       "      <td>20</td>\n",
       "      <td>RL</td>\n",
       "      <td>80.0</td>\n",
       "      <td>9600</td>\n",
       "      <td>1262</td>\n",
       "      <td>1262</td>\n",
       "      <td>0</td>\n",
       "    </tr>\n",
       "    <tr>\n",
       "      <th>2</th>\n",
       "      <td>60</td>\n",
       "      <td>RL</td>\n",
       "      <td>68.0</td>\n",
       "      <td>11250</td>\n",
       "      <td>920</td>\n",
       "      <td>920</td>\n",
       "      <td>866</td>\n",
       "    </tr>\n",
       "    <tr>\n",
       "      <th>3</th>\n",
       "      <td>70</td>\n",
       "      <td>RL</td>\n",
       "      <td>60.0</td>\n",
       "      <td>9550</td>\n",
       "      <td>756</td>\n",
       "      <td>961</td>\n",
       "      <td>756</td>\n",
       "    </tr>\n",
       "    <tr>\n",
       "      <th>4</th>\n",
       "      <td>60</td>\n",
       "      <td>RL</td>\n",
       "      <td>84.0</td>\n",
       "      <td>14260</td>\n",
       "      <td>1145</td>\n",
       "      <td>1145</td>\n",
       "      <td>1053</td>\n",
       "    </tr>\n",
       "  </tbody>\n",
       "</table>\n",
       "</div>"
      ],
      "text/plain": [
       "   MSSubClass MSZoning  LotFrontage  LotArea  TotalBsmtSF  1stFlrSF  2ndFlrSF\n",
       "0          60       RL         65.0     8450          856       856       854\n",
       "1          20       RL         80.0     9600         1262      1262         0\n",
       "2          60       RL         68.0    11250          920       920       866\n",
       "3          70       RL         60.0     9550          756       961       756\n",
       "4          60       RL         84.0    14260         1145      1145      1053"
      ]
     },
     "execution_count": 34,
     "metadata": {},
     "output_type": "execute_result"
    }
   ],
   "source": [
    "df_train.head()"
   ]
  },
  {
   "cell_type": "code",
   "execution_count": 35,
   "metadata": {
    "scrolled": false
   },
   "outputs": [
    {
     "data": {
      "text/html": [
       "<div>\n",
       "<style scoped>\n",
       "    .dataframe tbody tr th:only-of-type {\n",
       "        vertical-align: middle;\n",
       "    }\n",
       "\n",
       "    .dataframe tbody tr th {\n",
       "        vertical-align: top;\n",
       "    }\n",
       "\n",
       "    .dataframe thead th {\n",
       "        text-align: right;\n",
       "    }\n",
       "</style>\n",
       "<table border=\"1\" class=\"dataframe\">\n",
       "  <thead>\n",
       "    <tr style=\"text-align: right;\">\n",
       "      <th></th>\n",
       "      <th>LotFrontage</th>\n",
       "      <th>LotArea</th>\n",
       "      <th>1stFlrSF</th>\n",
       "      <th>2ndFlrSF</th>\n",
       "      <th>TotalBsmtSF</th>\n",
       "    </tr>\n",
       "  </thead>\n",
       "  <tbody>\n",
       "    <tr>\n",
       "      <th>count</th>\n",
       "      <td>1201.000000</td>\n",
       "      <td>1460.000000</td>\n",
       "      <td>1460.000000</td>\n",
       "      <td>1460.000000</td>\n",
       "      <td>1460.000000</td>\n",
       "    </tr>\n",
       "    <tr>\n",
       "      <th>mean</th>\n",
       "      <td>70.049958</td>\n",
       "      <td>10516.828082</td>\n",
       "      <td>1162.626712</td>\n",
       "      <td>346.992466</td>\n",
       "      <td>1057.429452</td>\n",
       "    </tr>\n",
       "    <tr>\n",
       "      <th>std</th>\n",
       "      <td>24.284752</td>\n",
       "      <td>9981.264932</td>\n",
       "      <td>386.587738</td>\n",
       "      <td>436.528436</td>\n",
       "      <td>438.705324</td>\n",
       "    </tr>\n",
       "    <tr>\n",
       "      <th>min</th>\n",
       "      <td>21.000000</td>\n",
       "      <td>1300.000000</td>\n",
       "      <td>334.000000</td>\n",
       "      <td>0.000000</td>\n",
       "      <td>0.000000</td>\n",
       "    </tr>\n",
       "    <tr>\n",
       "      <th>25%</th>\n",
       "      <td>59.000000</td>\n",
       "      <td>7553.500000</td>\n",
       "      <td>882.000000</td>\n",
       "      <td>0.000000</td>\n",
       "      <td>795.750000</td>\n",
       "    </tr>\n",
       "    <tr>\n",
       "      <th>50%</th>\n",
       "      <td>69.000000</td>\n",
       "      <td>9478.500000</td>\n",
       "      <td>1087.000000</td>\n",
       "      <td>0.000000</td>\n",
       "      <td>991.500000</td>\n",
       "    </tr>\n",
       "    <tr>\n",
       "      <th>75%</th>\n",
       "      <td>80.000000</td>\n",
       "      <td>11601.500000</td>\n",
       "      <td>1391.250000</td>\n",
       "      <td>728.000000</td>\n",
       "      <td>1298.250000</td>\n",
       "    </tr>\n",
       "    <tr>\n",
       "      <th>max</th>\n",
       "      <td>313.000000</td>\n",
       "      <td>215245.000000</td>\n",
       "      <td>4692.000000</td>\n",
       "      <td>2065.000000</td>\n",
       "      <td>6110.000000</td>\n",
       "    </tr>\n",
       "  </tbody>\n",
       "</table>\n",
       "</div>"
      ],
      "text/plain": [
       "       LotFrontage        LotArea     1stFlrSF     2ndFlrSF  TotalBsmtSF\n",
       "count  1201.000000    1460.000000  1460.000000  1460.000000  1460.000000\n",
       "mean     70.049958   10516.828082  1162.626712   346.992466  1057.429452\n",
       "std      24.284752    9981.264932   386.587738   436.528436   438.705324\n",
       "min      21.000000    1300.000000   334.000000     0.000000     0.000000\n",
       "25%      59.000000    7553.500000   882.000000     0.000000   795.750000\n",
       "50%      69.000000    9478.500000  1087.000000     0.000000   991.500000\n",
       "75%      80.000000   11601.500000  1391.250000   728.000000  1298.250000\n",
       "max     313.000000  215245.000000  4692.000000  2065.000000  6110.000000"
      ]
     },
     "execution_count": 35,
     "metadata": {},
     "output_type": "execute_result"
    }
   ],
   "source": [
    "df_train[cont_names].describe()"
   ]
  },
  {
   "cell_type": "code",
   "execution_count": 36,
   "metadata": {},
   "outputs": [
    {
     "data": {
      "text/html": [
       "<div>\n",
       "<style scoped>\n",
       "    .dataframe tbody tr th:only-of-type {\n",
       "        vertical-align: middle;\n",
       "    }\n",
       "\n",
       "    .dataframe tbody tr th {\n",
       "        vertical-align: top;\n",
       "    }\n",
       "\n",
       "    .dataframe thead th {\n",
       "        text-align: right;\n",
       "    }\n",
       "</style>\n",
       "<table border=\"1\" class=\"dataframe\">\n",
       "  <thead>\n",
       "    <tr style=\"text-align: right;\">\n",
       "      <th></th>\n",
       "      <th>MSZoning</th>\n",
       "      <th>MSSubClass</th>\n",
       "    </tr>\n",
       "  </thead>\n",
       "  <tbody>\n",
       "    <tr>\n",
       "      <th>count</th>\n",
       "      <td>1460</td>\n",
       "      <td>1460</td>\n",
       "    </tr>\n",
       "    <tr>\n",
       "      <th>unique</th>\n",
       "      <td>5</td>\n",
       "      <td>15</td>\n",
       "    </tr>\n",
       "    <tr>\n",
       "      <th>top</th>\n",
       "      <td>RL</td>\n",
       "      <td>20</td>\n",
       "    </tr>\n",
       "    <tr>\n",
       "      <th>freq</th>\n",
       "      <td>1151</td>\n",
       "      <td>536</td>\n",
       "    </tr>\n",
       "  </tbody>\n",
       "</table>\n",
       "</div>"
      ],
      "text/plain": [
       "       MSZoning  MSSubClass\n",
       "count      1460        1460\n",
       "unique        5          15\n",
       "top          RL          20\n",
       "freq       1151         536"
      ]
     },
     "execution_count": 36,
     "metadata": {},
     "output_type": "execute_result"
    }
   ],
   "source": [
    "# Categorical variables can be of type int or string. To show all cat columns in describe,\n",
    "# we need to convert them to the same dtype\n",
    "df_train[cat_names].astype('category').describe()"
   ]
  },
  {
   "cell_type": "code",
   "execution_count": 37,
   "metadata": {
    "scrolled": false
   },
   "outputs": [
    {
     "data": {
      "text/html": [
       "<div>\n",
       "<style scoped>\n",
       "    .dataframe tbody tr th:only-of-type {\n",
       "        vertical-align: middle;\n",
       "    }\n",
       "\n",
       "    .dataframe tbody tr th {\n",
       "        vertical-align: top;\n",
       "    }\n",
       "\n",
       "    .dataframe thead th {\n",
       "        text-align: right;\n",
       "    }\n",
       "</style>\n",
       "<table border=\"1\" class=\"dataframe\">\n",
       "  <thead>\n",
       "    <tr style=\"text-align: right;\">\n",
       "      <th></th>\n",
       "      <th>dtype</th>\n",
       "      <th>Missing abs</th>\n",
       "      <th>Missing rel</th>\n",
       "      <th>dtype</th>\n",
       "      <th>Missing abs</th>\n",
       "      <th>Missing rel</th>\n",
       "    </tr>\n",
       "  </thead>\n",
       "  <tbody>\n",
       "    <tr>\n",
       "      <th>LotFrontage</th>\n",
       "      <td>float64</td>\n",
       "      <td>259</td>\n",
       "      <td>0.177</td>\n",
       "      <td>float64</td>\n",
       "      <td>227</td>\n",
       "      <td>0.156</td>\n",
       "    </tr>\n",
       "    <tr>\n",
       "      <th>MSSubClass</th>\n",
       "      <td>int64</td>\n",
       "      <td>0</td>\n",
       "      <td>0.000</td>\n",
       "      <td>int64</td>\n",
       "      <td>0</td>\n",
       "      <td>0.000</td>\n",
       "    </tr>\n",
       "    <tr>\n",
       "      <th>MSZoning</th>\n",
       "      <td>object</td>\n",
       "      <td>0</td>\n",
       "      <td>0.000</td>\n",
       "      <td>object</td>\n",
       "      <td>4</td>\n",
       "      <td>0.003</td>\n",
       "    </tr>\n",
       "    <tr>\n",
       "      <th>LotArea</th>\n",
       "      <td>int64</td>\n",
       "      <td>0</td>\n",
       "      <td>0.000</td>\n",
       "      <td>int64</td>\n",
       "      <td>0</td>\n",
       "      <td>0.000</td>\n",
       "    </tr>\n",
       "    <tr>\n",
       "      <th>TotalBsmtSF</th>\n",
       "      <td>int64</td>\n",
       "      <td>0</td>\n",
       "      <td>0.000</td>\n",
       "      <td>float64</td>\n",
       "      <td>1</td>\n",
       "      <td>0.001</td>\n",
       "    </tr>\n",
       "    <tr>\n",
       "      <th>1stFlrSF</th>\n",
       "      <td>int64</td>\n",
       "      <td>0</td>\n",
       "      <td>0.000</td>\n",
       "      <td>int64</td>\n",
       "      <td>0</td>\n",
       "      <td>0.000</td>\n",
       "    </tr>\n",
       "    <tr>\n",
       "      <th>2ndFlrSF</th>\n",
       "      <td>int64</td>\n",
       "      <td>0</td>\n",
       "      <td>0.000</td>\n",
       "      <td>int64</td>\n",
       "      <td>0</td>\n",
       "      <td>0.000</td>\n",
       "    </tr>\n",
       "  </tbody>\n",
       "</table>\n",
       "</div>"
      ],
      "text/plain": [
       "               dtype  Missing abs  Missing rel    dtype  Missing abs  \\\n",
       "LotFrontage  float64          259        0.177  float64          227   \n",
       "MSSubClass     int64            0        0.000    int64            0   \n",
       "MSZoning      object            0        0.000   object            4   \n",
       "LotArea        int64            0        0.000    int64            0   \n",
       "TotalBsmtSF    int64            0        0.000  float64            1   \n",
       "1stFlrSF       int64            0        0.000    int64            0   \n",
       "2ndFlrSF       int64            0        0.000    int64            0   \n",
       "\n",
       "             Missing rel  \n",
       "LotFrontage        0.156  \n",
       "MSSubClass         0.000  \n",
       "MSZoning           0.003  \n",
       "LotArea            0.000  \n",
       "TotalBsmtSF        0.001  \n",
       "1stFlrSF           0.000  \n",
       "2ndFlrSF           0.000  "
      ]
     },
     "execution_count": 37,
     "metadata": {},
     "output_type": "execute_result"
    }
   ],
   "source": [
    "pd.concat([show_missing(df_train), show_missing(df_test)], axis=1, sort=False)"
   ]
  },
  {
   "cell_type": "code",
   "execution_count": 38,
   "metadata": {},
   "outputs": [],
   "source": [
    "# The TypeSelector selects data from a dataframe based on its dtype. Credits to John Ramey, see sources on top.\n",
    "class TypeSelector(BaseEstimator, TransformerMixin):\n",
    "    def __init__(self, dtype):\n",
    "        self.dtype=dtype\n",
    "    \n",
    "    def fit(self, X, y=None):\n",
    "        return self\n",
    "    \n",
    "    def transform(self, X):\n",
    "        assert isinstance(X, pd.DataFrame)\n",
    "        return X.select_dtypes(include=[self.dtype])        "
   ]
  },
  {
   "cell_type": "code",
   "execution_count": 39,
   "metadata": {},
   "outputs": [],
   "source": [
    "def proc_df(cont_names, cat_names, *dataframes):\n",
    "    \"\"\"\n",
    "    Pre-process arbitrary amount of dataframes with continuous and categorical variables.\n",
    "    The respective fits are being calculated by combining all dataframes into a single\n",
    "    dataframe.\n",
    "    Returns one processed dataframe for each input dataframe.\n",
    "    \n",
    "    Parameters\n",
    "    ----------\n",
    "    cont_names : list\n",
    "        List of column names for continuous variables.\n",
    "\n",
    "    cat_names : list\n",
    "        List of column names for categorical variables.\n",
    "\n",
    "    *dataframes : pandas DataFrame(s)\n",
    "        DataFrames to be processed.\n",
    "    \"\"\"\n",
    "    \n",
    "    df_combo = pd.DataFrame(columns=dataframes[0].columns)\n",
    "    for arg in dataframes:\n",
    "        df_combo = pd.concat([df_combo, arg], axis=0, sort=False)\n",
    "        arg[cont_names] = arg[cont_names].astype('float64')\n",
    "        arg[cat_names] = arg[cat_names].astype('category')\n",
    "    \n",
    "    # Convert columns in cont_names to *float64* dtype and the columns of cat_names to *category*.\n",
    "    # This is necessary so that the TypeSelector in the pipeline can differentiate between cont and cat variables.\n",
    "    # The pipeline can then apply different behaviour, according to the dtype.\n",
    "    df_combo[cont_names] = df_combo[cont_names].astype('float64')\n",
    "    df_combo[cat_names] = df_combo[cat_names].astype('category')\n",
    "    \n",
    "    # First, get names of columns with missing values.\n",
    "    # The pipeline below then takes numeric features, in the order of appearance in the input dataframe.\n",
    "    # The pipeline then takes categorical features in the order of appearance in the input dataframe.\n",
    "    # All of these names are then merged to a list, and for the resulting dataframes.\n",
    "    # This naming step is necessary because sklearn does not natively support pandas dataframes, and therefore\n",
    "    #   all column names would be lost otherwise.\n",
    "    missing_names = [f'mis_{name}' for name in df_combo.columns if df_combo[name].isnull().any()]\n",
    "    ordered_cont_names = [col for col in df_combo.columns if col in cont_names]\n",
    "    ordered_cat_names = [col for col in df_combo.columns if col in cat_names]\n",
    "    names = missing_names + ordered_cont_names + ordered_cat_names\n",
    "    \n",
    "    preprocessing_pipeline = make_pipeline(\n",
    "        FeatureUnion(transformer_list=[\n",
    "            ('missing_features', make_pipeline(\n",
    "                MissingIndicator(missing_values=np.nan)\n",
    "            )),\n",
    "            ('numeric_features', make_pipeline(\n",
    "                TypeSelector('float64'),\n",
    "                SimpleImputer(strategy='median'),\n",
    "                StandardScaler()\n",
    "            )),\n",
    "            ('categorical_features', make_pipeline(\n",
    "                TypeSelector('category'),\n",
    "                SimpleImputer(strategy='most_frequent'),\n",
    "                OrdinalEncoder()\n",
    "            ))\n",
    "        ])\n",
    "    )\n",
    "    preprocessing_pipeline.fit(df_combo)\n",
    "        \n",
    "    return (pd.DataFrame(preprocessing_pipeline.transform(arg), columns=names) for arg in dataframes)"
   ]
  },
  {
   "cell_type": "code",
   "execution_count": 40,
   "metadata": {
    "scrolled": true
   },
   "outputs": [],
   "source": [
    "df_train, df_test = proc_df(cont_names, cat_names, df_train, df_test)"
   ]
  },
  {
   "cell_type": "code",
   "execution_count": 41,
   "metadata": {},
   "outputs": [
    {
     "data": {
      "text/html": [
       "<div>\n",
       "<style scoped>\n",
       "    .dataframe tbody tr th:only-of-type {\n",
       "        vertical-align: middle;\n",
       "    }\n",
       "\n",
       "    .dataframe tbody tr th {\n",
       "        vertical-align: top;\n",
       "    }\n",
       "\n",
       "    .dataframe thead th {\n",
       "        text-align: right;\n",
       "    }\n",
       "</style>\n",
       "<table border=\"1\" class=\"dataframe\">\n",
       "  <thead>\n",
       "    <tr style=\"text-align: right;\">\n",
       "      <th></th>\n",
       "      <th>mis_MSZoning</th>\n",
       "      <th>mis_LotFrontage</th>\n",
       "      <th>mis_TotalBsmtSF</th>\n",
       "      <th>LotFrontage</th>\n",
       "      <th>LotArea</th>\n",
       "      <th>TotalBsmtSF</th>\n",
       "      <th>1stFlrSF</th>\n",
       "      <th>2ndFlrSF</th>\n",
       "      <th>MSSubClass</th>\n",
       "      <th>MSZoning</th>\n",
       "    </tr>\n",
       "  </thead>\n",
       "  <tbody>\n",
       "    <tr>\n",
       "      <th>0</th>\n",
       "      <td>0.0</td>\n",
       "      <td>0.0</td>\n",
       "      <td>0.0</td>\n",
       "      <td>-0.191815</td>\n",
       "      <td>-0.217879</td>\n",
       "      <td>-0.444278</td>\n",
       "      <td>-0.773861</td>\n",
       "      <td>1.207379</td>\n",
       "      <td>5.0</td>\n",
       "      <td>3.0</td>\n",
       "    </tr>\n",
       "    <tr>\n",
       "      <th>1</th>\n",
       "      <td>0.0</td>\n",
       "      <td>0.0</td>\n",
       "      <td>0.0</td>\n",
       "      <td>0.511940</td>\n",
       "      <td>-0.072044</td>\n",
       "      <td>0.477158</td>\n",
       "      <td>0.261075</td>\n",
       "      <td>-0.785025</td>\n",
       "      <td>0.0</td>\n",
       "      <td>3.0</td>\n",
       "    </tr>\n",
       "    <tr>\n",
       "      <th>2</th>\n",
       "      <td>0.0</td>\n",
       "      <td>0.0</td>\n",
       "      <td>0.0</td>\n",
       "      <td>-0.051064</td>\n",
       "      <td>0.137197</td>\n",
       "      <td>-0.299027</td>\n",
       "      <td>-0.610718</td>\n",
       "      <td>1.235375</td>\n",
       "      <td>5.0</td>\n",
       "      <td>3.0</td>\n",
       "    </tr>\n",
       "    <tr>\n",
       "      <th>3</th>\n",
       "      <td>0.0</td>\n",
       "      <td>0.0</td>\n",
       "      <td>0.0</td>\n",
       "      <td>-0.426400</td>\n",
       "      <td>-0.078385</td>\n",
       "      <td>-0.671232</td>\n",
       "      <td>-0.506205</td>\n",
       "      <td>0.978742</td>\n",
       "      <td>6.0</td>\n",
       "      <td>3.0</td>\n",
       "    </tr>\n",
       "    <tr>\n",
       "      <th>4</th>\n",
       "      <td>0.0</td>\n",
       "      <td>0.0</td>\n",
       "      <td>0.0</td>\n",
       "      <td>0.699608</td>\n",
       "      <td>0.518903</td>\n",
       "      <td>0.211621</td>\n",
       "      <td>-0.037170</td>\n",
       "      <td>1.671651</td>\n",
       "      <td>5.0</td>\n",
       "      <td>3.0</td>\n",
       "    </tr>\n",
       "  </tbody>\n",
       "</table>\n",
       "</div>"
      ],
      "text/plain": [
       "   mis_MSZoning  mis_LotFrontage  mis_TotalBsmtSF  LotFrontage   LotArea  \\\n",
       "0           0.0              0.0              0.0    -0.191815 -0.217879   \n",
       "1           0.0              0.0              0.0     0.511940 -0.072044   \n",
       "2           0.0              0.0              0.0    -0.051064  0.137197   \n",
       "3           0.0              0.0              0.0    -0.426400 -0.078385   \n",
       "4           0.0              0.0              0.0     0.699608  0.518903   \n",
       "\n",
       "   TotalBsmtSF  1stFlrSF  2ndFlrSF  MSSubClass  MSZoning  \n",
       "0    -0.444278 -0.773861  1.207379         5.0       3.0  \n",
       "1     0.477158  0.261075 -0.785025         0.0       3.0  \n",
       "2    -0.299027 -0.610718  1.235375         5.0       3.0  \n",
       "3    -0.671232 -0.506205  0.978742         6.0       3.0  \n",
       "4     0.211621 -0.037170  1.671651         5.0       3.0  "
      ]
     },
     "execution_count": 41,
     "metadata": {},
     "output_type": "execute_result"
    }
   ],
   "source": [
    "df_train.head()"
   ]
  },
  {
   "cell_type": "code",
   "execution_count": 19,
   "metadata": {
    "scrolled": false
   },
   "outputs": [
    {
     "data": {
      "text/html": [
       "<div>\n",
       "<style scoped>\n",
       "    .dataframe tbody tr th:only-of-type {\n",
       "        vertical-align: middle;\n",
       "    }\n",
       "\n",
       "    .dataframe tbody tr th {\n",
       "        vertical-align: top;\n",
       "    }\n",
       "\n",
       "    .dataframe thead th {\n",
       "        text-align: right;\n",
       "    }\n",
       "</style>\n",
       "<table border=\"1\" class=\"dataframe\">\n",
       "  <thead>\n",
       "    <tr style=\"text-align: right;\">\n",
       "      <th></th>\n",
       "      <th>dtype</th>\n",
       "      <th>Missing abs</th>\n",
       "      <th>Missing rel</th>\n",
       "      <th>dtype</th>\n",
       "      <th>Missing abs</th>\n",
       "      <th>Missing rel</th>\n",
       "    </tr>\n",
       "  </thead>\n",
       "  <tbody>\n",
       "    <tr>\n",
       "      <th>mis_MSZoning</th>\n",
       "      <td>float64</td>\n",
       "      <td>0</td>\n",
       "      <td>0.0</td>\n",
       "      <td>float64</td>\n",
       "      <td>0</td>\n",
       "      <td>0.0</td>\n",
       "    </tr>\n",
       "    <tr>\n",
       "      <th>mis_LotFrontage</th>\n",
       "      <td>float64</td>\n",
       "      <td>0</td>\n",
       "      <td>0.0</td>\n",
       "      <td>float64</td>\n",
       "      <td>0</td>\n",
       "      <td>0.0</td>\n",
       "    </tr>\n",
       "    <tr>\n",
       "      <th>mis_TotalBsmtSF</th>\n",
       "      <td>float64</td>\n",
       "      <td>0</td>\n",
       "      <td>0.0</td>\n",
       "      <td>float64</td>\n",
       "      <td>0</td>\n",
       "      <td>0.0</td>\n",
       "    </tr>\n",
       "    <tr>\n",
       "      <th>LotFrontage</th>\n",
       "      <td>float64</td>\n",
       "      <td>0</td>\n",
       "      <td>0.0</td>\n",
       "      <td>float64</td>\n",
       "      <td>0</td>\n",
       "      <td>0.0</td>\n",
       "    </tr>\n",
       "    <tr>\n",
       "      <th>LotArea</th>\n",
       "      <td>float64</td>\n",
       "      <td>0</td>\n",
       "      <td>0.0</td>\n",
       "      <td>float64</td>\n",
       "      <td>0</td>\n",
       "      <td>0.0</td>\n",
       "    </tr>\n",
       "    <tr>\n",
       "      <th>TotalBsmtSF</th>\n",
       "      <td>float64</td>\n",
       "      <td>0</td>\n",
       "      <td>0.0</td>\n",
       "      <td>float64</td>\n",
       "      <td>0</td>\n",
       "      <td>0.0</td>\n",
       "    </tr>\n",
       "    <tr>\n",
       "      <th>1stFlrSF</th>\n",
       "      <td>float64</td>\n",
       "      <td>0</td>\n",
       "      <td>0.0</td>\n",
       "      <td>float64</td>\n",
       "      <td>0</td>\n",
       "      <td>0.0</td>\n",
       "    </tr>\n",
       "    <tr>\n",
       "      <th>2ndFlrSF</th>\n",
       "      <td>float64</td>\n",
       "      <td>0</td>\n",
       "      <td>0.0</td>\n",
       "      <td>float64</td>\n",
       "      <td>0</td>\n",
       "      <td>0.0</td>\n",
       "    </tr>\n",
       "    <tr>\n",
       "      <th>MSSubClass</th>\n",
       "      <td>float64</td>\n",
       "      <td>0</td>\n",
       "      <td>0.0</td>\n",
       "      <td>float64</td>\n",
       "      <td>0</td>\n",
       "      <td>0.0</td>\n",
       "    </tr>\n",
       "    <tr>\n",
       "      <th>MSZoning</th>\n",
       "      <td>float64</td>\n",
       "      <td>0</td>\n",
       "      <td>0.0</td>\n",
       "      <td>float64</td>\n",
       "      <td>0</td>\n",
       "      <td>0.0</td>\n",
       "    </tr>\n",
       "  </tbody>\n",
       "</table>\n",
       "</div>"
      ],
      "text/plain": [
       "                   dtype  Missing abs  Missing rel    dtype  Missing abs  \\\n",
       "mis_MSZoning     float64            0          0.0  float64            0   \n",
       "mis_LotFrontage  float64            0          0.0  float64            0   \n",
       "mis_TotalBsmtSF  float64            0          0.0  float64            0   \n",
       "LotFrontage      float64            0          0.0  float64            0   \n",
       "LotArea          float64            0          0.0  float64            0   \n",
       "TotalBsmtSF      float64            0          0.0  float64            0   \n",
       "1stFlrSF         float64            0          0.0  float64            0   \n",
       "2ndFlrSF         float64            0          0.0  float64            0   \n",
       "MSSubClass       float64            0          0.0  float64            0   \n",
       "MSZoning         float64            0          0.0  float64            0   \n",
       "\n",
       "                 Missing rel  \n",
       "mis_MSZoning             0.0  \n",
       "mis_LotFrontage          0.0  \n",
       "mis_TotalBsmtSF          0.0  \n",
       "LotFrontage              0.0  \n",
       "LotArea                  0.0  \n",
       "TotalBsmtSF              0.0  \n",
       "1stFlrSF                 0.0  \n",
       "2ndFlrSF                 0.0  \n",
       "MSSubClass               0.0  \n",
       "MSZoning                 0.0  "
      ]
     },
     "execution_count": 19,
     "metadata": {},
     "output_type": "execute_result"
    }
   ],
   "source": [
    "pd.concat([show_missing(df_train), show_missing(df_test)], axis=1, sort=False)"
   ]
  },
  {
   "cell_type": "code",
   "execution_count": 20,
   "metadata": {
    "scrolled": true
   },
   "outputs": [
    {
     "data": {
      "text/html": [
       "<div>\n",
       "<style scoped>\n",
       "    .dataframe tbody tr th:only-of-type {\n",
       "        vertical-align: middle;\n",
       "    }\n",
       "\n",
       "    .dataframe tbody tr th {\n",
       "        vertical-align: top;\n",
       "    }\n",
       "\n",
       "    .dataframe thead th {\n",
       "        text-align: right;\n",
       "    }\n",
       "</style>\n",
       "<table border=\"1\" class=\"dataframe\">\n",
       "  <thead>\n",
       "    <tr style=\"text-align: right;\">\n",
       "      <th></th>\n",
       "      <th>mis_MSZoning</th>\n",
       "      <th>mis_LotFrontage</th>\n",
       "      <th>mis_TotalBsmtSF</th>\n",
       "      <th>LotFrontage</th>\n",
       "      <th>LotArea</th>\n",
       "      <th>TotalBsmtSF</th>\n",
       "      <th>1stFlrSF</th>\n",
       "      <th>2ndFlrSF</th>\n",
       "      <th>MSSubClass</th>\n",
       "      <th>MSZoning</th>\n",
       "    </tr>\n",
       "  </thead>\n",
       "  <tbody>\n",
       "    <tr>\n",
       "      <th>count</th>\n",
       "      <td>1460.0</td>\n",
       "      <td>1460.000000</td>\n",
       "      <td>1460.0</td>\n",
       "      <td>1460.000000</td>\n",
       "      <td>1460.000000</td>\n",
       "      <td>1460.000000</td>\n",
       "      <td>1460.000000</td>\n",
       "      <td>1460.000000</td>\n",
       "      <td>1460.000000</td>\n",
       "      <td>1460.000000</td>\n",
       "    </tr>\n",
       "    <tr>\n",
       "      <th>mean</th>\n",
       "      <td>0.0</td>\n",
       "      <td>0.177397</td>\n",
       "      <td>0.0</td>\n",
       "      <td>0.028052</td>\n",
       "      <td>0.044221</td>\n",
       "      <td>0.012876</td>\n",
       "      <td>0.007762</td>\n",
       "      <td>0.024517</td>\n",
       "      <td>4.236986</td>\n",
       "      <td>3.028767</td>\n",
       "    </tr>\n",
       "    <tr>\n",
       "      <th>std</th>\n",
       "      <td>0.0</td>\n",
       "      <td>0.382135</td>\n",
       "      <td>0.0</td>\n",
       "      <td>1.033954</td>\n",
       "      <td>1.265751</td>\n",
       "      <td>0.995662</td>\n",
       "      <td>0.985452</td>\n",
       "      <td>1.018432</td>\n",
       "      <td>4.311548</td>\n",
       "      <td>0.632017</td>\n",
       "    </tr>\n",
       "    <tr>\n",
       "      <th>min</th>\n",
       "      <td>0.0</td>\n",
       "      <td>0.000000</td>\n",
       "      <td>0.0</td>\n",
       "      <td>-2.256162</td>\n",
       "      <td>-1.124590</td>\n",
       "      <td>-2.387009</td>\n",
       "      <td>-2.104493</td>\n",
       "      <td>-0.785025</td>\n",
       "      <td>0.000000</td>\n",
       "      <td>0.000000</td>\n",
       "    </tr>\n",
       "    <tr>\n",
       "      <th>25%</th>\n",
       "      <td>0.0</td>\n",
       "      <td>0.000000</td>\n",
       "      <td>0.0</td>\n",
       "      <td>-0.426400</td>\n",
       "      <td>-0.331566</td>\n",
       "      <td>-0.581018</td>\n",
       "      <td>-0.707584</td>\n",
       "      <td>-0.785025</td>\n",
       "      <td>0.000000</td>\n",
       "      <td>3.000000</td>\n",
       "    </tr>\n",
       "    <tr>\n",
       "      <th>50%</th>\n",
       "      <td>0.0</td>\n",
       "      <td>0.000000</td>\n",
       "      <td>0.0</td>\n",
       "      <td>-0.051064</td>\n",
       "      <td>-0.087452</td>\n",
       "      <td>-0.136754</td>\n",
       "      <td>-0.185018</td>\n",
       "      <td>-0.785025</td>\n",
       "      <td>4.000000</td>\n",
       "      <td>3.000000</td>\n",
       "    </tr>\n",
       "    <tr>\n",
       "      <th>75%</th>\n",
       "      <td>0.0</td>\n",
       "      <td>0.000000</td>\n",
       "      <td>0.0</td>\n",
       "      <td>0.465023</td>\n",
       "      <td>0.181772</td>\n",
       "      <td>0.559429</td>\n",
       "      <td>0.590546</td>\n",
       "      <td>0.913417</td>\n",
       "      <td>6.000000</td>\n",
       "      <td>3.000000</td>\n",
       "    </tr>\n",
       "    <tr>\n",
       "      <th>max</th>\n",
       "      <td>0.0</td>\n",
       "      <td>1.000000</td>\n",
       "      <td>0.0</td>\n",
       "      <td>11.443596</td>\n",
       "      <td>26.006354</td>\n",
       "      <td>11.479917</td>\n",
       "      <td>9.004498</td>\n",
       "      <td>4.032672</td>\n",
       "      <td>15.000000</td>\n",
       "      <td>4.000000</td>\n",
       "    </tr>\n",
       "  </tbody>\n",
       "</table>\n",
       "</div>"
      ],
      "text/plain": [
       "       mis_MSZoning  mis_LotFrontage  mis_TotalBsmtSF  LotFrontage  \\\n",
       "count        1460.0      1460.000000           1460.0  1460.000000   \n",
       "mean            0.0         0.177397              0.0     0.028052   \n",
       "std             0.0         0.382135              0.0     1.033954   \n",
       "min             0.0         0.000000              0.0    -2.256162   \n",
       "25%             0.0         0.000000              0.0    -0.426400   \n",
       "50%             0.0         0.000000              0.0    -0.051064   \n",
       "75%             0.0         0.000000              0.0     0.465023   \n",
       "max             0.0         1.000000              0.0    11.443596   \n",
       "\n",
       "           LotArea  TotalBsmtSF     1stFlrSF     2ndFlrSF   MSSubClass  \\\n",
       "count  1460.000000  1460.000000  1460.000000  1460.000000  1460.000000   \n",
       "mean      0.044221     0.012876     0.007762     0.024517     4.236986   \n",
       "std       1.265751     0.995662     0.985452     1.018432     4.311548   \n",
       "min      -1.124590    -2.387009    -2.104493    -0.785025     0.000000   \n",
       "25%      -0.331566    -0.581018    -0.707584    -0.785025     0.000000   \n",
       "50%      -0.087452    -0.136754    -0.185018    -0.785025     4.000000   \n",
       "75%       0.181772     0.559429     0.590546     0.913417     6.000000   \n",
       "max      26.006354    11.479917     9.004498     4.032672    15.000000   \n",
       "\n",
       "          MSZoning  \n",
       "count  1460.000000  \n",
       "mean      3.028767  \n",
       "std       0.632017  \n",
       "min       0.000000  \n",
       "25%       3.000000  \n",
       "50%       3.000000  \n",
       "75%       3.000000  \n",
       "max       4.000000  "
      ]
     },
     "execution_count": 20,
     "metadata": {},
     "output_type": "execute_result"
    }
   ],
   "source": [
    "df_train.describe()"
   ]
  },
  {
   "cell_type": "markdown",
   "metadata": {
    "heading_collapsed": true
   },
   "source": [
    "# PyTorch"
   ]
  },
  {
   "cell_type": "code",
   "execution_count": null,
   "metadata": {
    "hidden": true
   },
   "outputs": [],
   "source": [
    "import torch\n",
    "import torch.nn as nn\n",
    "import torch.nn.functional as F\n",
    "from torch.utils.data import TensorDataset, DataLoader"
   ]
  },
  {
   "cell_type": "code",
   "execution_count": null,
   "metadata": {
    "hidden": true
   },
   "outputs": [],
   "source": [
    "device = torch.device(\"cuda\") if torch.cuda.is_available() else \"cpu\"\n",
    "device"
   ]
  },
  {
   "cell_type": "markdown",
   "metadata": {
    "hidden": true
   },
   "source": [
    "## Dataset, dataloader"
   ]
  },
  {
   "cell_type": "code",
   "execution_count": null,
   "metadata": {
    "hidden": true,
    "scrolled": true
   },
   "outputs": [],
   "source": [
    "# Convert all data containers to tensors\n",
    "t_train = torch.tensor(df_train.values, dtype=torch.float32, device=device)\n",
    "t_y = torch.tensor(df_y.values, dtype=torch.float32, device=device)\n",
    "#t_y = (t_y-t_y.mean())/t_y.std()"
   ]
  },
  {
   "cell_type": "code",
   "execution_count": null,
   "metadata": {
    "hidden": true
   },
   "outputs": [],
   "source": [
    "# Dataset\n",
    "train_ds = TensorDataset(t_train, t_y)"
   ]
  },
  {
   "cell_type": "code",
   "execution_count": null,
   "metadata": {
    "hidden": true
   },
   "outputs": [],
   "source": [
    "# Dataloader\n",
    "batch_size=64\n",
    "train_dl = DataLoader(train_ds, batch_size=batch_size, shuffle=True)"
   ]
  },
  {
   "cell_type": "markdown",
   "metadata": {
    "hidden": true
   },
   "source": [
    "## Model"
   ]
  },
  {
   "cell_type": "code",
   "execution_count": null,
   "metadata": {
    "hidden": true
   },
   "outputs": [],
   "source": [
    "class LinearNet(nn.Module):\n",
    "    def __init__(self):\n",
    "        super().__init__()\n",
    "        \n",
    "        # Layers\n",
    "        self.linear1 = nn.Linear(6, 100)\n",
    "        self.act1 = nn.ReLU()\n",
    "        self.linear2 = nn.Linear(100, 1)        \n",
    "    \n",
    "    def forward(self, x):        \n",
    "        x = self.linear1(x)\n",
    "        x = self.act1(x)\n",
    "        x = self.linear2(x)\n",
    "        \n",
    "        return x"
   ]
  },
  {
   "cell_type": "code",
   "execution_count": null,
   "metadata": {
    "hidden": true
   },
   "outputs": [],
   "source": [
    "# Instantiate the model\n",
    "model = LinearNet().to(device)"
   ]
  },
  {
   "cell_type": "markdown",
   "metadata": {
    "hidden": true
   },
   "source": [
    "## Optimizer"
   ]
  },
  {
   "cell_type": "code",
   "execution_count": null,
   "metadata": {
    "hidden": true
   },
   "outputs": [],
   "source": [
    "lr = 0.1\n",
    "opt = torch.optim.Adam(model.parameters(), lr=lr)"
   ]
  },
  {
   "cell_type": "markdown",
   "metadata": {
    "hidden": true
   },
   "source": [
    "## Loss"
   ]
  },
  {
   "cell_type": "code",
   "execution_count": null,
   "metadata": {
    "hidden": true
   },
   "outputs": [],
   "source": [
    "loss_fn = F.mse_loss"
   ]
  },
  {
   "cell_type": "markdown",
   "metadata": {
    "hidden": true
   },
   "source": [
    "## Train"
   ]
  },
  {
   "cell_type": "code",
   "execution_count": null,
   "metadata": {
    "hidden": true
   },
   "outputs": [],
   "source": [
    "losses = []\n",
    "def fit(num_epochs, model, loss_fn, opt):    \n",
    "    for epoch in range(num_epochs):\n",
    "        for xb, yb in train_dl:\n",
    "            # Forward            \n",
    "            preds = model(xb)\n",
    "            loss = loss_fn(preds, yb)\n",
    "            losses.append(loss)\n",
    "            \n",
    "            # Gradient descent\n",
    "            loss.backward()\n",
    "            opt.step()\n",
    "            opt.zero_grad()\n",
    "            \n",
    "        if epoch%20==0:\n",
    "            print('Training loss:', loss_fn(model(t_train), t_y))"
   ]
  },
  {
   "cell_type": "code",
   "execution_count": null,
   "metadata": {
    "hidden": true,
    "scrolled": true
   },
   "outputs": [],
   "source": [
    "# Train for 300 epochs\n",
    "fit(num_epochs=300, model=model, loss_fn=loss_fn, opt=opt)"
   ]
  },
  {
   "cell_type": "code",
   "execution_count": null,
   "metadata": {
    "hidden": true,
    "scrolled": true
   },
   "outputs": [],
   "source": [
    "plt.plot(losses)"
   ]
  },
  {
   "cell_type": "code",
   "execution_count": null,
   "metadata": {
    "hidden": true
   },
   "outputs": [],
   "source": [
    "preds = model(t_train)"
   ]
  },
  {
   "cell_type": "code",
   "execution_count": null,
   "metadata": {
    "hidden": true
   },
   "outputs": [],
   "source": [
    "torch.cat([preds, t_y.reshape(-1,1)], dim=1)[:10, :]"
   ]
  },
  {
   "cell_type": "markdown",
   "metadata": {
    "hidden": true
   },
   "source": [
    "Even though we only added one additional column - the one-hot encoded vector for the missing values in *LotFrontage* - we could improve the training loss quite a bit"
   ]
  },
  {
   "cell_type": "code",
   "execution_count": null,
   "metadata": {
    "hidden": true
   },
   "outputs": [],
   "source": [
    "plt.scatter(preds.detach().cpu().numpy(), t_y.reshape(-1,1).detach().cpu())"
   ]
  },
  {
   "cell_type": "code",
   "execution_count": null,
   "metadata": {
    "hidden": true
   },
   "outputs": [],
   "source": []
  }
 ],
 "metadata": {
  "kernelspec": {
   "display_name": "pytorcho",
   "language": "python",
   "name": "pytorcho"
  },
  "language_info": {
   "codemirror_mode": {
    "name": "ipython",
    "version": 3
   },
   "file_extension": ".py",
   "mimetype": "text/x-python",
   "name": "python",
   "nbconvert_exporter": "python",
   "pygments_lexer": "ipython3",
   "version": "3.7.3"
  }
 },
 "nbformat": 4,
 "nbformat_minor": 2
}
