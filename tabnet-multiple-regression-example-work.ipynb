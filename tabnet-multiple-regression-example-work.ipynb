{
 "cells": [
  {
   "cell_type": "code",
   "execution_count": 1,
   "metadata": {},
   "outputs": [],
   "source": [
    "from pytorch_tabnet.tab_model import TabNetRegressor\n",
    "\n",
    "import torch\n",
    "from sklearn.preprocessing import LabelEncoder\n",
    "from sklearn.metrics import mean_squared_error\n",
    "\n",
    "import pandas as pd\n",
    "import numpy as np\n",
    "np.random.seed(0)\n",
    "\n",
    "\n",
    "import os\n",
    "import wget\n",
    "from pathlib import Path"
   ]
  },
  {
   "cell_type": "markdown",
   "metadata": {},
   "source": [
    "# Download census-income dataset"
   ]
  },
  {
   "cell_type": "code",
   "execution_count": 2,
   "metadata": {},
   "outputs": [],
   "source": [
    "url = \"https://archive.ics.uci.edu/ml/machine-learning-databases/adult/adult.data\"\n",
    "dataset_name = 'census-income'\n",
    "out = Path(os.getcwd()+'/data/'+dataset_name+'.csv')"
   ]
  },
  {
   "cell_type": "code",
   "execution_count": 3,
   "metadata": {},
   "outputs": [
    {
     "name": "stdout",
     "output_type": "stream",
     "text": [
      "File already exists.\n"
     ]
    }
   ],
   "source": [
    "out.parent.mkdir(parents=True, exist_ok=True)\n",
    "if out.exists():\n",
    "    print(\"File already exists.\")\n",
    "else:\n",
    "    print(\"Downloading file...\")\n",
    "    wget.download(url, out.as_posix())"
   ]
  },
  {
   "cell_type": "markdown",
   "metadata": {},
   "source": [
    "# Load data and split"
   ]
  },
  {
   "cell_type": "code",
   "execution_count": 4,
   "metadata": {},
   "outputs": [],
   "source": [
    "train = pd.read_csv(out)\n",
    "target = ' <=50K'\n",
    "if \"Set\" not in train.columns:\n",
    "    train[\"Set\"] = np.random.choice([\"train\", \"valid\", \"test\"], p =[.8, .1, .1], size=(train.shape[0],))\n",
    "\n",
    "train_indices = train[train.Set==\"train\"].index\n",
    "valid_indices = train[train.Set==\"valid\"].index\n",
    "test_indices = train[train.Set==\"test\"].index"
   ]
  },
  {
   "cell_type": "markdown",
   "metadata": {},
   "source": [
    "# Simple preprocessing\n",
    "\n",
    "Label encode categorical features and fill empty cells."
   ]
  },
  {
   "cell_type": "code",
   "execution_count": 5,
   "metadata": {},
   "outputs": [
    {
     "name": "stdout",
     "output_type": "stream",
     "text": [
      " State-gov 9\n",
      " Bachelors 16\n",
      " Never-married 7\n",
      " Adm-clerical 15\n",
      " Not-in-family 6\n",
      " White 5\n",
      " Male 2\n",
      " United-States 42\n",
      " <=50K 2\n",
      "Set 3\n"
     ]
    }
   ],
   "source": [
    "categorical_columns = []\n",
    "categorical_dims =  {}\n",
    "for col in train.columns[train.dtypes == object]:\n",
    "    print(col, train[col].nunique())\n",
    "    l_enc = LabelEncoder()\n",
    "    train[col] = train[col].fillna(\"VV_likely\")\n",
    "    train[col] = l_enc.fit_transform(train[col].values)\n",
    "    categorical_columns.append(col)\n",
    "    categorical_dims[col] = len(l_enc.classes_)\n",
    "\n",
    "for col in train.columns[train.dtypes == 'float64']:\n",
    "    train.fillna(train.loc[train_indices, col].mean(), inplace=True)"
   ]
  },
  {
   "cell_type": "markdown",
   "metadata": {},
   "source": [
    "# Define categorical features for categorical embeddings"
   ]
  },
  {
   "cell_type": "code",
   "execution_count": 6,
   "metadata": {},
   "outputs": [],
   "source": [
    "unused_feat = ['Set']\n",
    "\n",
    "features = [ col for col in train.columns if col not in unused_feat+[target]] \n",
    "\n",
    "cat_idxs = [ i for i, f in enumerate(features) if f in categorical_columns]\n",
    "\n",
    "cat_dims = [ categorical_dims[f] for i, f in enumerate(features) if f in categorical_columns]\n",
    "\n",
    "# define your embedding sizes : here just a random choice\n",
    "cat_emb_dim = [5, 4, 3, 6, 2, 2, 1, 10]"
   ]
  },
  {
   "cell_type": "markdown",
   "metadata": {},
   "source": [
    "# Network parameters"
   ]
  },
  {
   "cell_type": "code",
   "execution_count": 12,
   "metadata": {},
   "outputs": [
    {
     "data": {
      "text/plain": [
       "[9, 16, 7, 15, 6, 5, 2, 42]"
      ]
     },
     "execution_count": 12,
     "metadata": {},
     "output_type": "execute_result"
    }
   ],
   "source": [
    "cat_dims"
   ]
  },
  {
   "cell_type": "code",
   "execution_count": 7,
   "metadata": {},
   "outputs": [
    {
     "name": "stdout",
     "output_type": "stream",
     "text": [
      "Device used : cuda\n"
     ]
    }
   ],
   "source": [
    "clf = TabNetRegressor(cat_dims=cat_dims, cat_emb_dim=cat_emb_dim, cat_idxs=cat_idxs)"
   ]
  },
  {
   "cell_type": "markdown",
   "metadata": {},
   "source": [
    "# Training"
   ]
  },
  {
   "cell_type": "markdown",
   "metadata": {},
   "source": [
    "### We will simulate 5 targets here to perform multi regression without changing anything!"
   ]
  },
  {
   "cell_type": "code",
   "execution_count": 10,
   "metadata": {
    "scrolled": true
   },
   "outputs": [
    {
     "data": {
      "text/plain": [
       "(26072, 8)"
      ]
     },
     "execution_count": 10,
     "metadata": {},
     "output_type": "execute_result"
    }
   ],
   "source": [
    "y_train.shape"
   ]
  },
  {
   "cell_type": "code",
   "execution_count": 8,
   "metadata": {},
   "outputs": [],
   "source": [
    "n_targets = 8\n",
    "\n",
    "X_train = train[features].values[train_indices]\n",
    "y_train = train[target].values[train_indices]\n",
    "y_train = np.transpose(np.tile(y_train, (n_targets,1)))\n",
    "\n",
    "X_valid = train[features].values[valid_indices]\n",
    "y_valid = train[target].values[valid_indices]\n",
    "y_valid = np.transpose(np.tile(y_valid, (n_targets,1)))\n",
    "\n",
    "X_test = train[features].values[test_indices]\n",
    "y_test = train[target].values[test_indices]\n",
    "y_test = np.transpose(np.tile(y_test, (n_targets,1)))"
   ]
  },
  {
   "cell_type": "code",
   "execution_count": 9,
   "metadata": {},
   "outputs": [],
   "source": [
    "max_epochs = 1000 if not os.getenv(\"CI\", False) else 2"
   ]
  },
  {
   "cell_type": "code",
   "execution_count": null,
   "metadata": {
    "scrolled": true
   },
   "outputs": [
    {
     "name": "stdout",
     "output_type": "stream",
     "text": [
      "Will train until validation stopping metric hasn't improved in 50 rounds.\n",
      "---------------------------------------\n",
      "| EPOCH |  train  |   valid  | total time (s)\n",
      "| 1     | -0.34480 |  -0.49846 |   7.4       \n",
      "| 2     | -0.14695 |  -0.19283 |   10.7      \n",
      "| 3     | -0.13052 |  -0.21267 |   14.2      \n",
      "| 4     | -0.12491 |  -0.16150 |   17.6      \n",
      "| 5     | -0.12119 |  -0.15077 |   21.0      \n",
      "| 6     | -0.11902 |  -0.12248 |   24.4      \n",
      "| 7     | -0.11552 |  -0.12136 |   27.9      \n",
      "| 8     | -0.11358 |  -0.11512 |   31.4      \n",
      "| 9     | -0.11161 |  -0.10789 |   34.7      \n",
      "| 10    | -0.11047 |  -0.10758 |   38.3      \n",
      "| 11    | -0.10948 |  -0.10497 |   41.7      \n",
      "| 12    | -0.10831 |  -0.10300 |   45.1      \n",
      "| 13    | -0.10748 |  -0.10234 |   48.6      \n",
      "| 14    | -0.10769 |  -0.10131 |   51.9      \n",
      "| 15    | -0.10556 |  -0.10097 |   55.3      \n",
      "| 16    | -0.10568 |  -0.10244 |   59.0      \n",
      "| 17    | -0.10428 |  -0.09981 |   62.5      \n",
      "| 18    | -0.10341 |  -0.10108 |   65.9      \n",
      "| 19    | -0.10485 |  -0.10078 |   69.3      \n",
      "| 20    | -0.10456 |  -0.09975 |   72.8      \n",
      "| 21    | -0.10425 |  -0.10096 |   76.4      \n",
      "| 22    | -0.10349 |  -0.09951 |   79.7      \n",
      "| 23    | -0.10352 |  -0.10015 |   83.2      \n",
      "| 24    | -0.10264 |  -0.10186 |   86.7      \n",
      "| 25    | -0.10329 |  -0.10096 |   90.1      \n",
      "| 26    | -0.10341 |  -0.10115 |   93.6      \n",
      "| 27    | -0.10330 |  -0.10152 |   97.1      \n",
      "| 28    | -0.10189 |  -0.10075 |   100.4     \n",
      "| 29    | -0.10250 |  -0.10009 |   103.9     \n",
      "| 30    | -0.10367 |  -0.09971 |   107.3     \n",
      "| 31    | -0.10387 |  -0.10236 |   110.6     \n",
      "| 32    | -0.10305 |  -0.10297 |   114.1     \n",
      "| 33    | -0.10171 |  -0.09929 |   117.5     \n",
      "| 34    | -0.10231 |  -0.09924 |   120.9     \n",
      "| 35    | -0.10144 |  -0.09919 |   124.3     \n",
      "| 36    | -0.10120 |  -0.09841 |   127.7     \n",
      "| 37    | -0.10099 |  -0.09751 |   131.2     \n",
      "| 38    | -0.10082 |  -0.09849 |   134.8     \n",
      "| 39    | -0.10033 |  -0.09928 |   138.3     \n",
      "| 40    | -0.10152 |  -0.09998 |   141.7     \n",
      "| 41    | -0.09978 |  -0.09857 |   145.1     \n",
      "| 42    | -0.09966 |  -0.09958 |   148.6     \n",
      "| 43    | -0.10007 |  -0.09861 |   152.0     \n",
      "| 44    | -0.09939 |  -0.09864 |   155.4     \n",
      "| 45    | -0.09953 |  -0.10030 |   158.9     \n",
      "| 46    | -0.09999 |  -0.09834 |   162.3     \n",
      "| 47    | -0.09964 |  -0.09893 |   165.8     \n",
      "| 48    | -0.10005 |  -0.09833 |   169.2     \n",
      "| 49    | -0.09984 |  -0.09807 |   172.6     \n",
      "| 50    | -0.09888 |  -0.09871 |   176.0     \n",
      "| 51    | -0.09929 |  -0.10245 |   179.5     \n",
      "| 52    | -0.09944 |  -0.09862 |   182.9     \n",
      "| 53    | -0.10028 |  -0.09954 |   186.4     \n",
      "| 54    | -0.09947 |  -0.09780 |   189.9     \n",
      "| 55    | -0.09801 |  -0.10039 |   193.4     \n",
      "| 56    | -0.09883 |  -0.09998 |   196.9     \n",
      "| 57    | -0.10011 |  -0.09720 |   200.3     \n",
      "| 58    | -0.09832 |  -0.09838 |   203.7     \n",
      "| 59    | -0.09870 |  -0.09909 |   207.2     \n",
      "| 60    | -0.09833 |  -0.09825 |   210.7     \n",
      "| 61    | -0.09788 |  -0.10006 |   214.2     \n",
      "| 62    | -0.09799 |  -0.09910 |   217.6     \n",
      "| 63    | -0.09822 |  -0.09862 |   221.1     \n",
      "| 64    | -0.09834 |  -0.09891 |   224.4     \n",
      "| 65    | -0.09808 |  -0.09860 |   227.9     \n",
      "| 66    | -0.09871 |  -0.09720 |   231.2     \n",
      "| 67    | -0.09722 |  -0.09886 |   234.6     \n",
      "| 68    | -0.09721 |  -0.09772 |   238.0     \n",
      "| 69    | -0.09713 |  -0.09909 |   241.4     \n",
      "| 70    | -0.09739 |  -0.09817 |   244.8     \n",
      "| 71    | -0.09786 |  -0.10040 |   248.2     \n",
      "| 72    | -0.09720 |  -0.09841 |   251.6     \n",
      "| 73    | -0.09705 |  -0.09758 |   255.0     \n",
      "| 74    | -0.09682 |  -0.09871 |   258.4     \n",
      "| 75    | -0.09801 |  -0.09811 |   261.8     \n",
      "| 76    | -0.09713 |  -0.09731 |   265.2     \n",
      "| 77    | -0.09681 |  -0.09818 |   268.6     \n",
      "| 78    | -0.09699 |  -0.09644 |   272.2     \n",
      "| 79    | -0.09680 |  -0.09759 |   275.6     \n",
      "| 80    | -0.09693 |  -0.09814 |   279.0     \n",
      "| 81    | -0.09654 |  -0.09799 |   282.4     \n",
      "| 82    | -0.09646 |  -0.09842 |   285.8     \n",
      "| 83    | -0.09596 |  -0.09875 |   289.4     \n",
      "| 84    | -0.09608 |  -0.10085 |   292.8     \n",
      "| 85    | -0.09631 |  -0.09870 |   296.2     \n",
      "| 86    | -0.09593 |  -0.09970 |   299.6     \n",
      "| 87    | -0.09576 |  -0.09978 |   302.9     \n",
      "| 88    | -0.09649 |  -0.09715 |   306.3     \n",
      "| 89    | -0.09599 |  -0.09684 |   309.7     \n",
      "| 90    | -0.09667 |  -0.09820 |   313.1     \n",
      "| 91    | -0.09637 |  -0.09892 |   316.6     \n",
      "| 92    | -0.09655 |  -0.09962 |   320.0     \n",
      "| 93    | -0.09633 |  -0.09902 |   323.4     \n",
      "| 94    | -0.09560 |  -0.09891 |   327.0     \n",
      "| 95    | -0.09648 |  -0.10046 |   330.4     \n",
      "| 96    | -0.09608 |  -0.09835 |   333.8     \n",
      "| 97    | -0.09549 |  -0.09773 |   337.3     \n",
      "| 98    | -0.09529 |  -0.09892 |   340.7     \n",
      "| 99    | -0.09440 |  -0.09866 |   344.1     \n",
      "| 100   | -0.09495 |  -0.09881 |   347.5     \n",
      "| 101   | -0.09411 |  -0.10126 |   350.9     \n",
      "| 102   | -0.09432 |  -0.10001 |   354.3     \n",
      "| 103   | -0.09508 |  -0.09917 |   357.7     \n",
      "| 104   | -0.09499 |  -0.09857 |   361.1     \n",
      "| 105   | -0.09413 |  -0.10012 |   364.5     \n",
      "| 106   | -0.09720 |  -0.09854 |   367.8     \n",
      "| 107   | -0.09704 |  -0.10065 |   371.3     \n",
      "| 108   | -0.09673 |  -0.09919 |   374.8     \n",
      "| 109   | -0.09514 |  -0.09887 |   378.3     \n",
      "| 110   | -0.09405 |  -0.10010 |   381.7     \n",
      "| 111   | -0.09511 |  -0.10061 |   385.2     \n",
      "| 112   | -0.09390 |  -0.09810 |   388.6     \n",
      "| 113   | -0.09423 |  -0.09961 |   391.9     \n",
      "| 114   | -0.09454 |  -0.09957 |   395.6     \n",
      "| 115   | -0.09459 |  -0.09893 |   399.0     \n",
      "| 116   | -0.09492 |  -0.09921 |   402.4     \n",
      "| 117   | -0.09467 |  -0.10052 |   405.8     \n",
      "| 118   | -0.09469 |  -0.10056 |   409.3     \n",
      "| 119   | -0.09513 |  -0.10111 |   412.7     \n",
      "| 120   | -0.09519 |  -0.09955 |   416.1     \n",
      "| 121   | -0.09518 |  -0.10224 |   419.5     \n",
      "| 122   | -0.09484 |  -0.09699 |   422.9     \n",
      "| 123   | -0.09315 |  -0.09908 |   426.3     \n",
      "| 124   | -0.09356 |  -0.09780 |   429.8     \n",
      "| 125   | -0.09403 |  -0.09842 |   433.3     \n",
      "| 126   | -0.09299 |  -0.10110 |   436.7     \n",
      "| 127   | -0.09318 |  -0.09858 |   440.1     \n",
      "| 128   | -0.09231 |  -0.09979 |   443.6     \n",
      "Early stopping occured at epoch 128\n",
      "Training done in 443.568 seconds.\n",
      "---------------------------------------\n"
     ]
    }
   ],
   "source": [
    "clf.fit(\n",
    "    X_train=X_train, y_train=y_train,\n",
    "    X_valid=X_valid, y_valid=y_valid,\n",
    "    max_epochs=max_epochs,\n",
    "    patience=50,\n",
    "    batch_size=1024, virtual_batch_size=128,\n",
    "    num_workers=0,\n",
    "    drop_last=False\n",
    ") "
   ]
  },
  {
   "cell_type": "code",
   "execution_count": null,
   "metadata": {},
   "outputs": [],
   "source": [
    "# Deprecated : best model is automatically loaded at end of fit\n",
    "# clf.load_best_model()\n",
    "\n",
    "preds = clf.predict(X_test)\n",
    "\n",
    "y_true = y_test\n",
    "\n",
    "test_score = mean_squared_error(y_pred=preds, y_true=y_true)\n",
    "\n",
    "print(f\"BEST VALID SCORE FOR {dataset_name} : {clf.best_cost}\")\n",
    "print(f\"FINAL TEST SCORE FOR {dataset_name} : {test_score}\")"
   ]
  },
  {
   "cell_type": "markdown",
   "metadata": {},
   "source": [
    "# Global explainability : feat importance summing to 1"
   ]
  },
  {
   "cell_type": "code",
   "execution_count": null,
   "metadata": {},
   "outputs": [],
   "source": [
    "clf.feature_importances_"
   ]
  },
  {
   "cell_type": "markdown",
   "metadata": {},
   "source": [
    "# Local explainability and masks"
   ]
  },
  {
   "cell_type": "code",
   "execution_count": null,
   "metadata": {},
   "outputs": [],
   "source": [
    "explain_matrix, masks = clf.explain(X_test)"
   ]
  },
  {
   "cell_type": "code",
   "execution_count": null,
   "metadata": {},
   "outputs": [],
   "source": [
    "from matplotlib import pyplot as plt\n",
    "%matplotlib inline"
   ]
  },
  {
   "cell_type": "code",
   "execution_count": null,
   "metadata": {},
   "outputs": [],
   "source": [
    "fig, axs = plt.subplots(1, 3, figsize=(20,20))\n",
    "\n",
    "for i in range(3):\n",
    "    axs[i].imshow(masks[i][:50])\n",
    "    axs[i].set_title(f\"mask {i}\")\n"
   ]
  },
  {
   "cell_type": "markdown",
   "metadata": {},
   "source": [
    "# XGB : unfortunately this is still not possible with XGBoost\n",
    "\n",
    "https://github.com/dmlc/xgboost/issues/2087"
   ]
  }
 ],
 "metadata": {
  "kernelspec": {
   "display_name": "Python 3",
   "language": "python",
   "name": "python3"
  },
  "language_info": {
   "codemirror_mode": {
    "name": "ipython",
    "version": 3
   },
   "file_extension": ".py",
   "mimetype": "text/x-python",
   "name": "python",
   "nbconvert_exporter": "python",
   "pygments_lexer": "ipython3",
   "version": "3.7.1"
  },
  "toc": {
   "base_numbering": 1,
   "nav_menu": {},
   "number_sections": true,
   "sideBar": true,
   "skip_h1_title": false,
   "title_cell": "Table of Contents",
   "title_sidebar": "Contents",
   "toc_cell": false,
   "toc_position": {},
   "toc_section_display": true,
   "toc_window_display": false
  }
 },
 "nbformat": 4,
 "nbformat_minor": 2
}
