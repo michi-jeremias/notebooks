{
 "cells": [
  {
   "cell_type": "code",
   "execution_count": null,
   "metadata": {},
   "outputs": [],
   "source": [
    "from ../dltools/"
   ]
  },
  {
   "cell_type": "code",
   "execution_count": 1,
   "metadata": {},
   "outputs": [],
   "source": [
    "import numpy as np"
   ]
  },
  {
   "cell_type": "code",
   "execution_count": 2,
   "metadata": {},
   "outputs": [],
   "source": [
    "np.random.seed(1)"
   ]
  },
  {
   "cell_type": "code",
   "execution_count": 3,
   "metadata": {},
   "outputs": [
    {
     "data": {
      "text/plain": [
       "array([[5, 8, 9],\n",
       "       [5, 0, 0],\n",
       "       [1, 7, 6]])"
      ]
     },
     "execution_count": 3,
     "metadata": {},
     "output_type": "execute_result"
    }
   ],
   "source": [
    "X = np.random.choice(10, [3, 3])\n",
    "X"
   ]
  },
  {
   "cell_type": "code",
   "execution_count": 5,
   "metadata": {},
   "outputs": [
    {
     "data": {
      "text/plain": [
       "array([[4, 0, 1, 9, 8, 2, 3, 1, 2, 7, 2, 6, 0, 9, 2, 6, 6, 2, 7, 7, 0, 6,\n",
       "        5, 1, 4, 6, 0, 6, 5, 1, 2, 1, 5, 4, 0, 7, 8, 9, 5, 7, 0, 9, 3, 9,\n",
       "        1, 4, 4, 6, 8, 8, 9, 2, 7, 5, 5, 4, 5, 8, 5, 8, 1, 1, 8, 7, 0, 3,\n",
       "        4, 2, 0, 3, 5, 1, 2, 4, 3, 0, 6, 0, 7, 2, 8, 3, 0, 8, 4, 2, 9, 0,\n",
       "        3, 8, 1, 4, 3, 3, 6, 7, 3, 5, 3, 2]])"
      ]
     },
     "execution_count": 5,
     "metadata": {},
     "output_type": "execute_result"
    }
   ],
   "source": [
    "X = np.random.choice(10, [1, 100])\n",
    "X"
   ]
  },
  {
   "cell_type": "code",
   "execution_count": 8,
   "metadata": {},
   "outputs": [
    {
     "data": {
      "text/plain": [
       "array([[ 82,  10,  22, 262, 218,  38,  58,  22,  38, 178,  38, 142,  10,\n",
       "        262,  38, 142, 142,  38, 178, 178,  10, 142, 110,  22,  82, 142,\n",
       "         10, 142, 110,  22,  38,  22, 110,  82,  10, 178, 218, 262, 110,\n",
       "        178,  10, 262,  58, 262,  22,  82,  82, 142, 218, 218, 262,  38,\n",
       "        178, 110, 110,  82, 110, 218, 110, 218,  22,  22, 218, 178,  10,\n",
       "         58,  82,  38,  10,  58, 110,  22,  38,  82,  58,  10, 142,  10,\n",
       "        178,  38, 218,  58,  10, 218,  82,  38, 262,  10,  58, 218,  22,\n",
       "         82,  58,  58, 142, 178,  58, 110,  58,  38]])"
      ]
     },
     "execution_count": 8,
     "metadata": {},
     "output_type": "execute_result"
    }
   ],
   "source": [
    "Y = 2*np.square(X) + 10*X + 10\n",
    "Y"
   ]
  },
  {
   "cell_type": "code",
   "execution_count": 9,
   "metadata": {},
   "outputs": [
    {
     "data": {
      "text/plain": [
       "-102.48"
      ]
     },
     "execution_count": 9,
     "metadata": {},
     "output_type": "execute_result"
    }
   ],
   "source": [
    "np.mean(Y-2*Y)"
   ]
  },
  {
   "cell_type": "code",
   "execution_count": 20,
   "metadata": {},
   "outputs": [],
   "source": [
    "class Linear():\n",
    "    def __init__(self, n_out, n_in, initmethod='gauss'):\n",
    "        self.n_in = n_in\n",
    "        self.n_out = n_out\n",
    "        self.b = np.zeros([n_out, 1])\n",
    "        self.W = np.zeros([n_out, n_in])\n",
    "        self.b_grad = np.zeros([n_out, 1])\n",
    "        self.W_grad = np.zeros([n_out, n_in])\n",
    "        if initmethod == 'gauss':\n",
    "            self.W = np.random.randn(n_out, n_in)\n",
    "        \n",
    "    def forward(self, A):\n",
    "        self.Z = np.add(np.dot(self.W, A), self.b)\n",
    "        return self.Z\n",
    "    \n",
    "    def backward(self):\n",
    "        pass\n",
    "    \n",
    "    def __call__(self, A):\n",
    "        return self.forward(A)"
   ]
  },
  {
   "cell_type": "code",
   "execution_count": 16,
   "metadata": {},
   "outputs": [],
   "source": [
    "class Sigmoid():\n",
    "    def forward(self, Z):\n",
    "        self.A = np.divide(1, np.add(1, np.exp(-Z)))\n",
    "        return self.A\n",
    "    \n",
    "    def backward(self):\n",
    "        self.A_grads = self.A * (1-self.A)        \n",
    "        return self.A_grads\n",
    "    \n",
    "    def __call__(self, Z):\n",
    "        return self.forward(Z)"
   ]
  },
  {
   "cell_type": "code",
   "execution_count": 63,
   "metadata": {},
   "outputs": [],
   "source": [
    "class Relu():\n",
    "    def forward(self, Z):\n",
    "        self.A = np.maximum(Z, 0)        \n",
    "        return self.A\n",
    "    \n",
    "    def backward(self):\n",
    "        self.A_grads = \n",
    "    \n",
    "    def __call__(self, Z):\n",
    "        return self.forward(Z)"
   ]
  },
  {
   "cell_type": "code",
   "execution_count": 10,
   "metadata": {},
   "outputs": [],
   "source": [
    "class Loss():\n",
    "    def forward(self, A, Y):\n",
    "        self.A = A\n",
    "        self.Y = Y\n",
    "        self.L = -np.mean((Y*(np.log(A) + (1-Y)*np.log(1-A))))\n",
    "        return self.L\n",
    "    \n",
    "    def backward(self):\n",
    "        self.L_grads = np.divide(self.A-self.Y, np.multiply(self.A, (1-self.A)))\n",
    "        return self.L_grads"
   ]
  },
  {
   "cell_type": "code",
   "execution_count": 27,
   "metadata": {},
   "outputs": [],
   "source": [
    "loss = Loss()"
   ]
  },
  {
   "cell_type": "code",
   "execution_count": 25,
   "metadata": {},
   "outputs": [],
   "source": [
    "lin1 = Linear(1, 1)\n",
    "act1 = Sigmoid()"
   ]
  },
  {
   "cell_type": "code",
   "execution_count": 28,
   "metadata": {},
   "outputs": [
    {
     "data": {
      "text/plain": [
       "-7431.6810821028885"
      ]
     },
     "execution_count": 28,
     "metadata": {},
     "output_type": "execute_result"
    }
   ],
   "source": [
    "loss.forward(act1(lin1(X)), Y)"
   ]
  },
  {
   "cell_type": "code",
   "execution_count": 31,
   "metadata": {},
   "outputs": [
    {
     "data": {
      "text/plain": [
       "array([[ -334.00838194,   -38.        ,   -86.20259472, -1175.78912039,\n",
       "         -954.76050935,  -151.03393856,  -233.27598915,   -86.20259472,\n",
       "         -151.03393856,  -762.73364738,  -151.03393856,  -596.83936654,\n",
       "          -38.        , -1175.78912039,  -151.03393856,  -596.83936654,\n",
       "         -596.83936654,  -151.03393856,  -762.73364738,  -762.73364738,\n",
       "          -38.        ,  -596.83936654,  -454.62240017,   -86.20259472,\n",
       "         -334.00838194,  -596.83936654,   -38.        ,  -596.83936654,\n",
       "         -454.62240017,   -86.20259472,  -151.03393856,   -86.20259472,\n",
       "         -454.62240017,  -334.00838194,   -38.        ,  -762.73364738,\n",
       "         -954.76050935, -1175.78912039,  -454.62240017,  -762.73364738,\n",
       "          -38.        , -1175.78912039,  -233.27598915, -1175.78912039,\n",
       "          -86.20259472,  -334.00838194,  -334.00838194,  -596.83936654,\n",
       "         -954.76050935,  -954.76050935, -1175.78912039,  -151.03393856,\n",
       "         -762.73364738,  -454.62240017,  -454.62240017,  -334.00838194,\n",
       "         -454.62240017,  -954.76050935,  -454.62240017,  -954.76050935,\n",
       "          -86.20259472,   -86.20259472,  -954.76050935,  -762.73364738,\n",
       "          -38.        ,  -233.27598915,  -334.00838194,  -151.03393856,\n",
       "          -38.        ,  -233.27598915,  -454.62240017,   -86.20259472,\n",
       "         -151.03393856,  -334.00838194,  -233.27598915,   -38.        ,\n",
       "         -596.83936654,   -38.        ,  -762.73364738,  -151.03393856,\n",
       "         -954.76050935,  -233.27598915,   -38.        ,  -954.76050935,\n",
       "         -334.00838194,  -151.03393856, -1175.78912039,   -38.        ,\n",
       "         -233.27598915,  -954.76050935,   -86.20259472,  -334.00838194,\n",
       "         -233.27598915,  -233.27598915,  -596.83936654,  -762.73364738,\n",
       "         -233.27598915,  -454.62240017,  -233.27598915,  -151.03393856]])"
      ]
     },
     "execution_count": 31,
     "metadata": {},
     "output_type": "execute_result"
    }
   ],
   "source": [
    "loss.backward()"
   ]
  },
  {
   "cell_type": "code",
   "execution_count": null,
   "metadata": {},
   "outputs": [],
   "source": [
    "loss.forward()"
   ]
  },
  {
   "cell_type": "code",
   "execution_count": 12,
   "metadata": {},
   "outputs": [
    {
     "name": "stderr",
     "output_type": "stream",
     "text": [
      "C:\\Users\\micha\\miniconda3\\envs\\python37\\lib\\site-packages\\ipykernel_launcher.py:5: RuntimeWarning: divide by zero encountered in log\n",
      "  \"\"\"\n",
      "C:\\Users\\micha\\miniconda3\\envs\\python37\\lib\\site-packages\\ipykernel_launcher.py:5: RuntimeWarning: invalid value encountered in log\n",
      "  \"\"\"\n"
     ]
    },
    {
     "data": {
      "text/plain": [
       "nan"
      ]
     },
     "execution_count": 12,
     "metadata": {},
     "output_type": "execute_result"
    }
   ],
   "source": [
    "loss.forward(X, Y)"
   ]
  },
  {
   "cell_type": "code",
   "execution_count": null,
   "metadata": {},
   "outputs": [],
   "source": []
  },
  {
   "cell_type": "code",
   "execution_count": 78,
   "metadata": {},
   "outputs": [],
   "source": [
    "lin1 = Linear(3, 1)\n",
    "act1 = Relu()\n",
    "lin2 = Linear(4, 1)\n",
    "act2 = Sigmoid()"
   ]
  },
  {
   "cell_type": "code",
   "execution_count": 79,
   "metadata": {},
   "outputs": [],
   "source": [
    "A1 = act1(lin1(X))"
   ]
  },
  {
   "cell_type": "code",
   "execution_count": 80,
   "metadata": {},
   "outputs": [],
   "source": [
    "A2 = act2(lin2(A1))"
   ]
  },
  {
   "cell_type": "code",
   "execution_count": 81,
   "metadata": {},
   "outputs": [
    {
     "data": {
      "text/plain": [
       "array([[0.99996855, 0.202798  , 0.15027745]])"
      ]
     },
     "execution_count": 81,
     "metadata": {},
     "output_type": "execute_result"
    }
   ],
   "source": [
    "A2"
   ]
  },
  {
   "cell_type": "code",
   "execution_count": null,
   "metadata": {},
   "outputs": [],
   "source": []
  }
 ],
 "metadata": {
  "kernelspec": {
   "display_name": "Python 3",
   "language": "python",
   "name": "python3"
  },
  "language_info": {
   "codemirror_mode": {
    "name": "ipython",
    "version": 3
   },
   "file_extension": ".py",
   "mimetype": "text/x-python",
   "name": "python",
   "nbconvert_exporter": "python",
   "pygments_lexer": "ipython3",
   "version": "3.7.9"
  }
 },
 "nbformat": 4,
 "nbformat_minor": 4
}
