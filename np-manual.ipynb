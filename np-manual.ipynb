{
 "cells": [
  {
   "cell_type": "code",
   "execution_count": 1,
   "metadata": {},
   "outputs": [],
   "source": [
    "import numpy as np"
   ]
  },
  {
   "cell_type": "code",
   "execution_count": 2,
   "metadata": {},
   "outputs": [],
   "source": [
    "np.random.seed(1)"
   ]
  },
  {
   "cell_type": "code",
   "execution_count": 3,
   "metadata": {},
   "outputs": [
    {
     "data": {
      "text/plain": [
       "array([[5, 8, 9],\n",
       "       [5, 0, 0],\n",
       "       [1, 7, 6]])"
      ]
     },
     "execution_count": 3,
     "metadata": {},
     "output_type": "execute_result"
    }
   ],
   "source": [
    "X = np.random.choice(10, [3, 3])\n",
    "X"
   ]
  },
  {
   "cell_type": "code",
   "execution_count": 4,
   "metadata": {},
   "outputs": [],
   "source": [
    "X1 = np.random.choice(10, [1, 100])\n",
    "X2 = X1**2"
   ]
  },
  {
   "cell_type": "code",
   "execution_count": 5,
   "metadata": {},
   "outputs": [
    {
     "data": {
      "text/plain": [
       "array([[ 9,  2,  4,  5,  2,  4,  2,  4,  7,  7,  9,  1,  7,  0,  6,  9,\n",
       "         9,  7,  6,  9,  1,  0,  1,  8,  8,  3,  9,  8,  7,  3,  6,  5,\n",
       "         1,  9,  3,  4,  8,  1,  4,  0,  3,  9,  2,  0,  4,  9,  2,  7,\n",
       "         7,  9,  8,  6,  9,  3,  7,  7,  4,  5,  9,  3,  6,  8,  0,  2,\n",
       "         7,  7,  9,  7,  3,  0,  8,  7,  7,  1,  1,  3,  0,  8,  6,  4,\n",
       "         5,  6,  2,  5,  7,  8,  4,  4,  7,  7,  4,  9,  0,  2,  0,  7,\n",
       "         1,  7,  9,  8],\n",
       "       [81,  4, 16, 25,  4, 16,  4, 16, 49, 49, 81,  1, 49,  0, 36, 81,\n",
       "        81, 49, 36, 81,  1,  0,  1, 64, 64,  9, 81, 64, 49,  9, 36, 25,\n",
       "         1, 81,  9, 16, 64,  1, 16,  0,  9, 81,  4,  0, 16, 81,  4, 49,\n",
       "        49, 81, 64, 36, 81,  9, 49, 49, 16, 25, 81,  9, 36, 64,  0,  4,\n",
       "        49, 49, 81, 49,  9,  0, 64, 49, 49,  1,  1,  9,  0, 64, 36, 16,\n",
       "        25, 36,  4, 25, 49, 64, 16, 16, 49, 49, 16, 81,  0,  4,  0, 49,\n",
       "         1, 49, 81, 64]])"
      ]
     },
     "execution_count": 5,
     "metadata": {},
     "output_type": "execute_result"
    }
   ],
   "source": [
    "X = np.concatenate((X1, X2), axis=0)\n",
    "X"
   ]
  },
  {
   "cell_type": "code",
   "execution_count": 6,
   "metadata": {},
   "outputs": [
    {
     "data": {
      "text/plain": [
       "array([[100,  16,  30,  40,  16,  30,  16,  30,  66,  66, 100,  12,  66,\n",
       "         10,  52, 100, 100,  66,  52, 100,  12,  10,  12,  82,  82,  22,\n",
       "        100,  82,  66,  22,  52,  40,  12, 100,  22,  30,  82,  12,  30,\n",
       "         10,  22, 100,  16,  10,  30, 100,  16,  66,  66, 100,  82,  52,\n",
       "        100,  22,  66,  66,  30,  40, 100,  22,  52,  82,  10,  16,  66,\n",
       "         66, 100,  66,  22,  10,  82,  66,  66,  12,  12,  22,  10,  82,\n",
       "         52,  30,  40,  52,  16,  40,  66,  82,  30,  30,  66,  66,  30,\n",
       "        100,  10,  16,  10,  66,  12,  66, 100,  82]])"
      ]
     },
     "execution_count": 6,
     "metadata": {},
     "output_type": "execute_result"
    }
   ],
   "source": [
    "Y = X1 + X2 + 10\n",
    "Y"
   ]
  },
  {
   "cell_type": "code",
   "execution_count": null,
   "metadata": {},
   "outputs": [],
   "source": []
  },
  {
   "cell_type": "code",
   "execution_count": null,
   "metadata": {},
   "outputs": [],
   "source": []
  },
  {
   "cell_type": "code",
   "execution_count": null,
   "metadata": {},
   "outputs": [],
   "source": []
  },
  {
   "cell_type": "code",
   "execution_count": null,
   "metadata": {},
   "outputs": [],
   "source": []
  },
  {
   "cell_type": "code",
   "execution_count": 7,
   "metadata": {},
   "outputs": [],
   "source": [
    "class Relu():\n",
    "    def forward(self, Z):\n",
    "        self.A = np.maximum(Z, 0)        \n",
    "        return self.A\n",
    "    \n",
    "    def backward(self, grads_in):\n",
    "        pass\n",
    "        # self.grads = \n",
    "    \n",
    "    def __call__(self, Z):\n",
    "        return self.forward(Z)"
   ]
  },
  {
   "cell_type": "code",
   "execution_count": 8,
   "metadata": {},
   "outputs": [],
   "source": [
    "# w = np.array([[1.],[2.]])\n",
    "# b = 2.\n",
    "X = np.array([[1.,2.,-1.],[3.,4.,-3.2]])\n",
    "Y = np.array([[1,0,1]])"
   ]
  },
  {
   "cell_type": "code",
   "execution_count": 9,
   "metadata": {},
   "outputs": [
    {
     "data": {
      "text/plain": [
       "array([[-1.2915627 ],\n",
       "       [-0.84824392]])"
      ]
     },
     "execution_count": 9,
     "metadata": {},
     "output_type": "execute_result"
    }
   ],
   "source": [
    "np.random.randn(1, 2).T"
   ]
  },
  {
   "cell_type": "code",
   "execution_count": 10,
   "metadata": {},
   "outputs": [
    {
     "data": {
      "text/plain": [
       "array([[-0.16659957],\n",
       "       [ 0.91719602]])"
      ]
     },
     "execution_count": 10,
     "metadata": {},
     "output_type": "execute_result"
    }
   ],
   "source": [
    "np.random.randn(2, 1)"
   ]
  },
  {
   "cell_type": "code",
   "execution_count": 11,
   "metadata": {},
   "outputs": [
    {
     "data": {
      "text/plain": [
       "array([[1.],\n",
       "       [2.]])"
      ]
     },
     "execution_count": 11,
     "metadata": {},
     "output_type": "execute_result"
    }
   ],
   "source": [
    "np.array([[1.], [2.]])"
   ]
  },
  {
   "cell_type": "code",
   "execution_count": 12,
   "metadata": {},
   "outputs": [
    {
     "data": {
      "text/plain": [
       "array([[9., 4.],\n",
       "       [8., 3.]])"
      ]
     },
     "execution_count": 12,
     "metadata": {},
     "output_type": "execute_result"
    }
   ],
   "source": [
    "np.array([10., 5.]) - np.array([[1.], [2.]])"
   ]
  },
  {
   "cell_type": "code",
   "execution_count": 13,
   "metadata": {},
   "outputs": [],
   "source": [
    "class Linear():\n",
    "    def __init__(self, n_out, n_in, initmethod='gauss'):\n",
    "        self.n_in = n_in\n",
    "        self.n_out = n_out\n",
    "        self.m = 0  # gets a proper value in forward\n",
    "        self.b = np.zeros([1, n_out])\n",
    "        self.W = np.zeros([n_in, n_out])\n",
    "        self.b_grad = np.zeros([n_out, 1])\n",
    "        self.W_grad = np.zeros([n_out, n_in])\n",
    "        if initmethod == 'gauss':\n",
    "            self.W = np.random.randn(n_out, n_in) * 0.01\n",
    "        elif initmethod == 'constant':\n",
    "            self.W = np.array([2., 1.])\n",
    "            self.b = 2.\n",
    "        \n",
    "    def forward(self, A_in):\n",
    "        self.A_in = A_in\n",
    "        self.m = self.A_in.shape[1]\n",
    "        self.Z = np.add(np.dot(self.W, self.A_in), self.b)\n",
    "        return self.Z\n",
    "    \n",
    "    def backward(self, grads_in):\n",
    "        self.grads_W = 1/self.m * np.dot(self.A_in, grads_in.T )\n",
    "        self.grads_b = np.mean(grads_in, keepdims=True)\n",
    "    \n",
    "    def __call__(self, A):\n",
    "        return self.forward(A)"
   ]
  },
  {
   "cell_type": "code",
   "execution_count": 14,
   "metadata": {},
   "outputs": [],
   "source": [
    "class Sigmoid():\n",
    "    def forward(self, Z):\n",
    "        self.A = np.divide(1, np.add(1, np.exp(-Z)))\n",
    "        return self.A\n",
    "    \n",
    "    def backward(self, grads_in):\n",
    "        self.grads = grads_in * (self.A * (1-self.A))\n",
    "        return self.grads\n",
    "    \n",
    "    def __call__(self, Z):\n",
    "        return self.forward(Z)"
   ]
  },
  {
   "cell_type": "code",
   "execution_count": 15,
   "metadata": {},
   "outputs": [],
   "source": [
    "class Loss():\n",
    "    def forward(self, A, Y):\n",
    "        self.A = A\n",
    "        self.Y = Y\n",
    "        self.L = -np.mean(Y*np.log(A) + (1-Y)*np.log(1-A))\n",
    "        return self.L\n",
    "    \n",
    "    def backward(self):\n",
    "        self.grads = np.divide(self.A-self.Y, np.multiply(self.A, (1-self.A)))\n",
    "        return self.grads"
   ]
  },
  {
   "cell_type": "code",
   "execution_count": 16,
   "metadata": {},
   "outputs": [],
   "source": [
    "loss = Loss()\n",
    "lin1 = Linear(1, 2, initmethod=\"constant\")\n",
    "act1 = Sigmoid()"
   ]
  },
  {
   "cell_type": "code",
   "execution_count": 36,
   "metadata": {},
   "outputs": [
    {
     "data": {
      "text/plain": [
       "5.801545319394553"
      ]
     },
     "execution_count": 36,
     "metadata": {},
     "output_type": "execute_result"
    }
   ],
   "source": [
    "loss.forward(act1(lin1(X)), Y)"
   ]
  },
  {
   "cell_type": "code",
   "execution_count": 37,
   "metadata": {},
   "outputs": [],
   "source": [
    "lin1.backward(act1.backward(loss.backward()))"
   ]
  },
  {
   "cell_type": "code",
   "execution_count": 17,
   "metadata": {},
   "outputs": [],
   "source": [
    "num_iterations = 100\n",
    "learning_rate = 0.009"
   ]
  },
  {
   "cell_type": "code",
   "execution_count": 18,
   "metadata": {},
   "outputs": [],
   "source": [
    "costs = []"
   ]
  },
  {
   "cell_type": "code",
   "execution_count": 19,
   "metadata": {},
   "outputs": [],
   "source": [
    "def optimize():\n",
    "    for i in range(num_iterations):\n",
    "        cost = loss.forward(act1(lin1(X)), Y)\n",
    "        costs.append(cost)        \n",
    "        lin1.backward(act1.backward(loss.backward()))\n",
    "        lin1.W = lin1.W - learning_rate*lin1.grads_W\n",
    "        lin1.b = lin1.b - learning_rate*lin1.grads_b\n",
    "    print(f'lin1.W: {lin1.W}')\n",
    "    print(f'lin1.b: {lin1.b}')\n",
    "    print(f'lin1.W_grad: {lin1.grads_W}')\n",
    "    print(f'lin1.b_grad: {lin1.grads_b}')\n",
    "    print(f'cost: {cost}')"
   ]
  },
  {
   "cell_type": "code",
   "execution_count": 20,
   "metadata": {},
   "outputs": [
    {
     "name": "stdout",
     "output_type": "stream",
     "text": [
      "lin1.W: [[ 1.16125358  0.34965789]\n",
      " [ 0.03495158 -0.42403486]]\n",
      "lin1.b: [[1.90920401]]\n",
      "lin1.W_grad: [[0.8575548  0.29161286]\n",
      " [1.94800861 0.48855223]]\n",
      "lin1.b_grad: [[0.09976993]]\n",
      "cost: 1.3164470991568429\n"
     ]
    }
   ],
   "source": [
    "optimize()"
   ]
  },
  {
   "cell_type": "code",
   "execution_count": 78,
   "metadata": {},
   "outputs": [],
   "source": [
    "lin1 = Linear(3, 1)\n",
    "act1 = Relu()\n",
    "lin2 = Linear(4, 1)\n",
    "act2 = Sigmoid()"
   ]
  },
  {
   "cell_type": "code",
   "execution_count": 62,
   "metadata": {},
   "outputs": [
    {
     "data": {
      "text/plain": [
       "(2, 1)"
      ]
     },
     "execution_count": 62,
     "metadata": {},
     "output_type": "execute_result"
    }
   ],
   "source": [
    "lin1.grads_W.shape"
   ]
  },
  {
   "cell_type": "code",
   "execution_count": 63,
   "metadata": {},
   "outputs": [
    {
     "data": {
      "text/plain": [
       "(2, 1)"
      ]
     },
     "execution_count": 63,
     "metadata": {},
     "output_type": "execute_result"
    }
   ],
   "source": [
    "lin1.W.shape"
   ]
  },
  {
   "cell_type": "code",
   "execution_count": null,
   "metadata": {},
   "outputs": [],
   "source": []
  },
  {
   "cell_type": "code",
   "execution_count": 79,
   "metadata": {},
   "outputs": [],
   "source": [
    "A1 = act1(lin1(X))"
   ]
  },
  {
   "cell_type": "code",
   "execution_count": 80,
   "metadata": {},
   "outputs": [],
   "source": [
    "A2 = act2(lin2(A1))"
   ]
  },
  {
   "cell_type": "code",
   "execution_count": 81,
   "metadata": {},
   "outputs": [
    {
     "data": {
      "text/plain": [
       "array([[0.99996855, 0.202798  , 0.15027745]])"
      ]
     },
     "execution_count": 81,
     "metadata": {},
     "output_type": "execute_result"
    }
   ],
   "source": [
    "A2"
   ]
  },
  {
   "cell_type": "code",
   "execution_count": null,
   "metadata": {},
   "outputs": [],
   "source": []
  }
 ],
 "metadata": {
  "kernelspec": {
   "display_name": "Python 3",
   "language": "python",
   "name": "python3"
  },
  "language_info": {
   "codemirror_mode": {
    "name": "ipython",
    "version": 3
   },
   "file_extension": ".py",
   "mimetype": "text/x-python",
   "name": "python",
   "nbconvert_exporter": "python",
   "pygments_lexer": "ipython3",
   "version": "3.8.5"
  }
 },
 "nbformat": 4,
 "nbformat_minor": 4
}
