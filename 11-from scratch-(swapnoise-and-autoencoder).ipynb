{
 "cells": [
  {
   "cell_type": "code",
   "execution_count": 1,
   "metadata": {},
   "outputs": [],
   "source": [
    "from sys import platform\n",
    "from pathlib import Path\n",
    "import pandas as pd\n",
    "import numpy as np\n",
    "from matplotlib import pyplot as plt\n",
    "from sklearn.base import BaseEstimator, TransformerMixin\n",
    "from sklearn.impute import SimpleImputer\n",
    "from sklearn.pipeline import Pipeline, make_pipeline, FeatureUnion\n",
    "from sklearn.preprocessing import OneHotEncoder, QuantileTransformer"
   ]
  },
  {
   "cell_type": "code",
   "execution_count": 2,
   "metadata": {},
   "outputs": [],
   "source": [
    "pd.set_option('display.max_columns', 500)\n",
    "pd.set_option('display.max_rows', 500)"
   ]
  },
  {
   "cell_type": "markdown",
   "metadata": {},
   "source": [
    "hi"
   ]
  },
  {
   "cell_type": "code",
   "execution_count": 3,
   "metadata": {},
   "outputs": [],
   "source": [
    "%reload_ext autoreload\n",
    "%autoreload 2\n",
    "%matplotlib inline"
   ]
  },
  {
   "cell_type": "code",
   "execution_count": 4,
   "metadata": {},
   "outputs": [],
   "source": [
    "class TypeSelector(BaseEstimator, TransformerMixin):\n",
    "    def __init__(self, dtype):\n",
    "        self.dtype = dtype\n",
    "    \n",
    "    def fit(self, X, y=None):\n",
    "        return self\n",
    "    \n",
    "    def transform(self, X):\n",
    "        assert isinstance(X, pd.DataFrame)\n",
    "        return X.select_dtypes(include=[self.dtype])"
   ]
  },
  {
   "cell_type": "code",
   "execution_count": 5,
   "metadata": {},
   "outputs": [],
   "source": [
    "def proc_df(cont_names, cat_names, *dataframes):\n",
    "    df_all = pd.concat(dataframes, axis=0)\n",
    "    df_all[cont_names] = df_all[cont_names].astype('float64')\n",
    "    df_all[cat_names] = df_all[cat_names].astype('category')\n",
    "    \n",
    "    for df in dataframes:\n",
    "        df[cont_names] = df[cont_names].astype('float64')\n",
    "        df[cat_names] = df[cat_names].astype('category')\n",
    "    \n",
    "    ordered_cont_names = [col for col in df_all.columns if col in cont_names]\n",
    "    ordered_cat_names = [col for col in df_all.columns if col in cat_names]    \n",
    "    # nested list comprehension to get column names for onehot encoded categoy columns\n",
    "    ordered_onehot_names = [f'{i}_{cat}' for cat in df_all[cat_names] for i in range(df_all[cat].nunique())]    \n",
    "    names = ordered_cont_names + ordered_onehot_names\n",
    "    \n",
    "    # preprocessing pipeline\n",
    "    pp = make_pipeline(\n",
    "        FeatureUnion(transformer_list=[\n",
    "            ('numeric_features', make_pipeline(\n",
    "                TypeSelector('float64'),\n",
    "                SimpleImputer(strategy='median'),\n",
    "                QuantileTransformer()\n",
    "            )),\n",
    "            ('categorical_features', make_pipeline(\n",
    "                TypeSelector('category'),\n",
    "                SimpleImputer(strategy='most_frequent'),\n",
    "                OneHotEncoder(categories='auto', handle_unknown='ignore')))\n",
    "        ]))\n",
    "    pp.fit(df_all)\n",
    "    \n",
    "    return(pd.DataFrame(pp.transform(df).toarray(), columns=names) for df in dataframes)    "
   ]
  },
  {
   "cell_type": "markdown",
   "metadata": {},
   "source": [
    "# Data Import"
   ]
  },
  {
   "cell_type": "code",
   "execution_count": 6,
   "metadata": {},
   "outputs": [
    {
     "name": "stdout",
     "output_type": "stream",
     "text": [
      " Datentr„ger in Laufwerk C: ist OS\n",
      " Volumeseriennummer: F49C-A1A7\n",
      "\n",
      " Verzeichnis von C:\\Users\\michaeljeremias\\Documents\\PythonProjects\\data\\houseprice\n",
      "\n",
      "28.08.2019  12:55    <DIR>          .\n",
      "28.08.2019  12:55    <DIR>          ..\n",
      "03.05.2019  08:10            13ÿ370 data_description.txt\n",
      "16.04.2019  09:57    <DIR>          models\n",
      "15.04.2019  13:25            31ÿ939 sample_submission.csv\n",
      "16.08.2019  12:49            27ÿ752 submission.csv\n",
      "15.04.2019  13:25           451ÿ405 test.csv\n",
      "15.04.2019  13:25           460ÿ676 train.csv\n",
      "               5 Datei(en),        985ÿ142 Bytes\n",
      "               3 Verzeichnis(se), 172ÿ884ÿ463ÿ616 Bytes frei\n"
     ]
    }
   ],
   "source": [
    "PATH = Path('../data/houseprice/')\n",
    "if platform == 'win32':\n",
    "    !dir {PATH}\n",
    "else:\n",
    "    !ls {PATH}"
   ]
  },
  {
   "cell_type": "code",
   "execution_count": 7,
   "metadata": {},
   "outputs": [],
   "source": [
    "df_train = pd.read_csv(PATH/'train.csv', sep=',', header=0)\n",
    "df_test = pd.read_csv(PATH/'test.csv', sep=',', header=0)"
   ]
  },
  {
   "cell_type": "code",
   "execution_count": 8,
   "metadata": {},
   "outputs": [],
   "source": [
    "df_y = df_train['SalePrice']\n",
    "df_train.drop(['SalePrice'], axis=1, inplace=True)"
   ]
  },
  {
   "cell_type": "code",
   "execution_count": 9,
   "metadata": {},
   "outputs": [],
   "source": [
    "cat_names = ['MSSubClass', 'MSZoning', 'Street', 'Alley', 'LotShape', 'LandContour', 'Utilities', 'LotConfig',\n",
    "             'LandSlope', 'Neighborhood', 'Condition1', 'Condition2', 'BldgType', 'HouseStyle', 'OverallQual',\n",
    "             'OverallCond', 'RoofStyle', 'RoofMatl', 'Exterior1st', 'Exterior2nd', 'MasVnrType', 'ExterQual',\n",
    "             'ExterCond', 'Foundation', 'BsmtQual', 'BsmtCond', 'BsmtExposure', 'BsmtFinType1', 'BsmtFinType2',\n",
    "             'Heating',\n",
    "             'HeatingQC', 'CentralAir', 'Electrical', 'BsmtFullBath', 'BsmtHalfBath', 'FullBath', 'HalfBath',\n",
    "             'BedroomAbvGr', 'KitchenAbvGr', 'KitchenQual', 'TotRmsAbvGrd', 'Functional', 'Fireplaces',\n",
    "             'FireplaceQu', 'GarageType', 'GarageYrBlt', 'GarageFinish', 'GarageCars', 'GarageQual', 'GarageCond',\n",
    "             'PavedDrive', 'PoolQC', 'Fence', 'MiscFeature', 'MoSold', 'YrSold', 'SaleType', 'SaleCondition']"
   ]
  },
  {
   "cell_type": "code",
   "execution_count": 10,
   "metadata": {},
   "outputs": [],
   "source": [
    "cont_names = [name for name in df_train.columns if name not in cat_names]"
   ]
  },
  {
   "cell_type": "code",
   "execution_count": 11,
   "metadata": {},
   "outputs": [],
   "source": [
    "proc_train, proc_test = proc_df(cont_names, cat_names, df_train, df_test)"
   ]
  },
  {
   "cell_type": "code",
   "execution_count": 12,
   "metadata": {
    "scrolled": true
   },
   "outputs": [
    {
     "data": {
      "text/plain": [
       "((1460, 481), (1459, 481))"
      ]
     },
     "execution_count": 12,
     "metadata": {},
     "output_type": "execute_result"
    }
   ],
   "source": [
    "proc_train.shape, proc_test.shape"
   ]
  },
  {
   "cell_type": "code",
   "execution_count": 13,
   "metadata": {},
   "outputs": [
    {
     "data": {
      "text/plain": [
       "(1460, 80)"
      ]
     },
     "execution_count": 13,
     "metadata": {},
     "output_type": "execute_result"
    }
   ],
   "source": [
    "df_train.shape"
   ]
  },
  {
   "cell_type": "markdown",
   "metadata": {},
   "source": [
    "# Autoencoder"
   ]
  },
  {
   "cell_type": "code",
   "execution_count": 14,
   "metadata": {},
   "outputs": [],
   "source": [
    "import torch\n",
    "import torch.nn as nn\n",
    "from torch.utils.data import TensorDataset, DataLoader, Sampler"
   ]
  },
  {
   "cell_type": "code",
   "execution_count": 15,
   "metadata": {},
   "outputs": [
    {
     "data": {
      "text/plain": [
       "'cpu'"
      ]
     },
     "execution_count": 15,
     "metadata": {},
     "output_type": "execute_result"
    }
   ],
   "source": [
    "device = torch.device(\"cuda\") if torch.cuda.is_available() else \"cpu\"\n",
    "device"
   ]
  },
  {
   "cell_type": "markdown",
   "metadata": {},
   "source": [
    "## Data to tensor"
   ]
  },
  {
   "cell_type": "code",
   "execution_count": 16,
   "metadata": {},
   "outputs": [],
   "source": [
    "t_train = torch.tensor(proc_train.values, dtype=torch.float32, device=device)\n",
    "t_test = torch.tensor(proc_test.values, dtype=torch.float32, device=device)\n",
    "t_all = torch.cat([t_train, t_test], dim=0)\n",
    "t_y = torch.tensor(df_y.values, dtype=torch.float32, device=device)\n",
    "# Reshape to work with SwapnoiseDataset\n",
    "t_y = t_y.reshape(-1,1)"
   ]
  },
  {
   "cell_type": "markdown",
   "metadata": {},
   "source": [
    "## Loss"
   ]
  },
  {
   "cell_type": "code",
   "execution_count": 17,
   "metadata": {},
   "outputs": [],
   "source": [
    "ae_loss = nn.MSELoss()"
   ]
  },
  {
   "cell_type": "markdown",
   "metadata": {},
   "source": [
    "## Fitting function"
   ]
  },
  {
   "cell_type": "code",
   "execution_count": 18,
   "metadata": {},
   "outputs": [],
   "source": [
    "train_losses = []\n",
    "\n",
    "def fit(num_epochs, model, loss_fn, opt, dataloader):\n",
    "    for epoch in range(num_epochs):\n",
    "        for x, y in dataloader:\n",
    "            preds = ae_model(x)\n",
    "            loss = loss_fn(preds, x)\n",
    "            \n",
    "            loss.backward()\n",
    "            opt.step()\n",
    "            opt.zero_grad()\n",
    "        \n",
    "        if (epoch+1)%10==0:\n",
    "            train_losses.append(loss)\n",
    "            print(f'Epoch: {epoch+1}\\tTraining loss: {loss}')"
   ]
  },
  {
   "cell_type": "markdown",
   "metadata": {},
   "source": [
    "## Autoencoder"
   ]
  },
  {
   "cell_type": "markdown",
   "metadata": {},
   "source": [
    "### Undercomplete Autoencoder"
   ]
  },
  {
   "cell_type": "code",
   "execution_count": 41,
   "metadata": {},
   "outputs": [],
   "source": [
    "class Autoencoder(nn.Module):\n",
    "    def __init__(self, num_features):\n",
    "        super(Autoencoder, self).__init__()\n",
    "        self.num_features = num_features\n",
    "        \n",
    "        self.encoder = nn.Linear(num_features, 1000)\n",
    "        self.bottle = nn.Linear(1000, 100)\n",
    "        self.decoder = nn.Linear(100, 1000)\n",
    "        self.out = nn.Linear(1000, num_features)\n",
    "        self.act = nn.ReLU()\n",
    "        \n",
    "    def forward(self, x):\n",
    "        x = self.act(self.encoder(x))\n",
    "        x = self.bottle(x)\n",
    "        x = x = self.act(self.decoder(x))\n",
    "        x = self.out(x)\n",
    "        return x"
   ]
  },
  {
   "cell_type": "code",
   "execution_count": 20,
   "metadata": {},
   "outputs": [],
   "source": [
    "ae_model = Autoencoder(num_features=481).to(device)"
   ]
  },
  {
   "cell_type": "code",
   "execution_count": 21,
   "metadata": {},
   "outputs": [],
   "source": [
    "ae_opt = torch.optim.Adam(ae_model.parameters())"
   ]
  },
  {
   "cell_type": "code",
   "execution_count": 22,
   "metadata": {},
   "outputs": [],
   "source": [
    "ae_dataset = TensorDataset(t_all, t_all)\n",
    "ae_dataloader = DataLoader(ae_dataset, batch_size=128)"
   ]
  },
  {
   "cell_type": "code",
   "execution_count": 23,
   "metadata": {
    "scrolled": false
   },
   "outputs": [
    {
     "name": "stdout",
     "output_type": "stream",
     "text": [
      "Epoch: 10\tTraining loss: 0.013682113029062748\n",
      "Epoch: 20\tTraining loss: 0.009167433716356754\n",
      "Epoch: 30\tTraining loss: 0.007098480127751827\n",
      "Epoch: 40\tTraining loss: 0.005826777778565884\n",
      "Epoch: 50\tTraining loss: 0.005080520175397396\n",
      "Epoch: 60\tTraining loss: 0.00477374903857708\n",
      "Epoch: 70\tTraining loss: 0.004008006304502487\n",
      "Epoch: 80\tTraining loss: 0.00439222389832139\n",
      "Epoch: 90\tTraining loss: 0.003783103544265032\n",
      "Epoch: 100\tTraining loss: 0.003990411292761564\n"
     ]
    }
   ],
   "source": [
    "fit(num_epochs=100, model=ae_model, loss_fn=ae_loss, opt=ae_opt, dataloader=ae_dataloader)"
   ]
  },
  {
   "cell_type": "code",
   "execution_count": 24,
   "metadata": {},
   "outputs": [
    {
     "data": {
      "text/plain": [
       "[<matplotlib.lines.Line2D at 0x2296c9bf438>]"
      ]
     },
     "execution_count": 24,
     "metadata": {},
     "output_type": "execute_result"
    },
    {
     "data": {
      "image/png": "[encoded data removed]",
      "text/plain": [
       "<Figure size 432x288 with 1 Axes>"
      ]
     },
     "metadata": {
      "needs_background": "light"
     },
     "output_type": "display_data"
    }
   ],
   "source": [
    "plt.plot(train_losses)"
   ]
  },
  {
   "cell_type": "code",
   "execution_count": 25,
   "metadata": {},
   "outputs": [],
   "source": [
    "with torch.no_grad():\n",
    "    ae_model.eval()\n",
    "    t_features = ae_model.bottle(ae_model.act(ae_model.encoder(t_train)))"
   ]
  },
  {
   "cell_type": "markdown",
   "metadata": {},
   "source": [
    "### Denoising Autoencoder (undercomplete)"
   ]
  },
  {
   "cell_type": "markdown",
   "metadata": {},
   "source": [
    "We need a new TensorDataset class"
   ]
  },
  {
   "cell_type": "code",
   "execution_count": 29,
   "metadata": {},
   "outputs": [],
   "source": [
    "class SwapnoiseDataset_old(TensorDataset):\n",
    "    \"\"\"\n",
    "    A TensorDataset that implements the swapnoise noise scheme. \n",
    "    __getitem__ returns a row for tensor in the dataset (same as\n",
    "    in TensorDataset), where every cell value is taken from the\n",
    "    same column as the original cell, but from a random row with\n",
    "    probability p, (p is set in p_noise).\n",
    "    \n",
    "    Arguments:\n",
    "        p_noise (float or list of floats): probabilities for each tensor to\n",
    "            replace the value of a cell with the value the same column but\n",
    "            from a random row. For each tensor a swap probability must be supplied,\n",
    "            even if it is 0. If all values in p_noise are 0 the behaviour is the\n",
    "            same as a TensorDataset.\n",
    "        tensors (tensor): tensors to load into the dataset.\n",
    "    \"\"\"\n",
    "    \n",
    "    def __init__(self, p_noise, *tensors):\n",
    "        super(TensorDataset, self).__init__()\n",
    "        assert all(tensors[0].size(0) == tensor.size(0) for tensor in tensors)\n",
    "        if len(tensors)>1:\n",
    "            assert isinstance(p_noise, list)\n",
    "            assert len(tensors) == len(p_noise)\n",
    "        else:\n",
    "            assert isinstance(p_noise, float)\n",
    "        for noise in p_noise:\n",
    "            assert noise >= 0 and noise <= 1\n",
    "        \n",
    "        self.tensors = tensors\n",
    "        self.p_noise = p_noise\n",
    "        self.length = tensors[0].size(0)\n",
    "    \n",
    "    def __getitem__(self, index):\n",
    "        return tuple(tensor[self.swap_index(index, noise, self.length, tensor.size(1)), torch.tensor(range(tensor.size(1)))]                     \n",
    "                     for tensor, noise in zip(self.tensors, self.p_noise))\n",
    "    \n",
    "    def __len__(self):\n",
    "        return self.tensors[0].size(0)\n",
    "\n",
    "    def swap_index(self, index, noise, high, size):\n",
    "        init = torch.zeros(size) + noise\n",
    "        select = torch.bernoulli(init).to(torch.uint8)\n",
    "        #select_inv = select*(-1)+1\n",
    "        rand_index = torch.randint(0, high, (size,))\n",
    "        #return select*rand_index + select_inv*index\n",
    "        return (select.to(torch.long)*rand_index + (~select).to(torch.long)*index)\n",
    "\n",
    "    def getnoise(self):\n",
    "        return self.p_noise"
   ]
  },
  {
   "cell_type": "code",
   "execution_count": 26,
   "metadata": {},
   "outputs": [],
   "source": [
    "class SwapnoiseDataset(TensorDataset):\n",
    "    \"\"\"\n",
    "    A TensorDataset that implements the swapnoise noise scheme. \n",
    "    __getitem__ returns a row for tensor in the dataset (same as\n",
    "    in TensorDataset), where every cell value is taken from the\n",
    "    same column as the original cell, but from a random row with\n",
    "    probability p, (p is set in p_noise).\n",
    "    \n",
    "    Arguments:\n",
    "        p_noise (float or list of floats): probabilities for each tensor to\n",
    "            replace the value of a cell with the value the same column but\n",
    "            from a random row. For each tensor a swap probability must be supplied,\n",
    "            even if it is 0. If all values in p_noise are 0 the behaviour is the\n",
    "            same as a TensorDataset.\n",
    "        tensors (tensor): tensors to load into the dataset.\n",
    "    \"\"\"\n",
    "    \n",
    "    def __init__(self, noise, *tensors):\n",
    "        \n",
    "        device = torch.device(\"cuda\") if torch.cuda.is_available() else \"cpu\"\n",
    "        super(TensorDataset, self).__init__()\n",
    "        assert all(tensors[0].size(0) == tensor.size(0) for tensor in tensors)\n",
    "        if len(tensors)>1:\n",
    "            assert isinstance(noise, list)\n",
    "            assert len(tensors) == len(noise)\n",
    "            for n in noise:\n",
    "                assert n >= 0 and n <= 1\n",
    "            self.rows = tensors[0].shape[0]\n",
    "        else:\n",
    "            assert isinstance(noise, float)        \n",
    "            assert noise >= 0 and noise <= 1\n",
    "            self.rows = tensors[0].shape[0]\n",
    "        \n",
    "        self.tensors = tensors\n",
    "        self.noise = noise\n",
    "        self.length = tensors[0].size(0)\n",
    "        \n",
    "        self.swap_idxs = []\n",
    "        self.eff_noise = []\n",
    "        self.idxs = torch.tensor(range(self.tensors[0].shape[0])).unsqueeze(1).to(device)\n",
    "        self.shuffle(self.noise)\n",
    "        \n",
    "        \n",
    "    \n",
    "    def __getitem__(self, index):\n",
    "        return tuple(torch.gather(tensor, 0, swap_idx[index].unsqueeze(0).to(device))\n",
    "                     for tensor, swap_idx in zip(self.tensors, self.swap_idxs))\n",
    "    \n",
    "    def __len__(self):\n",
    "        return self.tensors[0].size(0)\n",
    "    \n",
    "    def __repr__(self):\n",
    "        return f\"Swapnoise Dataset with {self.eff_noise} effective noise levels\"\n",
    "\n",
    "    def shuffle(self, noise=None):\n",
    "        if noise is None:\n",
    "            noise = self.noise        \n",
    "        self.swap_idxs = []\n",
    "        self.eff_noise = []\n",
    "        for tensor, n in zip(self.tensors, noise):\n",
    "            self.idxs_rand = torch.randint(0, tensor.shape[0], tensor.shape).to(device)\n",
    "            select = torch.bernoulli(torch.zeros(tensor.shape) + n).to(torch.long).to(device)\n",
    "            select_inv = (select * (-1) + 1)\n",
    "            self.swap_idxs.append((select * self.idxs_rand) + (select_inv * self.idxs))\n",
    "            self.eff_noise.append(select.to(torch.float).mean())"
   ]
  },
  {
   "cell_type": "code",
   "execution_count": 27,
   "metadata": {},
   "outputs": [],
   "source": [
    "ae_model = Autoencoder(num_features=481).to(device)"
   ]
  },
  {
   "cell_type": "code",
   "execution_count": 28,
   "metadata": {},
   "outputs": [],
   "source": [
    "ae_opt = torch.optim.Adam(ae_model.parameters())"
   ]
  },
  {
   "cell_type": "code",
   "execution_count": 29,
   "metadata": {
    "scrolled": true
   },
   "outputs": [],
   "source": [
    "sn_dataset = SwapnoiseDataset([0.3, 0], t_train, t_y)\n",
    "sn_dataloader = DataLoader(sn_dataset, batch_size=128)"
   ]
  },
  {
   "cell_type": "code",
   "execution_count": 30,
   "metadata": {},
   "outputs": [
    {
     "data": {
      "text/plain": [
       "Swapnoise Dataset with [tensor(0.2997), tensor(0.)] effective noise levels"
      ]
     },
     "execution_count": 30,
     "metadata": {},
     "output_type": "execute_result"
    }
   ],
   "source": [
    "sn_dataset"
   ]
  },
  {
   "cell_type": "code",
   "execution_count": 31,
   "metadata": {},
   "outputs": [
    {
     "name": "stdout",
     "output_type": "stream",
     "text": [
      "Swapnoise Dataset with [tensor(0.2997), tensor(0.)] effective noise levels\n"
     ]
    }
   ],
   "source": [
    "print(sn_dataset)"
   ]
  },
  {
   "cell_type": "code",
   "execution_count": 32,
   "metadata": {},
   "outputs": [],
   "source": [
    "train_losses = []\n",
    "val_losses = []"
   ]
  },
  {
   "cell_type": "code",
   "execution_count": 33,
   "metadata": {
    "scrolled": true
   },
   "outputs": [
    {
     "name": "stdout",
     "output_type": "stream",
     "text": [
      "Epoch: 10\tTraining loss: 0.02504657208919525\n",
      "Epoch: 20\tTraining loss: 0.009756848216056824\n",
      "Epoch: 30\tTraining loss: 0.0056766364723443985\n",
      "Epoch: 40\tTraining loss: 0.004665616434067488\n",
      "Epoch: 50\tTraining loss: 0.003646292956545949\n",
      "Epoch: 60\tTraining loss: 0.0037306826561689377\n",
      "Epoch: 70\tTraining loss: 0.0028402693569660187\n",
      "Epoch: 80\tTraining loss: 0.0028805069159716368\n",
      "Epoch: 90\tTraining loss: 0.0027451845817267895\n",
      "Epoch: 100\tTraining loss: 0.002882314147427678\n",
      "Wall time: 28.5 s\n"
     ]
    }
   ],
   "source": [
    "%time fit(num_epochs=100, model=ae_model, loss_fn=ae_loss, opt=ae_opt, dataloader=sn_dataloader)"
   ]
  },
  {
   "cell_type": "code",
   "execution_count": 34,
   "metadata": {
    "scrolled": true
   },
   "outputs": [
    {
     "name": "stdout",
     "output_type": "stream",
     "text": [
      "Epoch: 10\tTraining loss: 0.008603105321526527\n",
      "Epoch: 20\tTraining loss: 0.006048618815839291\n",
      "Epoch: 30\tTraining loss: 0.005594049580395222\n",
      "Epoch: 40\tTraining loss: 0.005279121920466423\n",
      "Epoch: 50\tTraining loss: 0.004368259105831385\n",
      "Epoch: 60\tTraining loss: 0.004223709926009178\n",
      "Epoch: 70\tTraining loss: 0.0033492902293801308\n",
      "Epoch: 80\tTraining loss: 0.004140500910580158\n",
      "Epoch: 90\tTraining loss: 0.0038491575978696346\n",
      "Epoch: 100\tTraining loss: 0.004110286012291908\n",
      "Wall time: 41.6 s\n"
     ]
    }
   ],
   "source": [
    "%time fit(num_epochs=100, model=ae_model, loss_fn=ae_loss, opt=ae_opt, dataloader=ae_dataloader)"
   ]
  },
  {
   "cell_type": "code",
   "execution_count": 35,
   "metadata": {},
   "outputs": [],
   "source": [
    "with torch.no_grad():\n",
    "    ae_model.eval()\n",
    "    sn_features = ae_model.bottle(ae_model.act(ae_model.encoder(t_train)))"
   ]
  },
  {
   "cell_type": "code",
   "execution_count": 36,
   "metadata": {},
   "outputs": [
    {
     "data": {
      "text/plain": [
       "[<matplotlib.lines.Line2D at 0x2296ca5a240>]"
      ]
     },
     "execution_count": 36,
     "metadata": {},
     "output_type": "execute_result"
    },
    {
     "data": {
      "image/png": "[encoded data removed]",
      "text/plain": [
       "<Figure size 432x288 with 1 Axes>"
      ]
     },
     "metadata": {
      "needs_background": "light"
     },
     "output_type": "display_data"
    }
   ],
   "source": [
    "plt.plot(train_losses)"
   ]
  },
  {
   "cell_type": "markdown",
   "metadata": {},
   "source": [
    "# Telemetry"
   ]
  },
  {
   "cell_type": "code",
   "execution_count": 37,
   "metadata": {},
   "outputs": [],
   "source": [
    "def append_stats(i, mod, inp, outp):\n",
    "    act_means[i].append(outp.data.mean())\n",
    "    act_stds[i].append(outp.data.std())"
   ]
  },
  {
   "cell_type": "code",
   "execution_count": 40,
   "metadata": {},
   "outputs": [
    {
     "ename": "TypeError",
     "evalue": "'Autoencoder' object is not iterable",
     "output_type": "error",
     "traceback": [
      "\u001b[1;31m---------------------------------------------------------------------------\u001b[0m",
      "\u001b[1;31mTypeError\u001b[0m                                 Traceback (most recent call last)",
      "\u001b[1;32m<ipython-input-40-98cf822b72aa>\u001b[0m in \u001b[0;36m<module>\u001b[1;34m\u001b[0m\n\u001b[1;32m----> 1\u001b[1;33m \u001b[1;32mfor\u001b[0m \u001b[0mi\u001b[0m\u001b[1;33m,\u001b[0m\u001b[0mm\u001b[0m \u001b[1;32min\u001b[0m \u001b[0menumerate\u001b[0m\u001b[1;33m(\u001b[0m\u001b[0mae_model\u001b[0m\u001b[1;33m)\u001b[0m\u001b[1;33m:\u001b[0m\u001b[1;33m\u001b[0m\u001b[1;33m\u001b[0m\u001b[0m\n\u001b[0m\u001b[0;32m      2\u001b[0m     \u001b[0mm\u001b[0m\u001b[1;33m.\u001b[0m\u001b[0mregister_forward_hook\u001b[0m\u001b[1;33m(\u001b[0m\u001b[0mpartial\u001b[0m\u001b[1;33m(\u001b[0m\u001b[0mappend_stats\u001b[0m\u001b[1;33m,\u001b[0m \u001b[0mi\u001b[0m\u001b[1;33m)\u001b[0m\u001b[1;33m)\u001b[0m\u001b[1;33m\u001b[0m\u001b[1;33m\u001b[0m\u001b[0m\n",
      "\u001b[1;31mTypeError\u001b[0m: 'Autoencoder' object is not iterable"
     ]
    }
   ],
   "source": [
    "for i,m in enumerate(ae_model):\n",
    "    m.register_forward_hook(partial(append_stats, i))"
   ]
  },
  {
   "cell_type": "code",
   "execution_count": null,
   "metadata": {},
   "outputs": [],
   "source": []
  }
 ],
 "metadata": {
  "kernelspec": {
   "display_name": "p36-fastai",
   "language": "python",
   "name": "p36-fastai"
  },
  "language_info": {
   "codemirror_mode": {
    "name": "ipython",
    "version": 3
   },
   "file_extension": ".py",
   "mimetype": "text/x-python",
   "name": "python",
   "nbconvert_exporter": "python",
   "pygments_lexer": "ipython3",
   "version": "3.6.9"
  },
  "toc": {
   "base_numbering": 1,
   "nav_menu": {},
   "number_sections": true,
   "sideBar": true,
   "skip_h1_title": false,
   "title_cell": "Table of Contents",
   "title_sidebar": "Contents",
   "toc_cell": false,
   "toc_position": {},
   "toc_section_display": true,
   "toc_window_display": true
  }
 },
 "nbformat": 4,
 "nbformat_minor": 2
}
