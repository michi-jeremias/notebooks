{
 "cells": [
  {
   "cell_type": "markdown",
   "metadata": {},
   "source": [
    "# PyTorch Linear Regression with custom data generatig process"
   ]
  },
  {
   "cell_type": "code",
   "execution_count": 1,
   "metadata": {},
   "outputs": [],
   "source": [
    "# Import NumPy, PyTorch, torch.nn\n",
    "import torch\n",
    "import numpy as np\n",
    "import torch.nn as nn"
   ]
  },
  {
   "cell_type": "markdown",
   "metadata": {},
   "source": [
    "## Problem statement"
   ]
  },
  {
   "cell_type": "markdown",
   "metadata": {},
   "source": [
    "The model will predict crop yields for 2 different fruits: apples, oranges. The predictions are based on the input variables temperature, rainfall, humidity."
   ]
  },
  {
   "cell_type": "markdown",
   "metadata": {},
   "source": [
    "The data generating process is as follows:\n",
    "* apples = 0.5\\*temperature + 0.5\\*rainfall + 0.2\\*humidity\n",
    "* oranges = 1\\*temperature + 0.2\\*rainfall - 0.1\\*humidity"
   ]
  },
  {
   "cell_type": "code",
   "execution_count": 5,
   "metadata": {},
   "outputs": [],
   "source": [
    "torch.randint??"
   ]
  },
  {
   "cell_type": "code",
   "execution_count": 11,
   "metadata": {},
   "outputs": [
    {
     "data": {
      "text/plain": [
       "tensor([0.4845, 0.1702, 0.7258, 0.8678])"
      ]
     },
     "execution_count": 11,
     "metadata": {},
     "output_type": "execute_result"
    }
   ],
   "source": [
    "torch.rand(4)"
   ]
  },
  {
   "cell_type": "code",
   "execution_count": 57,
   "metadata": {},
   "outputs": [
    {
     "name": "stdout",
     "output_type": "stream",
     "text": [
      "tensor([[31., 54.,  4.],\n",
      "        [58., 15., 60.],\n",
      "        [30., 69., 76.],\n",
      "        [40., 34., 86.],\n",
      "        [47., 74., 43.]])\n"
     ]
    }
   ],
   "source": [
    "# Define input variables\n",
    "temperature = torch.randint(low=20, high=70, size=(100,), requires_grad=False)\n",
    "rainfall = torch.randint(low=0, high=100, size=(100,), requires_grad=False)\n",
    "humidity = torch.randint(low=0, high=100, size=(100,), requires_grad=False)\n",
    "inputs = torch.stack([temperature, rainfall, humidity], 1).type(torch.float32)\n",
    "print(inputs[:5,:])"
   ]
  },
  {
   "cell_type": "code",
   "execution_count": 64,
   "metadata": {},
   "outputs": [
    {
     "name": "stdout",
     "output_type": "stream",
     "text": [
      "tensor([43.3000, 48.5000, 64.7000, 54.2000, 69.1000])\n",
      "tensor([41.4000, 55.0000, 36.2000, 38.2000, 57.5000])\n",
      "tensor([[43.3000, 41.4000],\n",
      "        [48.5000, 55.0000],\n",
      "        [64.7000, 36.2000],\n",
      "        [54.2000, 38.2000],\n",
      "        [69.1000, 57.5000]])\n"
     ]
    }
   ],
   "source": [
    "# Calculate target variables based on DGP\n",
    "apples_coeff = torch.tensor([0.5, 0.5, 0.2])\n",
    "apples = torch.sum(inputs*apples_coeff, dim=1)\n",
    "print(apples[:5])\n",
    "oranges_coeff = torch.tensor([1, 0.2, -0.1])\n",
    "oranges = torch.sum(inputs*oranges_coeff, dim=1)\n",
    "print(oranges[:5])\n",
    "targets = torch.stack([apples, oranges], dim=1).type(torch.float32)\n",
    "print(targets[:5,:])"
   ]
  },
  {
   "cell_type": "markdown",
   "metadata": {},
   "source": [
    "## Dataset, Dataloader"
   ]
  },
  {
   "cell_type": "markdown",
   "metadata": {},
   "source": [
    "We'll create a dataset and a dataloader, which allow us to split the data into batches while training. It also lets us shuffle the data."
   ]
  },
  {
   "cell_type": "code",
   "execution_count": 141,
   "metadata": {},
   "outputs": [],
   "source": [
    "# Import TensorDataset, DataLoader\n",
    "from torch.utils.data import TensorDataset, DataLoader"
   ]
  },
  {
   "cell_type": "code",
   "execution_count": 142,
   "metadata": {},
   "outputs": [
    {
     "data": {
      "text/plain": [
       "(tensor([[31., 54.,  4.],\n",
       "         [58., 15., 60.],\n",
       "         [30., 69., 76.]]), tensor([[43.3000, 41.4000],\n",
       "         [48.5000, 55.0000],\n",
       "         [64.7000, 36.2000]]))"
      ]
     },
     "execution_count": 142,
     "metadata": {},
     "output_type": "execute_result"
    }
   ],
   "source": [
    "train_ds = TensorDataset(inputs, targets)\n",
    "train_ds[:3,:]"
   ]
  },
  {
   "cell_type": "code",
   "execution_count": 153,
   "metadata": {},
   "outputs": [],
   "source": [
    "batch_size = 10\n",
    "train_dl = DataLoader(train_ds, batch_size=batch_size, shuffle=True)"
   ]
  },
  {
   "cell_type": "code",
   "execution_count": 176,
   "metadata": {},
   "outputs": [],
   "source": [
    "# next(iter(train_dl))"
   ]
  },
  {
   "cell_type": "markdown",
   "metadata": {},
   "source": [
    "## SimpleNet"
   ]
  },
  {
   "cell_type": "code",
   "execution_count": 177,
   "metadata": {},
   "outputs": [],
   "source": [
    "class SimpleNet(nn.Module):\n",
    "    def __init__(self):\n",
    "        super().__init__()\n",
    "        self.linear1 = nn.Linear(3, 5)\n",
    "        self.act1 = nn.ReLU()\n",
    "        self.linear2 = nn.Linear(5, 2)\n",
    "        \n",
    "    def forward(self, x):\n",
    "        x = self.linear1(x)\n",
    "        #x = self.act1(x)\n",
    "        x = self.linear2(x)\n",
    "        return x"
   ]
  },
  {
   "cell_type": "code",
   "execution_count": 185,
   "metadata": {},
   "outputs": [],
   "source": [
    "# Instantiate the model\n",
    "model = SimpleNet()"
   ]
  },
  {
   "cell_type": "markdown",
   "metadata": {},
   "source": [
    "## Optimizer"
   ]
  },
  {
   "cell_type": "code",
   "execution_count": 186,
   "metadata": {},
   "outputs": [],
   "source": [
    "# Define optimizer\n",
    "lr = 1e-5\n",
    "opt = torch.optim.SGD(model.parameters(), lr=lr)"
   ]
  },
  {
   "cell_type": "markdown",
   "metadata": {},
   "source": [
    "## Loss function"
   ]
  },
  {
   "cell_type": "code",
   "execution_count": 148,
   "metadata": {},
   "outputs": [],
   "source": [
    "import torch.nn.functional as F"
   ]
  },
  {
   "cell_type": "code",
   "execution_count": 149,
   "metadata": {},
   "outputs": [],
   "source": [
    "loss_fn = F.mse_loss"
   ]
  },
  {
   "cell_type": "code",
   "execution_count": 162,
   "metadata": {},
   "outputs": [],
   "source": [
    "# loss = loss_fn(model(inputs), targets)\n",
    "# print(loss)"
   ]
  },
  {
   "cell_type": "markdown",
   "metadata": {},
   "source": [
    "## Training"
   ]
  },
  {
   "cell_type": "markdown",
   "metadata": {},
   "source": [
    "We define the same function fit as before."
   ]
  },
  {
   "cell_type": "code",
   "execution_count": 204,
   "metadata": {},
   "outputs": [],
   "source": [
    "losses = []\n",
    "def fit(num_epochs, model, loss_fn, opt):    \n",
    "    for epoch in range(num_epochs):\n",
    "        for xb, yb in train_dl:\n",
    "            # Forward            \n",
    "            preds = model(xb)\n",
    "            loss = loss_fn(preds, yb)\n",
    "            losses.append(loss)\n",
    "            \n",
    "            # Gradient descent\n",
    "            loss.backward()\n",
    "            opt.step()\n",
    "            opt.zero_grad()\n",
    "            \n",
    "        if epoch%10==0:\n",
    "            print('Training loss:', loss_fn(model(inputs), targets))"
   ]
  },
  {
   "cell_type": "markdown",
   "metadata": {},
   "source": [
    "The training error should converge quickly to the minimum since we have a perfect linear relationship in the DGP."
   ]
  },
  {
   "cell_type": "code",
   "execution_count": 213,
   "metadata": {},
   "outputs": [
    {
     "name": "stdout",
     "output_type": "stream",
     "text": [
      "Training loss: tensor(0.0151, grad_fn=<MseLossBackward>)\n",
      "Training loss: tensor(0.0151, grad_fn=<MseLossBackward>)\n",
      "Training loss: tensor(0.0151, grad_fn=<MseLossBackward>)\n",
      "Training loss: tensor(0.0151, grad_fn=<MseLossBackward>)\n",
      "Training loss: tensor(0.0151, grad_fn=<MseLossBackward>)\n",
      "Training loss: tensor(0.0151, grad_fn=<MseLossBackward>)\n",
      "Training loss: tensor(0.0151, grad_fn=<MseLossBackward>)\n",
      "Training loss: tensor(0.0151, grad_fn=<MseLossBackward>)\n",
      "Training loss: tensor(0.0150, grad_fn=<MseLossBackward>)\n",
      "Training loss: tensor(0.0151, grad_fn=<MseLossBackward>)\n"
     ]
    }
   ],
   "source": [
    "# Train for 100 epochs\n",
    "#losses = []\n",
    "fit(num_epochs=100, model=model, loss_fn=loss_fn, opt=opt)"
   ]
  },
  {
   "cell_type": "code",
   "execution_count": 206,
   "metadata": {},
   "outputs": [],
   "source": [
    "# Reset the model and optimizer for re-training from zero.\n",
    "model = SimpleNet()\n",
    "opt = torch.optim.SGD(model.parameters(), lr=lr)"
   ]
  },
  {
   "cell_type": "code",
   "execution_count": null,
   "metadata": {},
   "outputs": [],
   "source": [
    "from matplotlib import pyplot as plt"
   ]
  },
  {
   "cell_type": "code",
   "execution_count": 214,
   "metadata": {},
   "outputs": [
    {
     "data": {
      "text/plain": [
       "[<matplotlib.lines.Line2D at 0x1b146a39f60>]"
      ]
     },
     "execution_count": 214,
     "metadata": {},
     "output_type": "execute_result"
    },
    {
     "data": {
      "image/png": "[encoded data removed]",
      "text/plain": [
       "<Figure size 432x288 with 1 Axes>"
      ]
     },
     "metadata": {
      "needs_background": "light"
     },
     "output_type": "display_data"
    }
   ],
   "source": [
    "plt.plot(losses)"
   ]
  },
  {
   "cell_type": "code",
   "execution_count": 215,
   "metadata": {},
   "outputs": [
    {
     "name": "stdout",
     "output_type": "stream",
     "text": [
      "tensor([[43.5506, 41.5015],\n",
      "        [48.4779, 54.9917],\n",
      "        [64.7563, 36.2240],\n",
      "        [54.2249, 38.2111],\n",
      "        [69.0825, 57.4938],\n",
      "        [76.3744, 37.0912],\n",
      "        [72.7191, 36.0092],\n",
      "        [37.3405, 25.3977],\n",
      "        [39.6335, 36.2545],\n",
      "        [48.4628, 53.1857]], grad_fn=<SliceBackward>)\n"
     ]
    }
   ],
   "source": [
    "preds = model(inputs)\n",
    "print(preds[:10])"
   ]
  },
  {
   "cell_type": "code",
   "execution_count": 216,
   "metadata": {},
   "outputs": [
    {
     "name": "stdout",
     "output_type": "stream",
     "text": [
      "tensor([[43.3000, 41.4000],\n",
      "        [48.5000, 55.0000],\n",
      "        [64.7000, 36.2000],\n",
      "        [54.2000, 38.2000],\n",
      "        [69.1000, 57.5000],\n",
      "        [76.4000, 37.1000],\n",
      "        [72.7000, 36.0000],\n",
      "        [37.1000, 25.3000],\n",
      "        [39.5000, 36.2000],\n",
      "        [48.5000, 53.2000]])\n"
     ]
    }
   ],
   "source": [
    "print(targets[:10])"
   ]
  },
  {
   "cell_type": "code",
   "execution_count": null,
   "metadata": {},
   "outputs": [],
   "source": []
  }
 ],
 "metadata": {
  "kernelspec": {
   "display_name": "Python 3.6 fastai 1.0 Cuda 10.0",
   "language": "python",
   "name": "p36-fastai10-cuda100"
  },
  "language_info": {
   "codemirror_mode": {
    "name": "ipython",
    "version": 3
   },
   "file_extension": ".py",
   "mimetype": "text/x-python",
   "name": "python",
   "nbconvert_exporter": "python",
   "pygments_lexer": "ipython3",
   "version": "3.6.8"
  }
 },
 "nbformat": 4,
 "nbformat_minor": 2
}
