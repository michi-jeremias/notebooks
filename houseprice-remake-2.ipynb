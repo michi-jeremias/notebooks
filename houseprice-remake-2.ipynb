{
 "cells": [
  {
   "cell_type": "code",
   "execution_count": 1,
   "metadata": {},
   "outputs": [],
   "source": [
    "%load_ext autoreload\n",
    "%autoreload 2\n",
    "\n",
    "%matplotlib inline"
   ]
  },
  {
   "cell_type": "code",
   "execution_count": null,
   "metadata": {
    "scrolled": true
   },
   "outputs": [],
   "source": [
    "# Learner and Runner\n",
    "from functools import partial\n",
    "from pathlib import Path\n",
    "from torch.nn import init\n",
    "from torch.utils.data import TensorDataset\n",
    "from torch import nn\n",
    "import pandas as pd\n",
    "import torch.nn.functional as F\n",
    "import torch\n",
    "from dltools.callback import AvgStatsCallback, sched_lin, sched_cos, Recorder, ParamScheduler, combine_scheds\n",
    "from dltools.callback import Callback, LearningrateFinder, DeviceCallback, BatchTransformXCallback\n",
    "from dltools.callback import TrainEvalCallback\n",
    "from dltools.functions import activation_stats, create_learner, get_dls, get_model, get_model_func, listify\n",
    "from dltools.functions import normalize, init_lin\n",
    "from dltools.functions import proc_df, normalize_to\n",
    "from dltools.data import TypeSelector\n",
    "from dltools.databunch import DataBunch\n",
    "from dltools.hook import append_stats_hist, Hooks, telemetrize\n",
    "from dltools.layer import lin_layer, lin_bn_layer, GeneralRelu\n",
    "from dltools.learner import flatten, get_lin_model, get_lin_grelu_model, get_learn_run, get_runner, Runner\n",
    "# from dltools.runner import flatten, get_lin_model, get_lin_grelu_model, get_learn_run, get_runner, Runner\n",
    "from dltools.metrics import avg_deviation, rmsle\n",
    "from matplotlib import pyplot as plt"
   ]
  },
  {
   "cell_type": "code",
   "execution_count": 2,
   "metadata": {
    "scrolled": true
   },
   "outputs": [],
   "source": [
    "# Only Learner\n",
    "from functools import partial\n",
    "from pathlib import Path\n",
    "from torch.nn import init\n",
    "from torch.utils.data import TensorDataset\n",
    "from torch import nn\n",
    "import pandas as pd\n",
    "import torch.nn.functional as F\n",
    "import torch\n",
    "from dltools.callback import AvgStatsCallback, sched_lin, sched_cos, Recorder, ParamScheduler, combine_scheds\n",
    "from dltools.callback import Callback, LearningrateFinder, DeviceCallback, BatchTransformXCallback\n",
    "from dltools.callback import TrainEvalCallback\n",
    "from dltools.functions import activation_stats, get_dls, get_model, get_model_func, listify\n",
    "from dltools.functions import normalize, init_lin\n",
    "from dltools.functions import proc_df, normalize_to\n",
    "from dltools.data import TypeSelector\n",
    "from dltools.databunch import DataBunch\n",
    "from dltools.hook import append_stats_hist, Hooks, telemetrize\n",
    "from dltools.layer import lin_layer, lin_bn_layer, GeneralRelu, LinLayer\n",
    "from dltools.learner import flatten, get_lin_model, get_lin_grelu_model# , get_learn_run, get_runner\n",
    "from dltools.metrics import avg_deviation, rmsle\n",
    "from matplotlib import pyplot as plt"
   ]
  },
  {
   "cell_type": "code",
   "execution_count": 3,
   "metadata": {},
   "outputs": [],
   "source": [
    "def get_data():\n",
    "    PATH = Path('../data/houseprice/')\n",
    "    df_train = pd.read_csv(PATH/'train.csv', sep=',', header=0)\n",
    "    df_y = df_train['SalePrice']\n",
    "    df_train.drop(['SalePrice'], axis=1, inplace=True)\n",
    "    df_test = pd.read_csv(PATH/'test.csv', sep=',', header=0)\n",
    "\n",
    "    cat_names = ['MSSubClass', 'MSZoning', 'Street', 'Alley', 'LotShape', 'LandContour', 'Utilities', 'LotConfig',\n",
    "        'LandSlope', 'Neighborhood', 'Condition1', 'Condition2', 'BldgType', 'HouseStyle', 'OverallQual', 'OverallCond',\n",
    "        'RoofStyle', 'RoofMatl', 'Exterior1st', 'Exterior2nd', 'MasVnrType', 'ExterQual', 'ExterCond', 'Foundation',\n",
    "        'BsmtQual', 'BsmtCond', 'BsmtExposure', 'BsmtFinType1', 'BsmtFinType2', 'Heating', 'HeatingQC', 'CentralAir',\n",
    "        'Electrical', 'BsmtFullBath', 'BsmtHalfBath', 'FullBath', 'HalfBath', 'BedroomAbvGr', 'KitchenAbvGr',\n",
    "        'KitchenQual', 'TotRmsAbvGrd', 'Functional', 'Fireplaces', 'FireplaceQu', 'GarageType', 'GarageYrBlt',\n",
    "        'GarageFinish', 'GarageCars', 'GarageQual', 'GarageCond', 'PavedDrive', 'PoolQC', 'Fence', 'MiscFeature',\n",
    "        'MoSold', 'YrSold', 'SaleType', 'SaleCondition']\n",
    "\n",
    "    cont_names = [name for name in df_train.columns if name not in cat_names]\n",
    "    proc_train, proc_test = proc_df(cont_names, cat_names, df_train, df_test)\n",
    "\n",
    "    x_train = torch.tensor(proc_train.values[:1168], dtype=torch.float32)\n",
    "    y_train = torch.tensor(df_y.values[:1168], dtype=torch.float32) #.reshape(-1,1)\n",
    "    x_valid = torch.tensor(proc_train.values[1168:], dtype=torch.float32)\n",
    "    y_valid = torch.tensor(df_y.values[1168:], dtype=torch.float32) #.reshape(-1,1)\n",
    "    x_test = torch.tensor(proc_test.values, dtype=torch.float32)\n",
    "\n",
    "    return (x_train, y_train, x_valid, y_valid, x_test)"
   ]
  },
  {
   "cell_type": "code",
   "execution_count": 4,
   "metadata": {},
   "outputs": [],
   "source": [
    "# !type housepricemanual.py"
   ]
  },
  {
   "cell_type": "code",
   "execution_count": 5,
   "metadata": {},
   "outputs": [],
   "source": [
    "# !dir PATH"
   ]
  },
  {
   "cell_type": "markdown",
   "metadata": {},
   "source": [
    "### Get data"
   ]
  },
  {
   "cell_type": "code",
   "execution_count": 6,
   "metadata": {},
   "outputs": [],
   "source": [
    "torch.set_num_threads(2)"
   ]
  },
  {
   "cell_type": "code",
   "execution_count": 7,
   "metadata": {},
   "outputs": [],
   "source": [
    "x_train, y_train, x_valid, y_valid, x_test = get_data()\n",
    "x_train, x_valid, x_test = normalize_to(x_train, x_valid, x_test)"
   ]
  },
  {
   "cell_type": "code",
   "execution_count": 8,
   "metadata": {},
   "outputs": [
    {
     "data": {
      "text/plain": [
       "(tensor(180590.2812), tensor(78815.6953))"
      ]
     },
     "execution_count": 8,
     "metadata": {},
     "output_type": "execute_result"
    }
   ],
   "source": [
    "y_mean, y_std = y_train.mean(), y_train.std()\n",
    "y_mean, y_std"
   ]
  },
  {
   "cell_type": "code",
   "execution_count": 9,
   "metadata": {},
   "outputs": [
    {
     "data": {
      "text/plain": [
       "(tensor(180590.2812), tensor(78815.6953))"
      ]
     },
     "execution_count": 9,
     "metadata": {},
     "output_type": "execute_result"
    }
   ],
   "source": [
    "# y_train, y_valid = normalize_to(y_train, y_valid)\n",
    "y_train.mean(), y_train.std()"
   ]
  },
  {
   "cell_type": "code",
   "execution_count": 10,
   "metadata": {},
   "outputs": [],
   "source": [
    "train_ds, valid_ds = TensorDataset(x_train, y_train), TensorDataset(x_valid, y_valid)"
   ]
  },
  {
   "cell_type": "code",
   "execution_count": 11,
   "metadata": {},
   "outputs": [
    {
     "data": {
      "text/plain": [
       "(tensor(-1.0473e-07),\n",
       " tensor(1.),\n",
       " tensor(0.0027),\n",
       " tensor(0.8399),\n",
       " tensor(180590.2812),\n",
       " tensor(78815.6953),\n",
       " tensor(182244.8594),\n",
       " tensor(82026.8984))"
      ]
     },
     "execution_count": 11,
     "metadata": {},
     "output_type": "execute_result"
    }
   ],
   "source": [
    "x_train.mean(), x_train.std(), x_valid.mean(), x_valid.std(), y_train.mean(), y_train.std(), y_valid.mean(), y_valid.std()"
   ]
  },
  {
   "cell_type": "code",
   "execution_count": 12,
   "metadata": {},
   "outputs": [],
   "source": [
    "bs = 64\n",
    "loss_func = rmsle\n",
    "c = 1 # Number of output classes\n",
    "data = DataBunch(*get_dls(train_ds, valid_ds, bs), c)"
   ]
  },
  {
   "cell_type": "code",
   "execution_count": 13,
   "metadata": {},
   "outputs": [
    {
     "data": {
      "text/plain": [
       "[160, 80, 40, 20]"
      ]
     },
     "execution_count": 13,
     "metadata": {},
     "output_type": "execute_result"
    }
   ],
   "source": [
    "nh = [160, 80, 40, 20]\n",
    "nh"
   ]
  },
  {
   "cell_type": "code",
   "execution_count": 14,
   "metadata": {},
   "outputs": [],
   "source": [
    "cbfs = [DeviceCallback, Recorder, partial(AvgStatsCallback, avg_deviation)]"
   ]
  },
  {
   "cell_type": "markdown",
   "metadata": {
    "heading_collapsed": true
   },
   "source": [
    "### Init model"
   ]
  },
  {
   "cell_type": "code",
   "execution_count": null,
   "metadata": {
    "hidden": true,
    "scrolled": true
   },
   "outputs": [],
   "source": [
    "model = get_lin_model(data, nh, lin_layer)\n",
    "learn, run = get_runner(model, data, lr=0.25, cbs=cbfs, loss_func = rmsle)"
   ]
  },
  {
   "cell_type": "code",
   "execution_count": null,
   "metadata": {
    "hidden": true
   },
   "outputs": [],
   "source": [
    "x, y = next(iter(data.train_dl))"
   ]
  },
  {
   "cell_type": "code",
   "execution_count": null,
   "metadata": {
    "hidden": true
   },
   "outputs": [],
   "source": [
    "x.mean(), x.std()"
   ]
  },
  {
   "cell_type": "code",
   "execution_count": null,
   "metadata": {
    "hidden": true
   },
   "outputs": [],
   "source": [
    "# mean and std after first layer\n",
    "p = model[0](x)\n",
    "p.mean(), p.std()"
   ]
  },
  {
   "cell_type": "code",
   "execution_count": null,
   "metadata": {
    "hidden": true
   },
   "outputs": [],
   "source": [
    "for l in model:\n",
    "    print(l[0].weight.mean())"
   ]
  },
  {
   "cell_type": "code",
   "execution_count": null,
   "metadata": {
    "hidden": true
   },
   "outputs": [],
   "source": [
    "# init model layers with kaiming\n",
    "for l in model:\n",
    "    if isinstance(l, nn.Sequential):\n",
    "        init.kaiming_normal_(l[0].weight)\n",
    "        l[0].bias.data.zero_()"
   ]
  },
  {
   "cell_type": "code",
   "execution_count": null,
   "metadata": {
    "hidden": true
   },
   "outputs": [],
   "source": [
    "# mean and std after first layer\n",
    "p = model[0](x)\n",
    "p.mean(), p.std()"
   ]
  },
  {
   "cell_type": "markdown",
   "metadata": {
    "heading_collapsed": true
   },
   "source": [
    "### Learning rate finder"
   ]
  },
  {
   "cell_type": "code",
   "execution_count": null,
   "metadata": {
    "hidden": true
   },
   "outputs": [],
   "source": [
    "cbfs = [Recorder, LearningrateFinder]"
   ]
  },
  {
   "cell_type": "code",
   "execution_count": null,
   "metadata": {
    "hidden": true
   },
   "outputs": [],
   "source": [
    "model = get_lin_model(data, nh, lin_layer)"
   ]
  },
  {
   "cell_type": "code",
   "execution_count": null,
   "metadata": {
    "hidden": true
   },
   "outputs": [],
   "source": [
    "for l in model:\n",
    "    if isinstance(l, nn.Sequential):\n",
    "        init.kaiming_normal_(l[0].weight)\n",
    "        l[0].bias.data.zero_()"
   ]
  },
  {
   "cell_type": "code",
   "execution_count": null,
   "metadata": {
    "hidden": true,
    "scrolled": false
   },
   "outputs": [],
   "source": [
    "learn, run = get_runner(model, data, cbs=cbfs, loss_func = rmsle)"
   ]
  },
  {
   "cell_type": "code",
   "execution_count": null,
   "metadata": {
    "hidden": true
   },
   "outputs": [],
   "source": [
    "run.fit(40, learn)"
   ]
  },
  {
   "cell_type": "code",
   "execution_count": null,
   "metadata": {
    "hidden": true
   },
   "outputs": [],
   "source": [
    "run.recorder.plot(skip_last=5)"
   ]
  },
  {
   "cell_type": "code",
   "execution_count": null,
   "metadata": {
    "hidden": true
   },
   "outputs": [],
   "source": [
    "# lr 0.25 looks ok"
   ]
  },
  {
   "cell_type": "code",
   "execution_count": null,
   "metadata": {
    "hidden": true
   },
   "outputs": [],
   "source": [
    "run.recorder.plot_lr()"
   ]
  },
  {
   "cell_type": "markdown",
   "metadata": {
    "heading_collapsed": true
   },
   "source": [
    "### Hook telemetry"
   ]
  },
  {
   "cell_type": "markdown",
   "metadata": {
    "heading_collapsed": true,
    "hidden": true
   },
   "source": [
    "#### Simple loop and plot"
   ]
  },
  {
   "cell_type": "code",
   "execution_count": null,
   "metadata": {
    "hidden": true
   },
   "outputs": [],
   "source": [
    "def get_hist(h):\n",
    "    return torch.stack(h.stats[2]).t().float().log1p()\n",
    "\n",
    "def get_min(h):\n",
    "    h1 = torch.stack(h.stats[2]).t().float()\n",
    "    return h1[:2].sum(0)/h1.sum(0)"
   ]
  },
  {
   "cell_type": "code",
   "execution_count": null,
   "metadata": {
    "hidden": true
   },
   "outputs": [],
   "source": [
    "with Hooks(model, append_stats_hist) as hooks:\n",
    "    run.fit(4, learn)\n",
    "    fig,(ax0,ax1) = plt.subplots(1,2, figsize=(10,4))\n",
    "    for h in hooks:\n",
    "        ms, ss, hist = h.stats\n",
    "        ax0.plot(ms[:10])\n",
    "        ax1.plot(ss[:10])\n",
    "    plt.legend(range(6));\n",
    "    \n",
    "    fig,(ax0,ax1) = plt.subplots(1,2, figsize=(10,4))\n",
    "    for h in hooks:\n",
    "        ms, ss, hist = h.stats\n",
    "        ax0.plot(ms)\n",
    "        ax1.plot(ss)\n",
    "    plt.legend(range(6));"
   ]
  },
  {
   "cell_type": "code",
   "execution_count": null,
   "metadata": {
    "hidden": true
   },
   "outputs": [],
   "source": [
    "fig,axes = plt.subplots(1, 3, figsize=(12, 5))\n",
    "for ax,h in zip(axes.flatten(), hooks[:3]):\n",
    "    ax.imshow(get_hist(h), origin='lower')\n",
    "plt.tight_layout()"
   ]
  },
  {
   "cell_type": "code",
   "execution_count": null,
   "metadata": {
    "hidden": true
   },
   "outputs": [],
   "source": [
    "fig,axes = plt.subplots(1, 3, figsize=(10, 3))\n",
    "for ax,h in zip(axes.flatten(), hooks[:3]):\n",
    "    ax.plot(get_min(h))\n",
    "    ax.set_ylim(0,1)\n",
    "plt.tight_layout()"
   ]
  },
  {
   "cell_type": "code",
   "execution_count": null,
   "metadata": {
    "hidden": true
   },
   "outputs": [],
   "source": [
    "# the activations are so high because of the value range of the dependent variable.\n",
    "# have to try normalizing y\n",
    "# remark: normalizing y makes the gradients explode"
   ]
  },
  {
   "cell_type": "code",
   "execution_count": null,
   "metadata": {
    "hidden": true
   },
   "outputs": [],
   "source": [
    "learn, run = get_runner(get_model_func(0.9), data)"
   ]
  },
  {
   "cell_type": "code",
   "execution_count": null,
   "metadata": {
    "hidden": true
   },
   "outputs": [],
   "source": []
  },
  {
   "cell_type": "code",
   "execution_count": null,
   "metadata": {
    "hidden": true
   },
   "outputs": [],
   "source": []
  },
  {
   "cell_type": "code",
   "execution_count": null,
   "metadata": {
    "hidden": true
   },
   "outputs": [],
   "source": []
  },
  {
   "cell_type": "code",
   "execution_count": null,
   "metadata": {
    "hidden": true
   },
   "outputs": [],
   "source": []
  },
  {
   "cell_type": "code",
   "execution_count": null,
   "metadata": {
    "hidden": true
   },
   "outputs": [],
   "source": [
    "1%4"
   ]
  },
  {
   "cell_type": "markdown",
   "metadata": {
    "heading_collapsed": true,
    "hidden": true
   },
   "source": [
    "#### Histogram, proportion of 0, mean and std development"
   ]
  },
  {
   "cell_type": "code",
   "execution_count": null,
   "metadata": {
    "hidden": true
   },
   "outputs": [],
   "source": [
    "model = get_lin_grelu_model(data, nh, 0.1, [0.4, 0.3, 0.3, 0.3], None, lin_bn_layer, bn=False)\n",
    "# model"
   ]
  },
  {
   "cell_type": "code",
   "execution_count": null,
   "metadata": {
    "hidden": true,
    "scrolled": true
   },
   "outputs": [],
   "source": [
    "learn, run = get_runner(model, data, lr=0.25, cbs=cbfs, loss_func = rmsle)"
   ]
  },
  {
   "cell_type": "code",
   "execution_count": null,
   "metadata": {
    "hidden": true
   },
   "outputs": [],
   "source": [
    "init_lin(model, True)"
   ]
  },
  {
   "cell_type": "code",
   "execution_count": null,
   "metadata": {
    "hidden": true
   },
   "outputs": [],
   "source": [
    "activation_stats(model, data)"
   ]
  },
  {
   "cell_type": "code",
   "execution_count": null,
   "metadata": {
    "hidden": true
   },
   "outputs": [],
   "source": [
    "with Hooks(model, append_stats_hist) as hooks:\n",
    "    run.fit(8, learn)\n",
    "    telemetrize(hooks, xlim=2*len(learn.data.train_ds)//bs)"
   ]
  },
  {
   "cell_type": "markdown",
   "metadata": {
    "heading_collapsed": true
   },
   "source": [
    "### Batchnorm"
   ]
  },
  {
   "cell_type": "markdown",
   "metadata": {
    "heading_collapsed": true,
    "hidden": true
   },
   "source": [
    "#### Batchnorm 1 +++"
   ]
  },
  {
   "cell_type": "code",
   "execution_count": null,
   "metadata": {
    "hidden": true
   },
   "outputs": [],
   "source": [
    "model = get_lin_grelu_model(data, nh, 0.1, [0.4, 0.3, 0.3, 0.3], None, lin_bn_layer, bn=False)"
   ]
  },
  {
   "cell_type": "code",
   "execution_count": null,
   "metadata": {
    "hidden": true,
    "scrolled": false
   },
   "outputs": [],
   "source": [
    "learn, run = get_runner(model, data, lr=0.15, cbs=cbfs, loss_func = rmsle)"
   ]
  },
  {
   "cell_type": "code",
   "execution_count": null,
   "metadata": {
    "hidden": true
   },
   "outputs": [],
   "source": [
    "init_lin(model, True)"
   ]
  },
  {
   "cell_type": "code",
   "execution_count": null,
   "metadata": {
    "hidden": true,
    "scrolled": true
   },
   "outputs": [],
   "source": [
    "activation_stats(model, data)"
   ]
  },
  {
   "cell_type": "code",
   "execution_count": null,
   "metadata": {
    "hidden": true
   },
   "outputs": [],
   "source": [
    "with Hooks(model, append_stats_hist) as hooks:\n",
    "    run.fit(8, learn)\n",
    "    telemetrize(hooks, xlim=2*len(learn.data.train_ds)//bs)"
   ]
  },
  {
   "cell_type": "markdown",
   "metadata": {
    "heading_collapsed": true,
    "hidden": true
   },
   "source": [
    "#### Batchnorm 2"
   ]
  },
  {
   "cell_type": "code",
   "execution_count": null,
   "metadata": {
    "hidden": true
   },
   "outputs": [],
   "source": [
    "model = get_lin_grelu_model(data, nh, 0.0, 0.0, 0.0, lin_bn_layer)\n",
    "model"
   ]
  },
  {
   "cell_type": "code",
   "execution_count": null,
   "metadata": {
    "hidden": true
   },
   "outputs": [],
   "source": [
    "from dltools.layer import GeneralRelu"
   ]
  },
  {
   "cell_type": "code",
   "execution_count": null,
   "metadata": {
    "code_folding": [],
    "hidden": true
   },
   "outputs": [],
   "source": [
    "model1 = nn.Sequential(\n",
    "    nn.Sequential(\n",
    "        nn.Linear(481, 160, False),\n",
    "        GeneralRelu(0., 0., 0.),\n",
    "        nn.BatchNorm1d(160)),\n",
    "    nn.Sequential(\n",
    "        nn.Linear(160, 80, False),\n",
    "        GeneralRelu(0., 0., 0.),\n",
    "        nn.BatchNorm1d(80)),\n",
    "    nn.Sequential(\n",
    "        nn.Linear(80, 40, False),\n",
    "        GeneralRelu(0., 0., 0.),\n",
    "        nn.BatchNorm1d(40)),\n",
    "    nn.Sequential(\n",
    "        nn.Linear(40, 20, False),\n",
    "        GeneralRelu(0., 0., 0.),\n",
    "        nn.BatchNorm1d(20)),\n",
    "    nn.Linear(20, 1, True)\n",
    "    )\n",
    "model1"
   ]
  },
  {
   "cell_type": "code",
   "execution_count": null,
   "metadata": {
    "hidden": true
   },
   "outputs": [],
   "source": [
    "learn, run = get_runner(model1, data, lr=0.25, cbs=cbfs, loss_func = rmsle)"
   ]
  },
  {
   "cell_type": "code",
   "execution_count": null,
   "metadata": {
    "hidden": true
   },
   "outputs": [],
   "source": [
    "with Hooks(model1, append_stats_hist) as hooks:\n",
    "    run.fit(8, learn)\n",
    "    # telemetrize(hooks, xlim=8*len(learn.data.train_ds)//bs)"
   ]
  },
  {
   "cell_type": "markdown",
   "metadata": {
    "heading_collapsed": true,
    "hidden": true
   },
   "source": [
    "#### Batchnorm 3"
   ]
  },
  {
   "cell_type": "code",
   "execution_count": null,
   "metadata": {
    "hidden": true,
    "scrolled": false
   },
   "outputs": [],
   "source": [
    "model = get_lin_grelu_model(data, nh, 0.0, 0.0, None, lin_bn_layer, bn=False)\n",
    "learn, run = get_runner(model, data, lr=0.25, cbs=cbfs, loss_func = rmsle)"
   ]
  },
  {
   "cell_type": "code",
   "execution_count": null,
   "metadata": {
    "hidden": true
   },
   "outputs": [],
   "source": [
    "model"
   ]
  },
  {
   "cell_type": "code",
   "execution_count": null,
   "metadata": {
    "hidden": true
   },
   "outputs": [],
   "source": [
    "init_lin(model, True)"
   ]
  },
  {
   "cell_type": "code",
   "execution_count": null,
   "metadata": {
    "hidden": true,
    "scrolled": true
   },
   "outputs": [],
   "source": [
    "activation_stats(model, data)"
   ]
  },
  {
   "cell_type": "code",
   "execution_count": null,
   "metadata": {
    "hidden": true,
    "scrolled": true
   },
   "outputs": [],
   "source": [
    "with Hooks(model, append_stats_hist) as hooks:\n",
    "    run.fit(8, learn)\n",
    "    # telemetrize(hooks, xlim=2*len(learn.data.train_ds)//bs)"
   ]
  },
  {
   "cell_type": "markdown",
   "metadata": {
    "heading_collapsed": true,
    "hidden": true
   },
   "source": [
    "#### Batchnorm 4 fixing x values below 0"
   ]
  },
  {
   "cell_type": "code",
   "execution_count": null,
   "metadata": {
    "hidden": true
   },
   "outputs": [],
   "source": [
    "x, y = next(iter(data.train_dl))"
   ]
  },
  {
   "cell_type": "code",
   "execution_count": null,
   "metadata": {
    "hidden": true
   },
   "outputs": [],
   "source": [
    "model = get_lin_grelu_model(data, nh, None, [0.4, 0.3, 0.3, 0.3], None, lin_bn_layer, bn=False)"
   ]
  },
  {
   "cell_type": "code",
   "execution_count": null,
   "metadata": {
    "hidden": true
   },
   "outputs": [],
   "source": [
    "model = get_lin_grelu_model(data, nh, None, [0.4, 0.3, 0.3, 0.3], None, lin_bn_layer, bn=True)"
   ]
  },
  {
   "cell_type": "code",
   "execution_count": null,
   "metadata": {
    "hidden": true
   },
   "outputs": [],
   "source": [
    "model = get_lin_grelu_model(data, nh, None, None, None, lin_bn_layer, bn=True)"
   ]
  },
  {
   "cell_type": "code",
   "execution_count": null,
   "metadata": {
    "hidden": true
   },
   "outputs": [],
   "source": [
    "init_lin(model, True)\n",
    "activation_stats(model, data)"
   ]
  },
  {
   "cell_type": "code",
   "execution_count": null,
   "metadata": {
    "hidden": true,
    "scrolled": false
   },
   "outputs": [],
   "source": [
    "#model = get_lin_grelu_model(data, nh, 0.0, 0.0, None, lin_bn_layer, bn=False)\n",
    "learn, run = get_runner(model, data, lr=0.25, cbs=cbfs, loss_func = rmsle)"
   ]
  },
  {
   "cell_type": "code",
   "execution_count": null,
   "metadata": {
    "hidden": true
   },
   "outputs": [],
   "source": [
    "run.fit(8, learn)"
   ]
  },
  {
   "cell_type": "code",
   "execution_count": null,
   "metadata": {
    "hidden": true
   },
   "outputs": [],
   "source": []
  },
  {
   "cell_type": "code",
   "execution_count": null,
   "metadata": {
    "hidden": true
   },
   "outputs": [],
   "source": []
  },
  {
   "cell_type": "code",
   "execution_count": null,
   "metadata": {
    "hidden": true
   },
   "outputs": [],
   "source": []
  },
  {
   "cell_type": "code",
   "execution_count": null,
   "metadata": {
    "hidden": true
   },
   "outputs": [],
   "source": [
    "with Hooks(model, append_stats_hist) as hooks:\n",
    "    run.fit(1, learn)\n",
    "    # telemetrize(hooks, xlim=2*len(learn.data.train_ds)//bs)"
   ]
  },
  {
   "cell_type": "markdown",
   "metadata": {
    "heading_collapsed": true,
    "hidden": true
   },
   "source": [
    "#### Batchnorm 5"
   ]
  },
  {
   "cell_type": "code",
   "execution_count": null,
   "metadata": {
    "hidden": true
   },
   "outputs": [],
   "source": [
    "model = get_lin_grelu_model(data, nh, 0.1, 0., None, lin_bn_layer, bn=True)"
   ]
  },
  {
   "cell_type": "code",
   "execution_count": null,
   "metadata": {
    "hidden": true
   },
   "outputs": [],
   "source": [
    "init_lin(model, True)\n",
    "activation_stats(model, data)"
   ]
  },
  {
   "cell_type": "code",
   "execution_count": null,
   "metadata": {
    "hidden": true,
    "scrolled": false
   },
   "outputs": [],
   "source": [
    "# the high learning rate with batchnorm is critical\n",
    "# after 8 epochs:\n",
    "# train: [0.4737682081248662, tensor(63667.0078)]\n",
    "# valid: [0.45634110333168343, tensor(61536.1641)]\n",
    "learn, run = get_runner(model, data, lr=444.25, cbs=cbfs, loss_func = rmsle)"
   ]
  },
  {
   "cell_type": "code",
   "execution_count": null,
   "metadata": {
    "hidden": true,
    "scrolled": false
   },
   "outputs": [],
   "source": [
    "# the high learning rate with batchnorm is critical\n",
    "# after 4 epochs stable error, results are after 8th epoch:\n",
    "# train: [0.3979055064998261, tensor(55676.5117)]\n",
    "# valid: [0.39154042283149615, tensor(55447.1758)]\n",
    "learn, run = get_runner(model, data, lr=944.25, cbs=cbfs, loss_func = rmsle)"
   ]
  },
  {
   "cell_type": "code",
   "execution_count": null,
   "metadata": {
    "hidden": true
   },
   "outputs": [],
   "source": [
    "run.fit(4, learn)"
   ]
  },
  {
   "cell_type": "code",
   "execution_count": null,
   "metadata": {
    "hidden": true
   },
   "outputs": [],
   "source": [
    "with Hooks(model, append_stats_hist) as hooks:\n",
    "    run.fit(2, learn)\n",
    "    telemetrize(hooks, xlim=2*len(learn.data.train_ds)//bs)"
   ]
  },
  {
   "cell_type": "markdown",
   "metadata": {},
   "source": [
    "### LSUV"
   ]
  },
  {
   "cell_type": "code",
   "execution_count": null,
   "metadata": {},
   "outputs": [],
   "source": [
    "from dltools.runner import get_lin_learn_run\n",
    "from dltools.layer import LinLayer"
   ]
  },
  {
   "cell_type": "code",
   "execution_count": 30,
   "metadata": {},
   "outputs": [],
   "source": [
    "def find_modules(m, cond):\n",
    "    if cond(m):\n",
    "        return [m]\n",
    "    return sum([find_modules(o, cond) for o in m.children()], [])"
   ]
  },
  {
   "cell_type": "code",
   "execution_count": 31,
   "metadata": {},
   "outputs": [],
   "source": [
    "def is_lin_layer(l):\n",
    "    lin_layers = [nn.Conv1d, nn.Conv2d, nn.Conv3d, nn.Linear, nn.ReLU]\n",
    "    return isinstance(l, lin_layers)"
   ]
  },
  {
   "cell_type": "code",
   "execution_count": null,
   "metadata": {
    "scrolled": true
   },
   "outputs": [],
   "source": [
    "model, learn, run = get_lin_learn_run(data=data, nh=nh, lr=0.15, layer=LinLayer, leak=0.0, sub=0.0, maxv=None, cbs=cbfs, loss_func=rmsle, uniform=False)"
   ]
  },
  {
   "cell_type": "code",
   "execution_count": null,
   "metadata": {},
   "outputs": [],
   "source": [
    "model"
   ]
  },
  {
   "cell_type": "code",
   "execution_count": null,
   "metadata": {},
   "outputs": [],
   "source": [
    "def get_batch(dl, run):\n",
    "    run.xb, run.yb = next(iter(dl))\n",
    "    for cb in run.cbs:\n",
    "        cb.set_runner(run)\n",
    "    run('begin_batch')\n",
    "    return run.xb, run.yb"
   ]
  },
  {
   "cell_type": "code",
   "execution_count": null,
   "metadata": {},
   "outputs": [],
   "source": [
    "xb, yb = get_batch(data.train_dl, run)"
   ]
  },
  {
   "cell_type": "code",
   "execution_count": null,
   "metadata": {},
   "outputs": [],
   "source": [
    "mods = find_modules(model, lambda o: isinstance(o, LinLayer))\n",
    "# mods"
   ]
  },
  {
   "cell_type": "code",
   "execution_count": null,
   "metadata": {},
   "outputs": [],
   "source": [
    "def append_stat(hook, mod, inp, outp):\n",
    "    d = outp.data\n",
    "    hook.mean, hook.std = d.mean().item(), d.std().item()"
   ]
  },
  {
   "cell_type": "code",
   "execution_count": null,
   "metadata": {},
   "outputs": [],
   "source": [
    "with Hooks(mods, append_stat) as hooks:\n",
    "    model(xb)\n",
    "    for hook in hooks:        \n",
    "        print(hook.mean, hook.std)"
   ]
  },
  {
   "cell_type": "code",
   "execution_count": null,
   "metadata": {},
   "outputs": [],
   "source": [
    "def lsuv_module(m, xb):\n",
    "    h = Hook(m, append_stat)\n",
    "\n",
    "    while model(xb) is not None and abs(h.mean)  > 1e-3: m.bias -= h.mean\n",
    "    while model(xb) is not None and abs(h.std-1) > 1e-3: m.weight.data /= h.std\n",
    "\n",
    "    h.remove()\n",
    "    return h.mean,h.std"
   ]
  },
  {
   "cell_type": "code",
   "execution_count": null,
   "metadata": {},
   "outputs": [],
   "source": [
    "from dltools.hook import Hook"
   ]
  },
  {
   "cell_type": "code",
   "execution_count": null,
   "metadata": {
    "scrolled": true
   },
   "outputs": [],
   "source": [
    "for m in mods[:-1]:\n",
    "    print(lsuv_module(m, xb))"
   ]
  },
  {
   "cell_type": "code",
   "execution_count": null,
   "metadata": {},
   "outputs": [],
   "source": [
    "with Hooks(model, append_stats_hist) as hooks:\n",
    "    run.fit(8, learn)\n",
    "    telemetrize(hooks, xlim=2*len(learn.data.train_ds)//bs)"
   ]
  },
  {
   "cell_type": "markdown",
   "metadata": {},
   "source": [
    "### No Runner"
   ]
  },
  {
   "cell_type": "code",
   "execution_count": 15,
   "metadata": {},
   "outputs": [],
   "source": [
    "from dltools.learner import Learner, get_lin_learner, get_lin_grelu_model_2\n",
    "from dltools.layer import LinLayer"
   ]
  },
  {
   "cell_type": "code",
   "execution_count": 16,
   "metadata": {},
   "outputs": [
    {
     "name": "stdout",
     "output_type": "stream",
     "text": [
      "self.device: cpu\n"
     ]
    }
   ],
   "source": [
    "learn = get_lin_learner(data, nh, 10, LinLayer, cbfs, loss_func=rmsle, leak=0., sub=0., maxv=None)"
   ]
  },
  {
   "cell_type": "code",
   "execution_count": 17,
   "metadata": {},
   "outputs": [
    {
     "name": "stdout",
     "output_type": "stream",
     "text": [
      "train: [12.028539370184076, tensor(180590.2656)]\n",
      "valid: [12.039039089255137, tensor(182244.8281)]\n",
      "train: [12.028506762360873, tensor(180590.2812)]\n",
      "valid: [12.039039089255137, tensor(182244.8281)]\n"
     ]
    }
   ],
   "source": [
    "learn.fit(2)"
   ]
  },
  {
   "cell_type": "markdown",
   "metadata": {},
   "source": [
    "#### LSUV"
   ]
  },
  {
   "cell_type": "code",
   "execution_count": 22,
   "metadata": {},
   "outputs": [],
   "source": [
    "def get_batch(dl, learn):\n",
    "    learn.xb, learn.yb = next(iter(dl))\n",
    "    for cb in learn.cbs:\n",
    "        cb.set_learner(learn)\n",
    "    learn('begin_batch')\n",
    "    return learn.xb, learn.yb"
   ]
  },
  {
   "cell_type": "code",
   "execution_count": 28,
   "metadata": {},
   "outputs": [],
   "source": [
    "xb, yb = get_batch(data.train_dl, learn)"
   ]
  },
  {
   "cell_type": "code",
   "execution_count": 33,
   "metadata": {},
   "outputs": [],
   "source": [
    "mods = find_modules(learn.model, lambda o: isinstance(o, LinLayer))\n",
    "# mods"
   ]
  },
  {
   "cell_type": "code",
   "execution_count": 35,
   "metadata": {},
   "outputs": [],
   "source": [
    "def append_stat(hook, mod, inp, outp):\n",
    "    d = outp.data\n",
    "    hook.mean, hook.std = d.mean().item(), d.std().item()"
   ]
  },
  {
   "cell_type": "code",
   "execution_count": 36,
   "metadata": {},
   "outputs": [
    {
     "name": "stdout",
     "output_type": "stream",
     "text": [
      "0.13332512974739075 0.23865407705307007\n",
      "0.060978006571531296 0.0858495756983757\n",
      "0.03256557509303093 0.03985720872879028\n",
      "0.029222656041383743 0.05422508716583252\n",
      "0.0 0.0\n"
     ]
    }
   ],
   "source": [
    "with Hooks(mods, append_stat) as hooks:\n",
    "    learn.model(xb)\n",
    "    for hook in hooks:        \n",
    "        print(hook.mean, hook.std)"
   ]
  },
  {
   "cell_type": "code",
   "execution_count": 41,
   "metadata": {},
   "outputs": [],
   "source": [
    "def lsuv_module(m, xb):\n",
    "    h = Hook(m, append_stat)\n",
    "\n",
    "    while learn.model(xb) is not None and abs(h.mean)  > 1e-3: m.bias -= h.mean\n",
    "    while learn.model(xb) is not None and abs(h.std-1) > 1e-3: m.weight.data /= h.std\n",
    "\n",
    "    h.remove()\n",
    "    return h.mean,h.std"
   ]
  },
  {
   "cell_type": "code",
   "execution_count": 42,
   "metadata": {},
   "outputs": [],
   "source": [
    "from dltools.hook import Hook"
   ]
  },
  {
   "cell_type": "code",
   "execution_count": 43,
   "metadata": {
    "scrolled": true
   },
   "outputs": [
    {
     "name": "stdout",
     "output_type": "stream",
     "text": [
      "(0.4223702847957611, 0.9999956488609314)\n",
      "(0.45046037435531616, 0.9999880790710449)\n",
      "(0.47069159150123596, 0.999997079372406)\n",
      "(0.4180591106414795, 0.9998639822006226)\n"
     ]
    }
   ],
   "source": [
    "for m in mods[:-1]:\n",
    "    print(lsuv_module(m, xb))"
   ]
  },
  {
   "cell_type": "code",
   "execution_count": 46,
   "metadata": {},
   "outputs": [
    {
     "name": "stdout",
     "output_type": "stream",
     "text": [
      "train: [1.511495198289009, tensor(112061.6953)]\n",
      "valid: [0.6519706935098727, tensor(81532.4219)]\n",
      "train: [0.620094508340914, tensor(97199.1172)]\n",
      "valid: [0.5999212395654966, tensor(102615.8984)]\n",
      "train: [0.5927567155393836, tensor(91936.6250)]\n",
      "valid: [0.6603548232823202, tensor(84543.2969)]\n",
      "train: [0.6377376399628104, tensor(102701.3125)]\n",
      "valid: [0.5760660563429741, tensor(96513.4062)]\n",
      "train: [0.6031755421259631, tensor(94736.4453)]\n",
      "valid: [0.5482043958690068, tensor(72400.7422)]\n",
      "train: [0.6149942580967733, tensor(98381.2812)]\n",
      "valid: [0.6311909401253478, tensor(111078.1250)]\n",
      "train: [0.5301574811543504, tensor(82384.1641)]\n",
      "valid: [0.5097431026092948, tensor(67848.8203)]\n",
      "train: [0.5976447536520761, tensor(94824.0625)]\n",
      "valid: [0.447128661691326, tensor(66981.5859)]\n"
     ]
    },
    {
     "data": {
      "image/png": "[encoded data removed]",
      "text/plain": [
       "<Figure size 1080x432 with 4 Axes>"
      ]
     },
     "metadata": {
      "needs_background": "light"
     },
     "output_type": "display_data"
    },
    {
     "data": {
      "image/png": "[encoded data removed]",
      "text/plain": [
       "<Figure size 1224x432 with 4 Axes>"
      ]
     },
     "metadata": {
      "needs_background": "light"
     },
     "output_type": "display_data"
    },
    {
     "data": {
      "image/png": "[encoded data removed]",
      "text/plain": [
       "<Figure size 1224x288 with 2 Axes>"
      ]
     },
     "metadata": {
      "needs_background": "light"
     },
     "output_type": "display_data"
    },
    {
     "data": {
      "image/png": "[encoded data removed]",
      "text/plain": [
       "<Figure size 1224x288 with 2 Axes>"
      ]
     },
     "metadata": {
      "needs_background": "light"
     },
     "output_type": "display_data"
    }
   ],
   "source": [
    "with Hooks(learn.model, append_stats_hist) as hooks:\n",
    "    learn.fit(8)\n",
    "    telemetrize(hooks, xlim=2*len(learn.data.train_ds)//bs)"
   ]
  },
  {
   "cell_type": "code",
   "execution_count": null,
   "metadata": {},
   "outputs": [],
   "source": []
  },
  {
   "cell_type": "code",
   "execution_count": null,
   "metadata": {},
   "outputs": [],
   "source": []
  },
  {
   "cell_type": "markdown",
   "metadata": {
    "heading_collapsed": true
   },
   "source": [
    "### Scheduler"
   ]
  },
  {
   "cell_type": "markdown",
   "metadata": {},
   "source": [
    "### Test export"
   ]
  },
  {
   "cell_type": "code",
   "execution_count": null,
   "metadata": {},
   "outputs": [],
   "source": [
    "with torch.no_grad():\n",
    "    model.eval()\n",
    "    pred = model(x_test)\n",
    "    model.train()"
   ]
  },
  {
   "cell_type": "code",
   "execution_count": null,
   "metadata": {},
   "outputs": [],
   "source": [
    "pred = model(x_test)"
   ]
  },
  {
   "cell_type": "code",
   "execution_count": null,
   "metadata": {},
   "outputs": [],
   "source": [
    "pred"
   ]
  },
  {
   "cell_type": "code",
   "execution_count": null,
   "metadata": {},
   "outputs": [],
   "source": [
    "PATH = Path('../data/houseprice/')\n",
    "# !dir {PATH}  # Windows\n",
    "# !ls {PATH}"
   ]
  },
  {
   "cell_type": "code",
   "execution_count": null,
   "metadata": {},
   "outputs": [],
   "source": [
    "out = 'submission.csv'\n",
    "with open(PATH/out, 'w') as f:\n",
    "    f.write('Id,SalePrice\\n')\n",
    "    for e, p in enumerate(pred, start=1461):\n",
    "        f.write(f'{e},{p.item()}\\n')"
   ]
  },
  {
   "cell_type": "code",
   "execution_count": null,
   "metadata": {},
   "outputs": [],
   "source": [
    "sched = combine_scheds([0.3, 0.7], [sched_lin(0.6, 2.), sched_lin(2., 0.1)]) "
   ]
  },
  {
   "cell_type": "code",
   "execution_count": null,
   "metadata": {},
   "outputs": [],
   "source": [
    "cbfs = [DeviceCallback, Recorder, partial(AvgStatsCallback, avg_deviation), partial(ParamScheduler,'lr', sched)]"
   ]
  },
  {
   "cell_type": "markdown",
   "metadata": {
    "heading_collapsed": true
   },
   "source": [
    "#### Setup 1"
   ]
  },
  {
   "cell_type": "code",
   "execution_count": null,
   "metadata": {
    "hidden": true
   },
   "outputs": [],
   "source": [
    "learn, run = get_runner(model, data, lr=0.25, cbs=cbfs, loss_func = rmsle)"
   ]
  },
  {
   "cell_type": "code",
   "execution_count": null,
   "metadata": {
    "hidden": true
   },
   "outputs": [],
   "source": [
    "init_lin(model, True)"
   ]
  },
  {
   "cell_type": "code",
   "execution_count": null,
   "metadata": {
    "hidden": true
   },
   "outputs": [],
   "source": [
    "run.fit(8, learn)"
   ]
  },
  {
   "cell_type": "markdown",
   "metadata": {
    "heading_collapsed": true
   },
   "source": [
    "#### Setup 2"
   ]
  },
  {
   "cell_type": "code",
   "execution_count": null,
   "metadata": {
    "hidden": true
   },
   "outputs": [],
   "source": [
    "learn, run = get_runner(model, data, lr=0.5, cbs=cbfs, loss_func = rmsle)"
   ]
  },
  {
   "cell_type": "code",
   "execution_count": null,
   "metadata": {
    "hidden": true
   },
   "outputs": [],
   "source": [
    "init_lin(model, True)"
   ]
  },
  {
   "cell_type": "code",
   "execution_count": null,
   "metadata": {
    "hidden": true
   },
   "outputs": [],
   "source": [
    "run.fit(8, learn)"
   ]
  },
  {
   "cell_type": "markdown",
   "metadata": {},
   "source": [
    "#### Setup 3"
   ]
  },
  {
   "cell_type": "code",
   "execution_count": null,
   "metadata": {},
   "outputs": [],
   "source": []
  }
 ],
 "metadata": {
  "kernelspec": {
   "display_name": "p36-fastai",
   "language": "python",
   "name": "p36-fastai"
  },
  "language_info": {
   "codemirror_mode": {
    "name": "ipython",
    "version": 3
   },
   "file_extension": ".py",
   "mimetype": "text/x-python",
   "name": "python",
   "nbconvert_exporter": "python",
   "pygments_lexer": "ipython3",
   "version": "3.6.9"
  },
  "toc": {
   "base_numbering": 1,
   "nav_menu": {},
   "number_sections": true,
   "sideBar": true,
   "skip_h1_title": false,
   "title_cell": "Table of Contents",
   "title_sidebar": "Contents",
   "toc_cell": false,
   "toc_position": {},
   "toc_section_display": true,
   "toc_window_display": false
  }
 },
 "nbformat": 4,
 "nbformat_minor": 2
}
